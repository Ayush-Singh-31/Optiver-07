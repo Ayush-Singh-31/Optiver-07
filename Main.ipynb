{
 "cells": [
  {
   "cell_type": "markdown",
   "metadata": {},
   "source": [
    "# **DATA3888 Project: Optiver**"
   ]
  },
  {
   "cell_type": "code",
   "execution_count": 1,
   "metadata": {},
   "outputs": [],
   "source": [
    "import pandas as pd\n",
    "import numpy as np\n",
    "import matplotlib.pyplot as plt\n",
    "import polars as pl\n",
    "from glob import glob\n",
    "from sklearn.decomposition import PCA\n",
    "from sklearn.preprocessing  import StandardScaler\n",
    "import os\n",
    "import lightgbm as lgb\n",
    "from sklearn.metrics import root_mean_squared_error, mean_absolute_error, r2_score\n",
    "import matplotlib.pyplot as plt"
   ]
  },
  {
   "cell_type": "markdown",
   "metadata": {},
   "source": [
    "## **1. Combining CSVs**"
   ]
  },
  {
   "cell_type": "code",
   "execution_count": 8,
   "metadata": {},
   "outputs": [],
   "source": [
    "csv_files = sorted(glob(\"Data/individual_book_train/*.csv\"))\n",
    "\n",
    "ldf = pl.scan_csv(\n",
    "    csv_files,\n",
    "    schema_overrides={         \n",
    "        'time_id': pl.Int64,\n",
    "        'seconds_in_bucket': pl.Int64,\n",
    "        'bid_price1': pl.Float64,\n",
    "        'ask_price1': pl.Float64,\n",
    "        'bid_price2': pl.Float64,\n",
    "        'ask_price2': pl.Float64,\n",
    "        'bid_size1': pl.Int64,\n",
    "        'ask_size1': pl.Int64,\n",
    "        'bid_size2': pl.Int64,\n",
    "        'ask_size2': pl.Int64,\n",
    "        'stock_id': pl.Int64,\n",
    "    },\n",
    "    infer_schema_length=0\n",
    ")\n",
    "\n",
    "# df = ldf.collect()  \n",
    "# df.write_parquet(\"Data/Combined_book_train.parquet\", compression=\"snappy\")"
   ]
  },
  {
   "cell_type": "code",
   "execution_count": null,
   "metadata": {},
   "outputs": [],
   "source": [
    "df = pl.read_parquet(\n",
    "    \"Data/Combined_book_train.parquet\",\n",
    "    use_pyarrow=True  \n",
    ")"
   ]
  },
  {
   "cell_type": "code",
   "execution_count": null,
   "metadata": {},
   "outputs": [],
   "source": [
    "df = df.to_pandas()"
   ]
  },
  {
   "cell_type": "code",
   "execution_count": null,
   "metadata": {},
   "outputs": [
    {
     "data": {
      "text/plain": [
       "194.9648067758992"
      ]
     },
     "execution_count": 10,
     "metadata": {},
     "output_type": "execute_result"
    }
   ],
   "source": [
    "df.shape[0]/857864"
   ]
  },
  {
   "cell_type": "code",
   "execution_count": null,
   "metadata": {},
   "outputs": [],
   "source": [
    "window_size = 300   \n",
    "df['window_start'] = (df['seconds_in_bucket'] // window_size) * window_size\n",
    "\n",
    "agg = (\n",
    "    df\n",
    "    .groupby(['stock_id', 'time_id', 'window_start'], as_index=False)\n",
    "    .agg({\n",
    "        'bid_price1':  'mean',\n",
    "        'ask_price1':  'mean',\n",
    "        'bid_price2':  'mean',\n",
    "        'ask_price2':  'mean',\n",
    "        'bid_size1':   'sum',\n",
    "        'ask_size1':   'sum',\n",
    "        'bid_size2':   'sum',\n",
    "        'ask_size2':   'sum',\n",
    "    })\n",
    ")\n",
    "\n",
    "agg['seconds_in_bucket'] = agg['window_start']"
   ]
  },
  {
   "cell_type": "code",
   "execution_count": null,
   "metadata": {},
   "outputs": [
    {
     "data": {
      "text/plain": [
       "857864"
      ]
     },
     "execution_count": 8,
     "metadata": {},
     "output_type": "execute_result"
    }
   ],
   "source": [
    "agg.shape[0]"
   ]
  },
  {
   "cell_type": "code",
   "execution_count": null,
   "metadata": {},
   "outputs": [
    {
     "data": {
      "text/plain": [
       "array([  0,   1,   2,   3,   4,   5,   6,   7,   8,   9,  10,  11,  13,\n",
       "        14,  15,  16,  17,  18,  19,  20,  21,  22,  23,  26,  27,  28,\n",
       "        29,  30,  31,  32,  33,  34,  35,  36,  37,  38,  39,  40,  41,\n",
       "        42,  43,  44,  46,  47,  48,  50,  51,  52,  53,  55,  56,  58,\n",
       "        59,  60,  61,  62,  63,  64,  66,  67,  68,  69,  70,  72,  73,\n",
       "        74,  75,  76,  77,  78,  80,  81,  82,  83,  84,  85,  86,  87,\n",
       "        88,  89,  90,  93,  94,  95,  96,  97,  98,  99, 100, 101, 102,\n",
       "       103, 104, 105, 107, 108, 109, 110, 111, 112, 113, 114, 115, 116,\n",
       "       118, 119, 120, 122, 123, 124, 125, 126])"
      ]
     },
     "execution_count": 26,
     "metadata": {},
     "output_type": "execute_result"
    }
   ],
   "source": [
    "agg[\"stock_id\"].unique()"
   ]
  },
  {
   "cell_type": "code",
   "execution_count": null,
   "metadata": {},
   "outputs": [
    {
     "name": "stdout",
     "output_type": "stream",
     "text": [
      "[32, 31, 77, 43, 29, 41, 108, 111, 47, 124, 46, 35, 119, 44, 125, 69, 21, 13, 86, 99, 63, 123, 14, 10, 120, 85, 105, 89, 74, 50]\n"
     ]
    }
   ],
   "source": [
    "summary = (agg\n",
    "    .groupby('stock_id')\n",
    "    .agg(\n",
    "        avg_bid_size1   = ('bid_size1', 'mean'),\n",
    "        avg_ask_size1   = ('ask_size1', 'mean'),\n",
    "        avg_bid_size2   = ('bid_size2', 'mean'),\n",
    "        avg_ask_size2   = ('ask_size2', 'mean'),\n",
    "        avg_bid_price1  = ('bid_price1','mean'),\n",
    "        avg_ask_price1  = ('ask_price1','mean'),\n",
    "    )\n",
    ")\n",
    "\n",
    "summary['spread']    = summary['avg_ask_price1'] - summary['avg_bid_price1']\n",
    "summary['depth']     = summary[['avg_bid_size1','avg_ask_size1','avg_bid_size2','avg_ask_size2']].mean(axis=1)\n",
    "summary['liq_score'] = summary['depth'] / summary['spread']\n",
    "\n",
    "k = 30\n",
    "top_liquid = summary.nlargest(k, 'liq_score').index.tolist()\n",
    "print(top_liquid)"
   ]
  },
  {
   "cell_type": "code",
   "execution_count": null,
   "metadata": {},
   "outputs": [
    {
     "name": "stdout",
     "output_type": "stream",
     "text": [
      "[1, 3, 6, 8, 9, 11, 16, 18, 27, 31, 33, 44, 56, 62, 63, 74, 75, 80, 81, 83, 88, 89, 90, 94, 97, 100, 112, 124]\n"
     ]
    }
   ],
   "source": [
    "df1 = agg.copy()\n",
    "\n",
    "df1['mid'] = (df1['bid_price1'] + df1['ask_price1']) / 2\n",
    "df1 = df1.sort_values(['stock_id','time_id','seconds_in_bucket'])\n",
    "df1['mid_prev'] = df1.groupby('stock_id')['mid'].shift(1)\n",
    "df1['ret']     = np.log(df1['mid'] / df1['mid_prev'])\n",
    "\n",
    "vol = df1.groupby('stock_id')['ret'].var().rename('ret_var')\n",
    "\n",
    "threshold = vol.quantile(0.75)\n",
    "high_vol = vol[vol > threshold].index.tolist()\n",
    "print(high_vol)"
   ]
  },
  {
   "cell_type": "code",
   "execution_count": null,
   "metadata": {},
   "outputs": [
    {
     "name": "stdout",
     "output_type": "stream",
     "text": [
      "[31, 32, 77, 108, 41, 43, 29, 111, 47, 35, 37, 33, 98, 5, 103, 112, 18, 75, 4, 27, 30, 0, 88, 16, 62, 116, 113, 110, 126, 90]\n"
     ]
    }
   ],
   "source": [
    "summary = summary.join(vol)\n",
    "\n",
    "X = StandardScaler().fit_transform(summary)\n",
    "pca = PCA(n_components=2).fit(X)\n",
    "scores = pca.transform(X)   \n",
    "\n",
    "pc1_scores = pd.Series(np.abs(scores[:,0]), index=summary.index)\n",
    "top_pca = pc1_scores.nlargest(30).index.tolist()\n",
    "print(top_pca)"
   ]
  },
  {
   "cell_type": "code",
   "execution_count": null,
   "metadata": {},
   "outputs": [],
   "source": [
    "main_df = df[df['stock_id'].isin(top_pca)]"
   ]
  },
  {
   "cell_type": "code",
   "execution_count": null,
   "metadata": {},
   "outputs": [
    {
     "data": {
      "text/html": [
       "<div>\n",
       "<style scoped>\n",
       "    .dataframe tbody tr th:only-of-type {\n",
       "        vertical-align: middle;\n",
       "    }\n",
       "\n",
       "    .dataframe tbody tr th {\n",
       "        vertical-align: top;\n",
       "    }\n",
       "\n",
       "    .dataframe thead th {\n",
       "        text-align: right;\n",
       "    }\n",
       "</style>\n",
       "<table border=\"1\" class=\"dataframe\">\n",
       "  <thead>\n",
       "    <tr style=\"text-align: right;\">\n",
       "      <th></th>\n",
       "      <th>time_id</th>\n",
       "      <th>seconds_in_bucket</th>\n",
       "      <th>bid_price1</th>\n",
       "      <th>ask_price1</th>\n",
       "      <th>bid_price2</th>\n",
       "      <th>ask_price2</th>\n",
       "      <th>bid_size1</th>\n",
       "      <th>ask_size1</th>\n",
       "      <th>bid_size2</th>\n",
       "      <th>ask_size2</th>\n",
       "      <th>stock_id</th>\n",
       "      <th>window_start</th>\n",
       "    </tr>\n",
       "  </thead>\n",
       "  <tbody>\n",
       "    <tr>\n",
       "      <th>0</th>\n",
       "      <td>5</td>\n",
       "      <td>0</td>\n",
       "      <td>1.001422</td>\n",
       "      <td>1.002301</td>\n",
       "      <td>1.001370</td>\n",
       "      <td>1.002353</td>\n",
       "      <td>3</td>\n",
       "      <td>226</td>\n",
       "      <td>2</td>\n",
       "      <td>100</td>\n",
       "      <td>0</td>\n",
       "      <td>0</td>\n",
       "    </tr>\n",
       "    <tr>\n",
       "      <th>1</th>\n",
       "      <td>5</td>\n",
       "      <td>1</td>\n",
       "      <td>1.001422</td>\n",
       "      <td>1.002301</td>\n",
       "      <td>1.001370</td>\n",
       "      <td>1.002353</td>\n",
       "      <td>3</td>\n",
       "      <td>100</td>\n",
       "      <td>2</td>\n",
       "      <td>100</td>\n",
       "      <td>0</td>\n",
       "      <td>0</td>\n",
       "    </tr>\n",
       "    <tr>\n",
       "      <th>2</th>\n",
       "      <td>5</td>\n",
       "      <td>5</td>\n",
       "      <td>1.001422</td>\n",
       "      <td>1.002301</td>\n",
       "      <td>1.001370</td>\n",
       "      <td>1.002405</td>\n",
       "      <td>3</td>\n",
       "      <td>100</td>\n",
       "      <td>2</td>\n",
       "      <td>100</td>\n",
       "      <td>0</td>\n",
       "      <td>0</td>\n",
       "    </tr>\n",
       "    <tr>\n",
       "      <th>3</th>\n",
       "      <td>5</td>\n",
       "      <td>6</td>\n",
       "      <td>1.001422</td>\n",
       "      <td>1.002301</td>\n",
       "      <td>1.001370</td>\n",
       "      <td>1.002405</td>\n",
       "      <td>3</td>\n",
       "      <td>126</td>\n",
       "      <td>2</td>\n",
       "      <td>100</td>\n",
       "      <td>0</td>\n",
       "      <td>0</td>\n",
       "    </tr>\n",
       "    <tr>\n",
       "      <th>4</th>\n",
       "      <td>5</td>\n",
       "      <td>7</td>\n",
       "      <td>1.001422</td>\n",
       "      <td>1.002301</td>\n",
       "      <td>1.001370</td>\n",
       "      <td>1.002405</td>\n",
       "      <td>3</td>\n",
       "      <td>126</td>\n",
       "      <td>2</td>\n",
       "      <td>100</td>\n",
       "      <td>0</td>\n",
       "      <td>0</td>\n",
       "    </tr>\n",
       "    <tr>\n",
       "      <th>...</th>\n",
       "      <td>...</td>\n",
       "      <td>...</td>\n",
       "      <td>...</td>\n",
       "      <td>...</td>\n",
       "      <td>...</td>\n",
       "      <td>...</td>\n",
       "      <td>...</td>\n",
       "      <td>...</td>\n",
       "      <td>...</td>\n",
       "      <td>...</td>\n",
       "      <td>...</td>\n",
       "      <td>...</td>\n",
       "    </tr>\n",
       "    <tr>\n",
       "      <th>165425983</th>\n",
       "      <td>32767</td>\n",
       "      <td>575</td>\n",
       "      <td>1.000330</td>\n",
       "      <td>1.001253</td>\n",
       "      <td>1.000308</td>\n",
       "      <td>1.001319</td>\n",
       "      <td>90</td>\n",
       "      <td>76</td>\n",
       "      <td>23</td>\n",
       "      <td>153</td>\n",
       "      <td>98</td>\n",
       "      <td>300</td>\n",
       "    </tr>\n",
       "    <tr>\n",
       "      <th>165425984</th>\n",
       "      <td>32767</td>\n",
       "      <td>577</td>\n",
       "      <td>1.000330</td>\n",
       "      <td>1.001253</td>\n",
       "      <td>1.000308</td>\n",
       "      <td>1.001319</td>\n",
       "      <td>90</td>\n",
       "      <td>76</td>\n",
       "      <td>2</td>\n",
       "      <td>153</td>\n",
       "      <td>98</td>\n",
       "      <td>300</td>\n",
       "    </tr>\n",
       "    <tr>\n",
       "      <th>165425985</th>\n",
       "      <td>32767</td>\n",
       "      <td>581</td>\n",
       "      <td>1.000330</td>\n",
       "      <td>1.001253</td>\n",
       "      <td>1.000308</td>\n",
       "      <td>1.001319</td>\n",
       "      <td>90</td>\n",
       "      <td>91</td>\n",
       "      <td>2</td>\n",
       "      <td>153</td>\n",
       "      <td>98</td>\n",
       "      <td>300</td>\n",
       "    </tr>\n",
       "    <tr>\n",
       "      <th>165425986</th>\n",
       "      <td>32767</td>\n",
       "      <td>591</td>\n",
       "      <td>1.000330</td>\n",
       "      <td>1.001253</td>\n",
       "      <td>1.000308</td>\n",
       "      <td>1.001319</td>\n",
       "      <td>90</td>\n",
       "      <td>91</td>\n",
       "      <td>2</td>\n",
       "      <td>166</td>\n",
       "      <td>98</td>\n",
       "      <td>300</td>\n",
       "    </tr>\n",
       "    <tr>\n",
       "      <th>165425987</th>\n",
       "      <td>32767</td>\n",
       "      <td>595</td>\n",
       "      <td>1.000330</td>\n",
       "      <td>1.001297</td>\n",
       "      <td>1.000308</td>\n",
       "      <td>1.001319</td>\n",
       "      <td>111</td>\n",
       "      <td>90</td>\n",
       "      <td>2</td>\n",
       "      <td>152</td>\n",
       "      <td>98</td>\n",
       "      <td>300</td>\n",
       "    </tr>\n",
       "  </tbody>\n",
       "</table>\n",
       "<p>41301494 rows × 12 columns</p>\n",
       "</div>"
      ],
      "text/plain": [
       "           time_id  seconds_in_bucket  bid_price1  ask_price1  bid_price2  \\\n",
       "0                5                  0    1.001422    1.002301    1.001370   \n",
       "1                5                  1    1.001422    1.002301    1.001370   \n",
       "2                5                  5    1.001422    1.002301    1.001370   \n",
       "3                5                  6    1.001422    1.002301    1.001370   \n",
       "4                5                  7    1.001422    1.002301    1.001370   \n",
       "...            ...                ...         ...         ...         ...   \n",
       "165425983    32767                575    1.000330    1.001253    1.000308   \n",
       "165425984    32767                577    1.000330    1.001253    1.000308   \n",
       "165425985    32767                581    1.000330    1.001253    1.000308   \n",
       "165425986    32767                591    1.000330    1.001253    1.000308   \n",
       "165425987    32767                595    1.000330    1.001297    1.000308   \n",
       "\n",
       "           ask_price2  bid_size1  ask_size1  bid_size2  ask_size2  stock_id  \\\n",
       "0            1.002353          3        226          2        100         0   \n",
       "1            1.002353          3        100          2        100         0   \n",
       "2            1.002405          3        100          2        100         0   \n",
       "3            1.002405          3        126          2        100         0   \n",
       "4            1.002405          3        126          2        100         0   \n",
       "...               ...        ...        ...        ...        ...       ...   \n",
       "165425983    1.001319         90         76         23        153        98   \n",
       "165425984    1.001319         90         76          2        153        98   \n",
       "165425985    1.001319         90         91          2        153        98   \n",
       "165425986    1.001319         90         91          2        166        98   \n",
       "165425987    1.001319        111         90          2        152        98   \n",
       "\n",
       "           window_start  \n",
       "0                     0  \n",
       "1                     0  \n",
       "2                     0  \n",
       "3                     0  \n",
       "4                     0  \n",
       "...                 ...  \n",
       "165425983           300  \n",
       "165425984           300  \n",
       "165425985           300  \n",
       "165425986           300  \n",
       "165425987           300  \n",
       "\n",
       "[41301494 rows x 12 columns]"
      ]
     },
     "execution_count": 31,
     "metadata": {},
     "output_type": "execute_result"
    }
   ],
   "source": [
    "main_df"
   ]
  },
  {
   "cell_type": "markdown",
   "metadata": {},
   "source": [
    "### **1.1 Pipeline**"
   ]
  },
  {
   "cell_type": "code",
   "execution_count": 23,
   "metadata": {},
   "outputs": [],
   "source": [
    "def make_main_df(csvPath: str, keepData: bool = True) -> pd.DataFrame:\n",
    "    # Step 1: Load CSV files\n",
    "    csv_files = sorted(glob(\"/Users/tobitlouis/Desktop/Data/individual_book_train/*.csv\"))\n",
    "    csv_files = filter_valid_csvs(csv_files, expected_cols=11)\n",
    "\n",
    "\n",
    "    # Define strict schema to avoid schema mismatch errors\n",
    "    schema = {\n",
    "        'time_id': pl.Int64,\n",
    "        'seconds_in_bucket': pl.Int64,\n",
    "        'bid_price1': pl.Float64,\n",
    "        'ask_price1': pl.Float64,\n",
    "        'bid_price2': pl.Float64,\n",
    "        'ask_price2': pl.Float64,\n",
    "        'bid_size1': pl.Int64,\n",
    "        'ask_size1': pl.Int64,\n",
    "        'bid_size2': pl.Int64,\n",
    "        'ask_size2': pl.Int64,\n",
    "        'stock_id': pl.Int64,\n",
    "    }\n",
    "\n",
    "    # Load lazily with strict schema and no inference\n",
    "    ldf = pl.scan_csv(\n",
    "        csv_files,\n",
    "        schema=schema,\n",
    "        skip_rows_after_header=0,\n",
    "        infer_schema_length=None,\n",
    "        has_header=True\n",
    "    )\n",
    "\n",
    "    # Collect into a single DataFrame\n",
    "    df = ldf.collect()\n",
    "\n",
    "    # Save to Parquet\n",
    "    parquet_path = \"combined_stock_data.parquet\"\n",
    "    df.write_parquet(parquet_path, compression=\"snappy\")\n",
    "\n",
    "    # Read from Parquet to pandas\n",
    "    df = pl.read_parquet(parquet_path, use_pyarrow=True).to_pandas()\n",
    "\n",
    "    # Optional: delete the Parquet after loading\n",
    "    if not keepData and os.path.exists(parquet_path):\n",
    "        os.remove(parquet_path)\n",
    "\n",
    "    # Step 2: Reduce granularity into 5-min windows\n",
    "    df['window_start'] = (df['seconds_in_bucket'] // 300) * 300\n",
    "\n",
    "    agg = (\n",
    "        df.groupby(['stock_id', 'time_id', 'window_start'], as_index=False)\n",
    "          .agg({\n",
    "              'bid_price1':  'mean',\n",
    "              'ask_price1':  'mean',\n",
    "              'bid_price2':  'mean',\n",
    "              'ask_price2':  'mean',\n",
    "              'bid_size1':   'sum',\n",
    "              'ask_size1':   'sum',\n",
    "              'bid_size2':   'sum',\n",
    "              'ask_size2':   'sum',\n",
    "          })\n",
    "    )\n",
    "\n",
    "    agg['seconds_in_bucket'] = agg['window_start']\n",
    "\n",
    "    # Step 3: Stock selection via liquidity + volatility scoring\n",
    "    df1 = agg.copy()\n",
    "    df1['mid'] = (df1['bid_price1'] + df1['ask_price1']) / 2\n",
    "    df1 = df1.sort_values(['stock_id', 'time_id', 'seconds_in_bucket'])\n",
    "    df1['mid_prev'] = df1.groupby('stock_id')['mid'].shift(1)\n",
    "    df1['ret'] = np.log(df1['mid'] / df1['mid_prev'])\n",
    "\n",
    "    # Summary stats\n",
    "    summary = agg.groupby('stock_id').agg(\n",
    "        avg_bid_size1=('bid_size1', 'mean'),\n",
    "        avg_ask_size1=('ask_size1', 'mean'),\n",
    "        avg_bid_size2=('bid_size2', 'mean'),\n",
    "        avg_ask_size2=('ask_size2', 'mean'),\n",
    "        avg_bid_price1=('bid_price1', 'mean'),\n",
    "        avg_ask_price1=('ask_price1', 'mean'),\n",
    "    )\n",
    "\n",
    "    summary['spread'] = summary['avg_ask_price1'] - summary['avg_bid_price1']\n",
    "    summary['depth'] = summary[\n",
    "        ['avg_bid_size1', 'avg_ask_size1', 'avg_bid_size2', 'avg_ask_size2']\n",
    "    ].mean(axis=1)\n",
    "    summary['liq_score'] = summary['depth'] / summary['spread']\n",
    "\n",
    "    # Volatility as return variance\n",
    "    vol = df1.groupby('stock_id')['ret'].var().rename('ret_var')\n",
    "    summary = summary.join(vol)\n",
    "\n",
    "    # PCA-based stock ranking\n",
    "    X = StandardScaler().fit_transform(summary)\n",
    "    pca = PCA(n_components=2).fit(X)\n",
    "    scores = pca.transform(X)\n",
    "    pc1_scores = pd.Series(np.abs(scores[:, 0]), index=summary.index)\n",
    "    top_pca = pc1_scores.nlargest(30).index.tolist()\n",
    "\n",
    "    # Filter original data for selected stocks\n",
    "    return df[df['stock_id'].isin(top_pca)]"
   ]
  },
  {
   "cell_type": "code",
   "execution_count": null,
   "metadata": {},
   "outputs": [],
   "source": [
    "mainDF = make_main_df(\"/Users/tobitlouis/Downloads/*.csv\", keepData = True)\n"
   ]
  },
  {
   "cell_type": "code",
   "execution_count": null,
   "metadata": {},
   "outputs": [],
   "source": [
    "import pandas as pd\n",
    "from glob import glob\n",
    "\n",
    "def filter_valid_csvs(file_paths, expected_cols=11):\n",
    "    valid_files = []\n",
    "    for path in file_paths:\n",
    "        try:\n",
    "            df_sample = pd.read_csv(path, nrows=1)\n",
    "            if df_sample.shape[1] == expected_cols:\n",
    "                valid_files.append(path)\n",
    "        except Exception as e:\n",
    "            print(f\"Skipping {path} due to read error: {e}\")\n",
    "    return valid_files\n",
    "\n",
    "filter_valid_csvs(\n",
    "    glob(\"/Users/tobitlouis/Downloads/*.csv\"),\n",
    "    expected_cols=11\n",
    ")"
   ]
  },
  {
   "cell_type": "markdown",
   "metadata": {},
   "source": [
    "## **2. Feature Engineering**"
   ]
  },
  {
   "cell_type": "code",
   "execution_count": 22,
   "metadata": {},
   "outputs": [],
   "source": [
    "mainDF = pd.read_parquet(\"Data/combined.parquet\")"
   ]
  },
  {
   "cell_type": "code",
   "execution_count": 24,
   "metadata": {},
   "outputs": [],
   "source": [
    "mainDF.drop(\"window_start\",axis=1, inplace=True)"
   ]
  },
  {
   "cell_type": "code",
   "execution_count": null,
   "metadata": {},
   "outputs": [],
   "source": [
    "mainDF.info()"
   ]
  },
  {
   "cell_type": "code",
   "execution_count": null,
   "metadata": {},
   "outputs": [],
   "source": [
    "def make_features(df: pd.DataFrame) -> pd.DataFrame:\n",
    "\n",
    "    df = df.copy()\n",
    "    # 1. mid_price & spread\n",
    "    df['mid_price'] = (df['bid_price1'] + df['ask_price1']) / 2\n",
    "    df['spread']    = df['ask_price1'] - df['bid_price1']\n",
    "    \n",
    "    # 2. imbalance & book_pressure & microprice\n",
    "    with np.errstate(divide='ignore', invalid='ignore'):\n",
    "        num  = df['bid_size1'] - df['ask_size1']\n",
    "        den  = df['bid_size1'] + df['ask_size1']\n",
    "        df['imbalance'] = np.where(den > 0, num / den, np.nan)\n",
    "\n",
    "        num2 = (df['bid_size1'] + df['bid_size2']) - (df['ask_size1'] + df['ask_size2'])\n",
    "        den2 = df[['bid_size1','bid_size2','ask_size1','ask_size2']].sum(axis=1)\n",
    "        df['book_pressure'] = np.where(den2 > 0, num2 / den2, np.nan)\n",
    "\n",
    "        num3 = (df['ask_price1'] * df['bid_size1'] +\n",
    "                df['bid_price1'] * df['ask_size1'])\n",
    "        df['microprice'] = np.where(den > 0, num3 / den, np.nan)\n",
    "\n",
    "    # 3. normalized_spread & L2 OBI\n",
    "    df['normalized_spread'] = df['spread'] / df['mid_price'].replace(0, np.nan)\n",
    "    df['OBI_L2'] = np.where(den2 > 0, (df['bid_size1'] + df['bid_size2']) / den2, np.nan)\n",
    "\n",
    "    # 4. LOB entropy\n",
    "    sizes = df[['bid_size1','bid_size2','ask_size1','ask_size2']].astype(float).values\n",
    "    total = sizes.sum(axis=1, keepdims=True)\n",
    "    p = np.divide(sizes, total, where=total != 0)\n",
    "    entropy = -np.nansum(np.where(p > 0, p * np.log(p), 0), axis=1)\n",
    "    df['LOB_entropy'] = entropy\n",
    "    df['LOB_entropy_normalized'] = entropy / np.log(4)\n",
    "\n",
    "    # 5. log returns\n",
    "    df['log_return'] = (\n",
    "        df.groupby('time_id')['mid_price']\n",
    "          .transform(lambda x: np.log(x / x.shift(1)))\n",
    "    )\n",
    "\n",
    "    # 6. Realized volatility (safe: no leakage)\n",
    "\n",
    "    df['realized_volatility'] = (\n",
    "        df.groupby('time_id')['log_return']\n",
    "        .transform(lambda x: np.sqrt(\n",
    "            ((x.shift(1) ** 2)\n",
    "                .rolling(30, min_periods=1)\n",
    "                .sum()\n",
    "            ).clip(lower=0)\n",
    "        ))\n",
    "    )\n",
    "\n",
    "    # TARGET\n",
    "    df['rv_future'] = (\n",
    "        df.groupby('time_id')['realized_volatility'].shift(-30)   \n",
    "    )\n",
    "\n",
    "    # 7. Bipower variance (safe: no leakage)\n",
    "    df['bipower_var'] = (\n",
    "        df.groupby('time_id')['log_return']\n",
    "          .transform(lambda x: x.abs().shift(1)\n",
    "                       .rolling(2, min_periods=1)\n",
    "                       .apply(lambda r: r[0] * r[1], raw=True)\n",
    "                       .rolling(30, min_periods=1)\n",
    "                       .mean())\n",
    "    )\n",
    "\n",
    "    # 8. WAP and its log return\n",
    "    df['wap'] = (\n",
    "        (df['bid_price1'] * df['ask_size1'] + df['ask_price1'] * df['bid_size1']) /\n",
    "        (df['bid_size1'] + df['ask_size1']).replace(0, np.nan)\n",
    "    )\n",
    "    df['log_wap_return'] = (\n",
    "        df.groupby('time_id')['wap']\n",
    "          .transform(lambda x: np.log(x / x.shift(1)))\n",
    "    )\n",
    "\n",
    "    # 9. Lag features (safe)\n",
    "    for col in ['imbalance', 'book_pressure', 'log_return']:\n",
    "        df[f'{col}_lag1'] = df.groupby('time_id')[col].shift(1)\n",
    "        df[f'{col}_lag2'] = df.groupby('time_id')[col].shift(2)\n",
    "\n",
    "    # 10. Rolling stats (safe)\n",
    "    df['rolling_vol_30'] = (\n",
    "        df.groupby('time_id')['log_return']\n",
    "          .transform(lambda x: x.shift(1).rolling(30, min_periods=1).std())\n",
    "    )\n",
    "    df['rolling_imbalance_mean_30'] = (\n",
    "        df.groupby('time_id')['imbalance']\n",
    "          .transform(lambda x: x.shift(1).rolling(30, min_periods=1).mean())\n",
    "    )\n",
    "\n",
    "    df = df.dropna(subset=['rv_future'])   \n",
    "    df = df.replace([np.inf, -np.inf], np.nan)\n",
    "    return df"
   ]
  },
  {
   "cell_type": "code",
   "execution_count": null,
   "metadata": {},
   "outputs": [],
   "source": [
    "df = make_features(mainDF)"
   ]
  },
  {
   "cell_type": "code",
   "execution_count": 28,
   "metadata": {},
   "outputs": [],
   "source": [
    "df.to_parquet(\"Final.parquet\")"
   ]
  },
  {
   "cell_type": "markdown",
   "metadata": {},
   "source": [
    "## **3. Model Testing**"
   ]
  },
  {
   "cell_type": "code",
   "execution_count": null,
   "metadata": {},
   "outputs": [],
   "source": [
    "df = pd.read_parquet(\"Data/Final.parquet\")"
   ]
  },
  {
   "cell_type": "code",
   "execution_count": null,
   "metadata": {},
   "outputs": [],
   "source": [
    "uids = df['time_id'].unique()\n",
    "cut  = int(0.8 * len(uids))\n",
    "train_ids, val_ids = uids[:cut], uids[cut:]\n",
    "train_df = df[df.time_id.isin(train_ids)]\n",
    "val_df   = df[df.time_id.isin(val_ids)]"
   ]
  },
  {
   "cell_type": "code",
   "execution_count": null,
   "metadata": {},
   "outputs": [],
   "source": [
    "y_train_log = np.log1p(train_df['realized_volatility'].values)\n",
    "y_val_log   = np.log1p(val_df  ['realized_volatility'].values)"
   ]
  },
  {
   "cell_type": "code",
   "execution_count": null,
   "metadata": {},
   "outputs": [],
   "source": [
    "ID_COLS = ['stock_id', 'time_id', 'seconds_in_bucket']\n",
    "X_train = train_df.drop(columns=['realized_volatility'] + ID_COLS)\n",
    "X_val   = val_df  .drop(columns=['realized_volatility'] + ID_COLS)"
   ]
  },
  {
   "cell_type": "code",
   "execution_count": null,
   "metadata": {},
   "outputs": [],
   "source": [
    "train_data = lgb.Dataset(X_train, label=y_train_log)\n",
    "val_data   = lgb.Dataset(X_val,   label=y_val_log)"
   ]
  },
  {
   "cell_type": "code",
   "execution_count": null,
   "metadata": {},
   "outputs": [
    {
     "name": "stdout",
     "output_type": "stream",
     "text": [
      "Training until validation scores don't improve for 20 rounds\n",
      "[100]\tvalid_0's rmse: 0.00572722\n",
      "[200]\tvalid_0's rmse: 0.00571711\n",
      "[300]\tvalid_0's rmse: 0.00571258\n",
      "[400]\tvalid_0's rmse: 0.0057102\n",
      "Early stopping, best iteration is:\n",
      "[412]\tvalid_0's rmse: 0.00570979\n"
     ]
    }
   ],
   "source": [
    "params = {\n",
    "    'objective': 'regression',\n",
    "    'metric': 'rmse',\n",
    "    'n_jobs': -1,\n",
    "    'boosting_type': 'gbdt',\n",
    "    'verbosity': -1\n",
    "}\n",
    "\n",
    "model = lgb.train(\n",
    "    params,\n",
    "    train_data,\n",
    "    valid_sets=[val_data],\n",
    "    callbacks=[\n",
    "        lgb.early_stopping(stopping_rounds=20),\n",
    "        lgb.log_evaluation(period=100)\n",
    "    ],\n",
    "    num_boost_round=1000\n",
    ")"
   ]
  },
  {
   "cell_type": "code",
   "execution_count": null,
   "metadata": {},
   "outputs": [
    {
     "name": "stdout",
     "output_type": "stream",
     "text": [
      "Validation RMSE: 0.0057097914\n",
      "Mean target: 0.2359548412152119\n",
      "Std of target: 0.9542211994154018\n",
      "Relative RMSE: 0.024198661760177254\n"
     ]
    }
   ],
   "source": [
    "y_pred_log = model.predict(X_val, num_iteration=model.best_iteration)\n",
    "y_pred      = np.expm1(y_pred_log)             \n",
    "y_true      = val_df['realized_volatility'].values"
   ]
  },
  {
   "cell_type": "code",
   "execution_count": null,
   "metadata": {},
   "outputs": [],
   "source": [
    "rmse = root_mean_squared_error(y_true, y_pred)\n",
    "mae  = mean_absolute_error(y_true, y_pred)\n",
    "r2   = r2_score(y_true, y_pred)\n",
    "\n",
    "print(f\"RMSE (original scale): {rmse:.6f}\")\n",
    "print(f\"MAE  : {mae:.6f}\")\n",
    "print(f\"R²   : {r2:.4f}\")"
   ]
  },
  {
   "cell_type": "code",
   "execution_count": null,
   "metadata": {},
   "outputs": [
    {
     "data": {
      "image/png": "[encoded data removed]",
      "text/plain": [
       "<Figure size 640x480 with 1 Axes>"
      ]
     },
     "metadata": {},
     "output_type": "display_data"
    }
   ],
   "source": [
    "plt.scatter(y_true, y_pred, alpha=0.3)\n",
    "plt.plot(\n",
    "    [y_true.min(), y_true.max()],\n",
    "    [y_true.min(), y_true.max()],\n",
    "    'r--',\n",
    "    linewidth=1\n",
    ")\n",
    "plt.xlabel('Actual Realized Volatility')\n",
    "plt.ylabel('Predicted Realized Volatility')\n",
    "plt.title('Predicted vs Actual')\n",
    "plt.tight_layout()\n",
    "plt.show()\n"
   ]
  },
  {
   "cell_type": "code",
   "execution_count": null,
   "metadata": {},
   "outputs": [
    {
     "data": {
      "image/png": "[encoded data removed]",
      "text/plain": [
       "<Figure size 640x480 with 1 Axes>"
      ]
     },
     "metadata": {},
     "output_type": "display_data"
    }
   ],
   "source": [
    "residuals = y_true - y_pred\n",
    "plt.scatter(y_pred, residuals, alpha=0.3)\n",
    "plt.axhline(0, color='red', linestyle='--', linewidth=1)\n",
    "plt.xlabel('Predicted Realized Volatility')\n",
    "plt.ylabel('Residual (Actual − Predicted)')\n",
    "plt.title('Residuals vs Predicted')\n",
    "plt.tight_layout()\n",
    "plt.show()"
   ]
  }
 ],
 "metadata": {
  "kernelspec": {
   "display_name": "volt",
   "language": "python",
   "name": "python3"
  },
  "language_info": {
   "codemirror_mode": {
    "name": "ipython",
    "version": 3
   },
   "file_extension": ".py",
   "mimetype": "text/x-python",
   "name": "python",
   "nbconvert_exporter": "python",
   "pygments_lexer": "ipython3",
   "version": "3.12.1"
  }
 },
 "nbformat": 4,
 "nbformat_minor": 2
}
