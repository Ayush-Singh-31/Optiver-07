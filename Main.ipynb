{
 "cells": [
  {
   "cell_type": "markdown",
   "metadata": {},
   "source": [
    "# **DATA3888 Project: Optiver**"
   ]
  },
  {
   "cell_type": "code",
   "execution_count": 5,
   "metadata": {},
   "outputs": [],
   "source": [
    "import pandas as pd\n",
    "import numpy as np\n",
    "import matplotlib.pyplot as plt\n",
    "import polars as pl\n",
    "from glob import glob\n",
    "from sklearn.decomposition import PCA\n",
    "from sklearn.preprocessing  import StandardScaler\n",
    "import os\n",
    "import lightgbm as lgb\n",
    "from sklearn.metrics import mean_squared_error, root_mean_squared_error\n",
    "import matplotlib.pyplot as plt"
   ]
  },
  {
   "cell_type": "code",
   "execution_count": 2,
   "metadata": {},
   "outputs": [],
   "source": [
    "csv_files = sorted(glob(\"Data/individual_book_train/*.csv\"))\n",
    "\n",
    "ldf = pl.scan_csv(\n",
    "    csv_files,\n",
    "    schema_overrides={         \n",
    "        'time_id': pl.Int64,\n",
    "        'seconds_in_bucket': pl.Int64,\n",
    "        'bid_price1': pl.Float64,\n",
    "        'ask_price1': pl.Float64,\n",
    "        'bid_price2': pl.Float64,\n",
    "        'ask_price2': pl.Float64,\n",
    "        'bid_size1': pl.Int64,\n",
    "        'ask_size1': pl.Int64,\n",
    "        'bid_size2': pl.Int64,\n",
    "        'ask_size2': pl.Int64,\n",
    "        'stock_id': pl.Int64,\n",
    "    },\n",
    "    infer_schema_length=0\n",
    ")\n",
    "\n",
    "# df = ldf.collect()  \n",
    "# df.write_parquet(\"Data/Combined_book_train.parquet\", compression=\"snappy\")"
   ]
  },
  {
   "cell_type": "code",
   "execution_count": 2,
   "metadata": {},
   "outputs": [],
   "source": [
    "df = pl.read_parquet(\n",
    "    \"Data/Combined_book_train.parquet\",\n",
    "    use_pyarrow=True  \n",
    ")"
   ]
  },
  {
   "cell_type": "code",
   "execution_count": 3,
   "metadata": {},
   "outputs": [],
   "source": [
    "df = df.to_pandas()"
   ]
  },
  {
   "cell_type": "code",
   "execution_count": 10,
   "metadata": {},
   "outputs": [
    {
     "data": {
      "text/plain": [
       "194.9648067758992"
      ]
     },
     "execution_count": 10,
     "metadata": {},
     "output_type": "execute_result"
    }
   ],
   "source": [
    "df.shape[0]/857864"
   ]
  },
  {
   "cell_type": "code",
   "execution_count": 6,
   "metadata": {},
   "outputs": [],
   "source": [
    "window_size = 300   \n",
    "df['window_start'] = (df['seconds_in_bucket'] // window_size) * window_size\n",
    "\n",
    "agg = (\n",
    "    df\n",
    "    .groupby(['stock_id', 'time_id', 'window_start'], as_index=False)\n",
    "    .agg({\n",
    "        'bid_price1':  'mean',\n",
    "        'ask_price1':  'mean',\n",
    "        'bid_price2':  'mean',\n",
    "        'ask_price2':  'mean',\n",
    "        'bid_size1':   'sum',\n",
    "        'ask_size1':   'sum',\n",
    "        'bid_size2':   'sum',\n",
    "        'ask_size2':   'sum',\n",
    "    })\n",
    ")\n",
    "\n",
    "agg['seconds_in_bucket'] = agg['window_start']"
   ]
  },
  {
   "cell_type": "code",
   "execution_count": 8,
   "metadata": {},
   "outputs": [
    {
     "data": {
      "text/plain": [
       "857864"
      ]
     },
     "execution_count": 8,
     "metadata": {},
     "output_type": "execute_result"
    }
   ],
   "source": [
    "agg.shape[0]"
   ]
  },
  {
   "cell_type": "code",
   "execution_count": 26,
   "metadata": {},
   "outputs": [
    {
     "data": {
      "text/plain": [
       "array([  0,   1,   2,   3,   4,   5,   6,   7,   8,   9,  10,  11,  13,\n",
       "        14,  15,  16,  17,  18,  19,  20,  21,  22,  23,  26,  27,  28,\n",
       "        29,  30,  31,  32,  33,  34,  35,  36,  37,  38,  39,  40,  41,\n",
       "        42,  43,  44,  46,  47,  48,  50,  51,  52,  53,  55,  56,  58,\n",
       "        59,  60,  61,  62,  63,  64,  66,  67,  68,  69,  70,  72,  73,\n",
       "        74,  75,  76,  77,  78,  80,  81,  82,  83,  84,  85,  86,  87,\n",
       "        88,  89,  90,  93,  94,  95,  96,  97,  98,  99, 100, 101, 102,\n",
       "       103, 104, 105, 107, 108, 109, 110, 111, 112, 113, 114, 115, 116,\n",
       "       118, 119, 120, 122, 123, 124, 125, 126])"
      ]
     },
     "execution_count": 26,
     "metadata": {},
     "output_type": "execute_result"
    }
   ],
   "source": [
    "agg[\"stock_id\"].unique()"
   ]
  },
  {
   "cell_type": "code",
   "execution_count": 27,
   "metadata": {},
   "outputs": [
    {
     "name": "stdout",
     "output_type": "stream",
     "text": [
      "[32, 31, 77, 43, 29, 41, 108, 111, 47, 124, 46, 35, 119, 44, 125, 69, 21, 13, 86, 99, 63, 123, 14, 10, 120, 85, 105, 89, 74, 50]\n"
     ]
    }
   ],
   "source": [
    "summary = (agg\n",
    "    .groupby('stock_id')\n",
    "    .agg(\n",
    "        avg_bid_size1   = ('bid_size1', 'mean'),\n",
    "        avg_ask_size1   = ('ask_size1', 'mean'),\n",
    "        avg_bid_size2   = ('bid_size2', 'mean'),\n",
    "        avg_ask_size2   = ('ask_size2', 'mean'),\n",
    "        avg_bid_price1  = ('bid_price1','mean'),\n",
    "        avg_ask_price1  = ('ask_price1','mean'),\n",
    "    )\n",
    ")\n",
    "\n",
    "summary['spread']    = summary['avg_ask_price1'] - summary['avg_bid_price1']\n",
    "summary['depth']     = summary[['avg_bid_size1','avg_ask_size1','avg_bid_size2','avg_ask_size2']].mean(axis=1)\n",
    "summary['liq_score'] = summary['depth'] / summary['spread']\n",
    "\n",
    "k = 30\n",
    "top_liquid = summary.nlargest(k, 'liq_score').index.tolist()\n",
    "print(top_liquid)"
   ]
  },
  {
   "cell_type": "code",
   "execution_count": null,
   "metadata": {},
   "outputs": [
    {
     "name": "stdout",
     "output_type": "stream",
     "text": [
      "[1, 3, 6, 8, 9, 11, 16, 18, 27, 31, 33, 44, 56, 62, 63, 74, 75, 80, 81, 83, 88, 89, 90, 94, 97, 100, 112, 124]\n"
     ]
    }
   ],
   "source": [
    "df1 = agg.copy()\n",
    "\n",
    "df1['mid'] = (df1['bid_price1'] + df1['ask_price1']) / 2\n",
    "df1 = df1.sort_values(['stock_id','time_id','seconds_in_bucket'])\n",
    "df1['mid_prev'] = df1.groupby('stock_id')['mid'].shift(1)\n",
    "df1['ret']     = np.log(df1['mid'] / df1['mid_prev'])\n",
    "\n",
    "vol = df1.groupby('stock_id')['ret'].var().rename('ret_var')\n",
    "\n",
    "threshold = vol.quantile(0.75)\n",
    "high_vol = vol[vol > threshold].index.tolist()\n",
    "print(high_vol)"
   ]
  },
  {
   "cell_type": "code",
   "execution_count": null,
   "metadata": {},
   "outputs": [
    {
     "name": "stdout",
     "output_type": "stream",
     "text": [
      "[31, 32, 77, 108, 41, 43, 29, 111, 47, 35, 37, 33, 98, 5, 103, 112, 18, 75, 4, 27, 30, 0, 88, 16, 62, 116, 113, 110, 126, 90]\n"
     ]
    }
   ],
   "source": [
    "summary = summary.join(vol)\n",
    "\n",
    "X = StandardScaler().fit_transform(summary)\n",
    "pca = PCA(n_components=2).fit(X)\n",
    "scores = pca.transform(X)   \n",
    "\n",
    "pc1_scores = pd.Series(np.abs(scores[:,0]), index=summary.index)\n",
    "top_pca = pc1_scores.nlargest(30).index.tolist()\n",
    "print(top_pca)"
   ]
  },
  {
   "cell_type": "code",
   "execution_count": 30,
   "metadata": {},
   "outputs": [],
   "source": [
    "main_df = df[df['stock_id'].isin(top_pca)]"
   ]
  },
  {
   "cell_type": "code",
   "execution_count": 31,
   "metadata": {},
   "outputs": [
    {
     "data": {
      "text/html": [
       "<div>\n",
       "<style scoped>\n",
       "    .dataframe tbody tr th:only-of-type {\n",
       "        vertical-align: middle;\n",
       "    }\n",
       "\n",
       "    .dataframe tbody tr th {\n",
       "        vertical-align: top;\n",
       "    }\n",
       "\n",
       "    .dataframe thead th {\n",
       "        text-align: right;\n",
       "    }\n",
       "</style>\n",
       "<table border=\"1\" class=\"dataframe\">\n",
       "  <thead>\n",
       "    <tr style=\"text-align: right;\">\n",
       "      <th></th>\n",
       "      <th>time_id</th>\n",
       "      <th>seconds_in_bucket</th>\n",
       "      <th>bid_price1</th>\n",
       "      <th>ask_price1</th>\n",
       "      <th>bid_price2</th>\n",
       "      <th>ask_price2</th>\n",
       "      <th>bid_size1</th>\n",
       "      <th>ask_size1</th>\n",
       "      <th>bid_size2</th>\n",
       "      <th>ask_size2</th>\n",
       "      <th>stock_id</th>\n",
       "      <th>window_start</th>\n",
       "    </tr>\n",
       "  </thead>\n",
       "  <tbody>\n",
       "    <tr>\n",
       "      <th>0</th>\n",
       "      <td>5</td>\n",
       "      <td>0</td>\n",
       "      <td>1.001422</td>\n",
       "      <td>1.002301</td>\n",
       "      <td>1.001370</td>\n",
       "      <td>1.002353</td>\n",
       "      <td>3</td>\n",
       "      <td>226</td>\n",
       "      <td>2</td>\n",
       "      <td>100</td>\n",
       "      <td>0</td>\n",
       "      <td>0</td>\n",
       "    </tr>\n",
       "    <tr>\n",
       "      <th>1</th>\n",
       "      <td>5</td>\n",
       "      <td>1</td>\n",
       "      <td>1.001422</td>\n",
       "      <td>1.002301</td>\n",
       "      <td>1.001370</td>\n",
       "      <td>1.002353</td>\n",
       "      <td>3</td>\n",
       "      <td>100</td>\n",
       "      <td>2</td>\n",
       "      <td>100</td>\n",
       "      <td>0</td>\n",
       "      <td>0</td>\n",
       "    </tr>\n",
       "    <tr>\n",
       "      <th>2</th>\n",
       "      <td>5</td>\n",
       "      <td>5</td>\n",
       "      <td>1.001422</td>\n",
       "      <td>1.002301</td>\n",
       "      <td>1.001370</td>\n",
       "      <td>1.002405</td>\n",
       "      <td>3</td>\n",
       "      <td>100</td>\n",
       "      <td>2</td>\n",
       "      <td>100</td>\n",
       "      <td>0</td>\n",
       "      <td>0</td>\n",
       "    </tr>\n",
       "    <tr>\n",
       "      <th>3</th>\n",
       "      <td>5</td>\n",
       "      <td>6</td>\n",
       "      <td>1.001422</td>\n",
       "      <td>1.002301</td>\n",
       "      <td>1.001370</td>\n",
       "      <td>1.002405</td>\n",
       "      <td>3</td>\n",
       "      <td>126</td>\n",
       "      <td>2</td>\n",
       "      <td>100</td>\n",
       "      <td>0</td>\n",
       "      <td>0</td>\n",
       "    </tr>\n",
       "    <tr>\n",
       "      <th>4</th>\n",
       "      <td>5</td>\n",
       "      <td>7</td>\n",
       "      <td>1.001422</td>\n",
       "      <td>1.002301</td>\n",
       "      <td>1.001370</td>\n",
       "      <td>1.002405</td>\n",
       "      <td>3</td>\n",
       "      <td>126</td>\n",
       "      <td>2</td>\n",
       "      <td>100</td>\n",
       "      <td>0</td>\n",
       "      <td>0</td>\n",
       "    </tr>\n",
       "    <tr>\n",
       "      <th>...</th>\n",
       "      <td>...</td>\n",
       "      <td>...</td>\n",
       "      <td>...</td>\n",
       "      <td>...</td>\n",
       "      <td>...</td>\n",
       "      <td>...</td>\n",
       "      <td>...</td>\n",
       "      <td>...</td>\n",
       "      <td>...</td>\n",
       "      <td>...</td>\n",
       "      <td>...</td>\n",
       "      <td>...</td>\n",
       "    </tr>\n",
       "    <tr>\n",
       "      <th>165425983</th>\n",
       "      <td>32767</td>\n",
       "      <td>575</td>\n",
       "      <td>1.000330</td>\n",
       "      <td>1.001253</td>\n",
       "      <td>1.000308</td>\n",
       "      <td>1.001319</td>\n",
       "      <td>90</td>\n",
       "      <td>76</td>\n",
       "      <td>23</td>\n",
       "      <td>153</td>\n",
       "      <td>98</td>\n",
       "      <td>300</td>\n",
       "    </tr>\n",
       "    <tr>\n",
       "      <th>165425984</th>\n",
       "      <td>32767</td>\n",
       "      <td>577</td>\n",
       "      <td>1.000330</td>\n",
       "      <td>1.001253</td>\n",
       "      <td>1.000308</td>\n",
       "      <td>1.001319</td>\n",
       "      <td>90</td>\n",
       "      <td>76</td>\n",
       "      <td>2</td>\n",
       "      <td>153</td>\n",
       "      <td>98</td>\n",
       "      <td>300</td>\n",
       "    </tr>\n",
       "    <tr>\n",
       "      <th>165425985</th>\n",
       "      <td>32767</td>\n",
       "      <td>581</td>\n",
       "      <td>1.000330</td>\n",
       "      <td>1.001253</td>\n",
       "      <td>1.000308</td>\n",
       "      <td>1.001319</td>\n",
       "      <td>90</td>\n",
       "      <td>91</td>\n",
       "      <td>2</td>\n",
       "      <td>153</td>\n",
       "      <td>98</td>\n",
       "      <td>300</td>\n",
       "    </tr>\n",
       "    <tr>\n",
       "      <th>165425986</th>\n",
       "      <td>32767</td>\n",
       "      <td>591</td>\n",
       "      <td>1.000330</td>\n",
       "      <td>1.001253</td>\n",
       "      <td>1.000308</td>\n",
       "      <td>1.001319</td>\n",
       "      <td>90</td>\n",
       "      <td>91</td>\n",
       "      <td>2</td>\n",
       "      <td>166</td>\n",
       "      <td>98</td>\n",
       "      <td>300</td>\n",
       "    </tr>\n",
       "    <tr>\n",
       "      <th>165425987</th>\n",
       "      <td>32767</td>\n",
       "      <td>595</td>\n",
       "      <td>1.000330</td>\n",
       "      <td>1.001297</td>\n",
       "      <td>1.000308</td>\n",
       "      <td>1.001319</td>\n",
       "      <td>111</td>\n",
       "      <td>90</td>\n",
       "      <td>2</td>\n",
       "      <td>152</td>\n",
       "      <td>98</td>\n",
       "      <td>300</td>\n",
       "    </tr>\n",
       "  </tbody>\n",
       "</table>\n",
       "<p>41301494 rows × 12 columns</p>\n",
       "</div>"
      ],
      "text/plain": [
       "           time_id  seconds_in_bucket  bid_price1  ask_price1  bid_price2  \\\n",
       "0                5                  0    1.001422    1.002301    1.001370   \n",
       "1                5                  1    1.001422    1.002301    1.001370   \n",
       "2                5                  5    1.001422    1.002301    1.001370   \n",
       "3                5                  6    1.001422    1.002301    1.001370   \n",
       "4                5                  7    1.001422    1.002301    1.001370   \n",
       "...            ...                ...         ...         ...         ...   \n",
       "165425983    32767                575    1.000330    1.001253    1.000308   \n",
       "165425984    32767                577    1.000330    1.001253    1.000308   \n",
       "165425985    32767                581    1.000330    1.001253    1.000308   \n",
       "165425986    32767                591    1.000330    1.001253    1.000308   \n",
       "165425987    32767                595    1.000330    1.001297    1.000308   \n",
       "\n",
       "           ask_price2  bid_size1  ask_size1  bid_size2  ask_size2  stock_id  \\\n",
       "0            1.002353          3        226          2        100         0   \n",
       "1            1.002353          3        100          2        100         0   \n",
       "2            1.002405          3        100          2        100         0   \n",
       "3            1.002405          3        126          2        100         0   \n",
       "4            1.002405          3        126          2        100         0   \n",
       "...               ...        ...        ...        ...        ...       ...   \n",
       "165425983    1.001319         90         76         23        153        98   \n",
       "165425984    1.001319         90         76          2        153        98   \n",
       "165425985    1.001319         90         91          2        153        98   \n",
       "165425986    1.001319         90         91          2        166        98   \n",
       "165425987    1.001319        111         90          2        152        98   \n",
       "\n",
       "           window_start  \n",
       "0                     0  \n",
       "1                     0  \n",
       "2                     0  \n",
       "3                     0  \n",
       "4                     0  \n",
       "...                 ...  \n",
       "165425983           300  \n",
       "165425984           300  \n",
       "165425985           300  \n",
       "165425986           300  \n",
       "165425987           300  \n",
       "\n",
       "[41301494 rows x 12 columns]"
      ]
     },
     "execution_count": 31,
     "metadata": {},
     "output_type": "execute_result"
    }
   ],
   "source": [
    "main_df"
   ]
  },
  {
   "cell_type": "code",
   "execution_count": null,
   "metadata": {},
   "outputs": [],
   "source": [
    "def make_main_df(csvPath: str, keepData: bool, window_size: int) -> pd.DataFrame:\n",
    "\n",
    "    # Create combined Parquet\n",
    "    csv_files = sorted(glob.glob(csvPath))\n",
    "    ldf = pl.scan_csv(\n",
    "        csv_files,\n",
    "        schema_overrides={         \n",
    "            'time_id': pl.Int64,\n",
    "            'seconds_in_bucket': pl.Int64,\n",
    "            'bid_price1': pl.Float64,\n",
    "            'ask_price1': pl.Float64,\n",
    "            'bid_price2': pl.Float64,\n",
    "            'ask_price2': pl.Float64,\n",
    "            'bid_size1': pl.Int64,\n",
    "            'ask_size1': pl.Int64,\n",
    "            'bid_size2': pl.Int64,\n",
    "            'ask_size2': pl.Int64,\n",
    "            'stock_id': pl.Int64,\n",
    "        },\n",
    "        infer_schema_length=0\n",
    "    )\n",
    "    df = ldf.collect()  \n",
    "    df.write_parquet(\"combined_stock_data.parquet\", compression=\"snappy\")\n",
    "\n",
    "    # Read combined Parquet\n",
    "    df = pl.read_parquet(\n",
    "        \"combined_stock_data.parquet\",\n",
    "        use_pyarrow=True  \n",
    "    )\n",
    "    df = df.to_pandas()\n",
    "    if not keepData:\n",
    "        os.remove(\"combined_stock_data.parquet\")\n",
    "\n",
    "    # Reduce Information \n",
    "    df['window_start'] = (df['seconds_in_bucket'] // window_size) * window_size\n",
    "    agg = (\n",
    "        df\n",
    "        .groupby(['stock_id', 'time_id', 'window_start'], as_index=False)\n",
    "        .agg({\n",
    "            'bid_price1':  'mean',\n",
    "            'ask_price1':  'mean',\n",
    "            'bid_price2':  'mean',\n",
    "            'ask_price2':  'mean',\n",
    "            'bid_size1':   'sum',\n",
    "            'ask_size1':   'sum',\n",
    "            'bid_size2':   'sum',\n",
    "            'ask_size2':   'sum',\n",
    "        })\n",
    "    )\n",
    "    agg['seconds_in_bucket'] = agg['window_start']\n",
    "\n",
    "    # Finding Best Stock_id\n",
    "    summary = (agg\n",
    "        .groupby('stock_id')\n",
    "        .agg(\n",
    "            avg_bid_size1   = ('bid_size1', 'mean'),\n",
    "            avg_ask_size1   = ('ask_size1', 'mean'),\n",
    "            avg_bid_size2   = ('bid_size2', 'mean'),\n",
    "            avg_ask_size2   = ('ask_size2', 'mean'),\n",
    "            avg_bid_price1  = ('bid_price1','mean'),\n",
    "            avg_ask_price1  = ('ask_price1','mean'),\n",
    "        )\n",
    "    )\n",
    "    summary['spread']    = summary['avg_ask_price1'] - summary['avg_bid_price1']\n",
    "    summary['depth']     = summary[['avg_bid_size1','avg_ask_size1','avg_bid_size2','avg_ask_size2']].mean(axis=1)\n",
    "    summary['liq_score'] = summary['depth'] / summary['spread']\n",
    "\n",
    "    df1 = agg.copy()\n",
    "    df1['mid'] = (df1['bid_price1'] + df1['ask_price1']) / 2\n",
    "    df1 = df1.sort_values(['stock_id','time_id','seconds_in_bucket'])\n",
    "    df1['mid_prev'] = df1.groupby('stock_id')['mid'].shift(1)\n",
    "    df1['ret']     = np.log(df1['mid'] / df1['mid_prev'])\n",
    "    vol = df1.groupby('stock_id')['ret'].var().rename('ret_var')\n",
    "\n",
    "    summary = summary.join(vol)\n",
    "    X = StandardScaler().fit_transform(summary)\n",
    "    pca = PCA(n_components=2).fit(X)\n",
    "    scores = pca.transform(X)   \n",
    "    pc1_scores = pd.Series(np.abs(scores[:,0]), index=summary.index)\n",
    "    top_pca = pc1_scores.nlargest(30).index.tolist()\n",
    "\n",
    "    return df[df['stock_id'].isin(top_pca)]"
   ]
  },
  {
   "cell_type": "code",
   "execution_count": null,
   "metadata": {},
   "outputs": [],
   "source": [
    "mainDF = make_main_df(\"Data/individual_book_train/*.csv\", False, 300)"
   ]
  },
  {
   "cell_type": "code",
   "execution_count": null,
   "metadata": {},
   "outputs": [],
   "source": [
    "def make_features(df: pd.DataFrame) -> pd.DataFrame:\n",
    "\n",
    "    df['mid_price'] = (df['bid_price1'] + df['ask_price1']) / 2\n",
    "    df['spread'] = df['ask_price1'] - df['bid_price1']\n",
    "    df['rel_spread'] = df['spread'] / df['mid_price']\n",
    "    df['imbalance'] = (df['bid_size1'] - df['ask_size1']) / (df['bid_size1'] + df['ask_size1'])\n",
    "    df['book_pressure'] = ((df['bid_size1'] + df['bid_size2']) - (df['ask_size1'] + df['ask_size2'])) / (df['bid_size1'] + df['bid_size2'] + df['ask_size1'] + df['ask_size2'])\n",
    "    df['microprice'] = ((df['ask_price1'] * df['bid_size1'] + df['bid_price1'] * df['ask_size1']) / (df['bid_size1'] + df['ask_size1']))\n",
    "    df['normalized_spread'] = df['spread'] / df['mid_price']\n",
    "    df['OBI_L2'] = ((df['bid_size1'] + df['bid_size2']) / (df['bid_size1'] + df['bid_size2'] + df['ask_size1'] + df['ask_size2']))\n",
    "\n",
    "    sizes = df[['bid_size1', 'bid_size2', 'ask_size1', 'ask_size2']].astype(float).values\n",
    "    total = sizes.sum(axis=1, keepdims=True)\n",
    "    p = np.divide(sizes, total, where=total != 0)\n",
    "    entropy = -np.nansum(np.where(p > 0, p * np.log(p, where=p > 0), 0), axis=1)\n",
    "    df['LOB_entropy'] = entropy\n",
    "    df['LOB_entropy_normalized'] = entropy / np.log(4)\n",
    "\n",
    "    df['log_return'] = df.groupby('time_id')['mid_price'].transform(lambda x: np.log(x / x.shift(1)))\n",
    "\n",
    "    df['realized_volatility'] = df.groupby('time_id')['log_return'].transform(lambda x: np.sqrt(x.pow(2).rolling(window=30, min_periods=1).sum()))\n",
    "\n",
    "    df['bipower_var'] = df.groupby('time_id')['log_return'].transform(\n",
    "        lambda x: (\n",
    "            x.abs().rolling(2).apply(lambda r: r[0] * r[1], raw=True)\n",
    "            .rolling(30, min_periods=1).mean()\n",
    "        )\n",
    "    )\n",
    "    \n",
    "    df['rolling_integrated_variance'] = df.groupby('time_id')['log_return'].transform(\n",
    "        lambda x: x.pow(2).rolling(window=30, min_periods=1).sum()\n",
    "    )\n",
    "\n",
    "    return df.dropna()"
   ]
  },
  {
   "cell_type": "code",
   "execution_count": null,
   "metadata": {},
   "outputs": [],
   "source": [
    "df = make_features(mainDF)"
   ]
  },
  {
   "cell_type": "code",
   "execution_count": null,
   "metadata": {},
   "outputs": [],
   "source": [
    "stock_ids = df['stock_id'].unique()\n",
    "time_ids = df['time_id'].unique()\n",
    "\n",
    "full_index = pd.MultiIndex.from_product(\n",
    "    [stock_ids, time_ids, range(600)],\n",
    "    names=['stock_id', 'time_id', 'seconds_in_bucket']\n",
    ")\n",
    "\n",
    "df = (\n",
    "    df\n",
    "    .set_index(['stock_id', 'time_id', 'seconds_in_bucket'])\n",
    "    .reindex(full_index)\n",
    ")\n",
    "\n",
    "columns_to_fill = [col for col in df.columns if col not in ['stock_id', 'time_id', 'seconds_in_bucket']]\n",
    "df[columns_to_fill] = df.groupby(level=[0, 1])[columns_to_fill].ffill()\n",
    "\n",
    "df = df.reset_index()"
   ]
  },
  {
   "cell_type": "code",
   "execution_count": null,
   "metadata": {},
   "outputs": [],
   "source": [
    "df.info()"
   ]
  },
  {
   "cell_type": "code",
   "execution_count": 3,
   "metadata": {},
   "outputs": [],
   "source": [
    "df.dropna(inplace=True)"
   ]
  },
  {
   "cell_type": "code",
   "execution_count": 6,
   "metadata": {},
   "outputs": [],
   "source": [
    "split_idx = int(len(df) * 0.8)\n",
    "X = df.drop(columns=['realized_volatility'])\n",
    "y = df['realized_volatility']\n",
    "X_train, X_val = X.iloc[:split_idx], X.iloc[split_idx:]\n",
    "y_train, y_val = y.iloc[:split_idx], y.iloc[split_idx:]\n",
    "\n",
    "train_data = lgb.Dataset(X_train, label=y_train)\n",
    "val_data = lgb.Dataset(X_val, label=y_val)"
   ]
  },
  {
   "cell_type": "code",
   "execution_count": 7,
   "metadata": {},
   "outputs": [
    {
     "name": "stdout",
     "output_type": "stream",
     "text": [
      "Training until validation scores don't improve for 20 rounds\n",
      "Early stopping, best iteration is:\n",
      "[70]\tvalid_0's rmse: 0.000589185\n"
     ]
    }
   ],
   "source": [
    "params = {\n",
    "    'objective': 'regression',\n",
    "    'metric': 'rmse',\n",
    "    'n_jobs': -1,\n",
    "    'boosting_type': 'gbdt',\n",
    "    'verbosity': -1\n",
    "}\n",
    "\n",
    "model = lgb.train(\n",
    "    params,\n",
    "    train_data,\n",
    "    valid_sets=[val_data],\n",
    "    callbacks=[\n",
    "        lgb.early_stopping(stopping_rounds=20),\n",
    "        lgb.log_evaluation(period=100)\n",
    "    ],\n",
    "    num_boost_round=1000\n",
    ")"
   ]
  },
  {
   "cell_type": "code",
   "execution_count": 8,
   "metadata": {},
   "outputs": [
    {
     "name": "stdout",
     "output_type": "stream",
     "text": [
      "Validation RMSE: 0.0005891847\n",
      "Mean target: 0.0012567652752336997\n",
      "Std of target: 0.0018385339883217377\n",
      "Relative RMSE: 0.4688104199339004\n"
     ]
    }
   ],
   "source": [
    "y_pred = model.predict(X_val)\n",
    "rmse = root_mean_squared_error(y_val, y_pred)\n",
    "print(f\"Validation RMSE: {rmse:.10f}\")\n",
    "print(\"Mean target:\", y_val.mean())\n",
    "print(\"Std of target:\", y_val.std())\n",
    "print(\"Relative RMSE:\", rmse / y_val.mean())"
   ]
  },
  {
   "cell_type": "code",
   "execution_count": 9,
   "metadata": {},
   "outputs": [
    {
     "data": {
      "image/png": "[encoded data removed]",
      "text/plain": [
       "<Figure size 640x480 with 1 Axes>"
      ]
     },
     "metadata": {},
     "output_type": "display_data"
    }
   ],
   "source": [
    "plt.scatter(y_val, y_pred, alpha=0.3)\n",
    "plt.xlabel('Actual')\n",
    "plt.ylabel('Predicted')\n",
    "plt.title('Predicted vs Actual')\n",
    "plt.plot([y_val.min(), y_val.max()], [y_val.min(), y_val.max()], 'r--')\n",
    "plt.show()"
   ]
  },
  {
   "cell_type": "code",
   "execution_count": 10,
   "metadata": {},
   "outputs": [
    {
     "data": {
      "image/png": "[encoded data removed]",
      "text/plain": [
       "<Figure size 640x480 with 1 Axes>"
      ]
     },
     "metadata": {},
     "output_type": "display_data"
    }
   ],
   "source": [
    "residuals = y_val - y_pred\n",
    "plt.scatter(y_pred, residuals, alpha=0.3)\n",
    "plt.axhline(0, color='red', linestyle='--')\n",
    "plt.xlabel('Predicted')\n",
    "plt.ylabel('Residual')\n",
    "plt.title('Residuals vs Predicted')\n",
    "plt.show()"
   ]
  }
 ],
 "metadata": {
  "kernelspec": {
   "display_name": "volt",
   "language": "python",
   "name": "python3"
  },
  "language_info": {
   "codemirror_mode": {
    "name": "ipython",
    "version": 3
   },
   "file_extension": ".py",
   "mimetype": "text/x-python",
   "name": "python",
   "nbconvert_exporter": "python",
   "pygments_lexer": "ipython3",
   "version": "3.12.1"
  }
 },
 "nbformat": 4,
 "nbformat_minor": 2
}
