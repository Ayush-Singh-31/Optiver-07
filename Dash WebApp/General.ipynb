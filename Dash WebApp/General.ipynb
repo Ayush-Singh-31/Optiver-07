{
 "cells": [
  {
   "cell_type": "code",
   "execution_count": 1,
   "id": "fe8be60b",
   "metadata": {},
   "outputs": [],
   "source": [
    "import os\n",
    "import pandas as pd\n",
    "import numpy as np\n",
    "from sklearn.metrics import r2_score, mean_squared_error"
   ]
  },
  {
   "cell_type": "code",
   "execution_count": 2,
   "id": "78d999f4",
   "metadata": {},
   "outputs": [],
   "source": [
    "LSTMPATH = \"Data/LSTM\"\n",
    "RFPATH = \"Data/Random Forest\"\n",
    "TRANSFORMERPATH = \"Data/Transformer\"\n",
    "WLSPATH = \"Data/WLS\""
   ]
  },
  {
   "cell_type": "code",
   "execution_count": 3,
   "id": "68d1803f",
   "metadata": {},
   "outputs": [],
   "source": [
    "def extractGeneral(folder_path, output_csv='summary_metrics.csv'):\n",
    "    summary_rows = []\n",
    "    for file_name in os.listdir(folder_path):\n",
    "        if file_name.endswith('.csv'):\n",
    "            file_path = os.path.join(folder_path, file_name)\n",
    "            try:\n",
    "                df = pd.read_csv(file_path)\n",
    "                if df.empty:\n",
    "                    continue  \n",
    "                first_row = df.iloc[0][['stock_id', 'model_name', 'mse', 'qlike', 'r^2']]\n",
    "                summary_rows.append(first_row)\n",
    "            except Exception as e:\n",
    "                print(f\"Error processing {file_name}: {e}\")\n",
    "    if summary_rows:\n",
    "        summary_df = pd.DataFrame(summary_rows)\n",
    "        summary_df.to_csv(os.path.join(folder_path, output_csv), index=False)\n",
    "        print(f\"Summary saved to {output_csv}\")\n",
    "    else:\n",
    "        print(\"No data extracted.\")"
   ]
  },
  {
   "cell_type": "code",
   "execution_count": 6,
   "id": "c14486d4",
   "metadata": {},
   "outputs": [
    {
     "name": "stdout",
     "output_type": "stream",
     "text": [
      "Summary saved to summary_metrics.csv\n"
     ]
    }
   ],
   "source": [
    "extractGeneral(WLSPATH)"
   ]
  },
  {
   "cell_type": "code",
   "execution_count": 7,
   "id": "ba36dea8",
   "metadata": {},
   "outputs": [
    {
     "name": "stdout",
     "output_type": "stream",
     "text": [
      "Summary saved to summary_metrics.csv\n"
     ]
    }
   ],
   "source": [
    "extractGeneral(TRANSFORMERPATH)"
   ]
  },
  {
   "cell_type": "code",
   "execution_count": 8,
   "id": "2d549bf0",
   "metadata": {},
   "outputs": [
    {
     "name": "stdout",
     "output_type": "stream",
     "text": [
      "Summary saved to summary_metrics.csv\n"
     ]
    }
   ],
   "source": [
    "extractGeneral(RFPATH)"
   ]
  },
  {
   "cell_type": "code",
   "execution_count": null,
   "id": "98d6fb4f",
   "metadata": {},
   "outputs": [],
   "source": [
    "extractGeneral(LSTMPATH)"
   ]
  },
  {
   "cell_type": "code",
   "execution_count": 7,
   "id": "f61e68d1",
   "metadata": {},
   "outputs": [],
   "source": [
    "def qlike_loss(actual,forecast,eps=1e-8):\n",
    "    a = np.clip(actual,   eps, None)\n",
    "    f = np.clip(forecast, eps, None)\n",
    "    r = a / f\n",
    "    return np.mean(r - np.log(r) - 1.0)\n",
    "\n",
    "def evaluate(folder_path):\n",
    "    all_preds = []\n",
    "    all_trues = []\n",
    "    for file_name in os.listdir(folder_path):\n",
    "        if file_name.endswith('.csv'):\n",
    "            file_path = os.path.join(folder_path, file_name)\n",
    "            try:\n",
    "                df = pd.read_csv(file_path)\n",
    "                if 'pred_vol' in df.columns and 'true_vol' in df.columns:\n",
    "                    all_preds.extend(df['pred_vol'].values)\n",
    "                    all_trues.extend(df['true_vol'].values)\n",
    "            except Exception as e:\n",
    "                print(f\"Error processing {file_name}: {e}\")\n",
    "    if not all_preds or not all_trues:\n",
    "        print(\"No valid prediction data found.\")\n",
    "        return\n",
    "    y_true = np.array(all_trues)\n",
    "    y_pred = np.array(all_preds)\n",
    "    r2 = r2_score(y_true, y_pred)\n",
    "    mse = mean_squared_error(y_true, y_pred)\n",
    "    qlike = qlike_loss(y_true, y_pred)\n",
    "    print(f\"Combined Evaluation Metrics:\")\n",
    "    print(f\"R²   : {r2:.9f}\")\n",
    "    print(f\"MSE  : {mse:.9f}\")\n",
    "    print(f\"QLIKE: {qlike:.9f}\")"
   ]
  },
  {
   "cell_type": "code",
   "execution_count": 8,
   "id": "0c977a30",
   "metadata": {},
   "outputs": [
    {
     "name": "stdout",
     "output_type": "stream",
     "text": [
      "Combined Evaluation Metrics:\n",
      "R²   : 0.638204994\n",
      "MSE  : 0.000000171\n",
      "QLIKE: 0.206424960\n"
     ]
    }
   ],
   "source": [
    "evaluate(TRANSFORMERPATH)"
   ]
  },
  {
   "cell_type": "code",
   "execution_count": 9,
   "id": "13108b54",
   "metadata": {},
   "outputs": [
    {
     "name": "stdout",
     "output_type": "stream",
     "text": [
      "Combined Evaluation Metrics:\n",
      "R²   : 0.635772536\n",
      "MSE  : 0.000000177\n",
      "QLIKE: 0.204956429\n"
     ]
    }
   ],
   "source": [
    "evaluate(RFPATH)"
   ]
  },
  {
   "cell_type": "code",
   "execution_count": 10,
   "id": "50aed37b",
   "metadata": {},
   "outputs": [
    {
     "name": "stdout",
     "output_type": "stream",
     "text": [
      "Combined Evaluation Metrics:\n",
      "R²   : 0.591312317\n",
      "MSE  : 0.000000204\n",
      "QLIKE: 0.376301507\n"
     ]
    }
   ],
   "source": [
    "evaluate(WLSPATH)"
   ]
  },
  {
   "cell_type": "code",
   "execution_count": 11,
   "id": "4e7007c3",
   "metadata": {},
   "outputs": [
    {
     "name": "stdout",
     "output_type": "stream",
     "text": [
      "Combined Evaluation Metrics:\n",
      "R²   : 0.628302419\n",
      "MSE  : 0.000000156\n",
      "QLIKE: 0.258099956\n"
     ]
    }
   ],
   "source": [
    "evaluate(LSTMPATH)"
   ]
  }
 ],
 "metadata": {
  "kernelspec": {
   "display_name": "volt",
   "language": "python",
   "name": "python3"
  },
  "language_info": {
   "codemirror_mode": {
    "name": "ipython",
    "version": 3
   },
   "file_extension": ".py",
   "mimetype": "text/x-python",
   "name": "python",
   "nbconvert_exporter": "python",
   "pygments_lexer": "ipython3",
   "version": "3.12.1"
  }
 },
 "nbformat": 4,
 "nbformat_minor": 5
}
