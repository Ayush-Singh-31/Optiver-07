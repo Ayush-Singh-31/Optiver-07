{
 "cells": [
  {
   "cell_type": "code",
   "execution_count": null,
   "id": "d4002ab8",
   "metadata": {},
   "outputs": [],
   "source": [
    "# This model seems to be overfitting a lot\n",
    "#  TOBIT \n",
    "import numpy as np\n",
    "import pandas as pd\n",
    "import xgboost as xgb\n",
    "import matplotlib.pyplot as plt\n",
    "from sklearn.preprocessing import StandardScaler\n",
    "from sklearn.model_selection import train_test_split, KFold\n",
    "from sklearn.metrics import mean_squared_error, r2_score\n",
    "\n",
    "# -------------------\n",
    "# Load and preprocess\n",
    "# -------------------\n",
    "\n",
    "df = pd.read_csv(\"/Users/tobitlouis/Downloads/S27FE-10K.csv\")\n",
    "\n",
    "# Separate features and target\n",
    "X = df.drop('realized_volatility', axis=1).values\n",
    "y = df['realized_volatility'].values\n",
    "\n",
    "# Log transform target\n",
    "y = np.log1p(y)\n",
    "\n",
    "# Scale features\n",
    "scaler = StandardScaler()\n",
    "X_scaled = scaler.fit_transform(X)"
   ]
  },
  {
   "cell_type": "code",
   "execution_count": null,
   "id": "50745b68",
   "metadata": {},
   "outputs": [
    {
     "name": "stdout",
     "output_type": "stream",
     "text": [
      "✅ XGBoost Results:\n",
      "  MSE: 0.00000001\n",
      "  R^2: 0.9985\n"
     ]
    },
    {
     "data": {
      "image/png": "iVBORw0KGgoAAAANSUhEUgAAAxYAAAHqCAYAAACZcdjsAAAAOnRFWHRTb2Z0d2FyZQBNYXRwbG90bGliIHZlcnNpb24zLjEwLjEsIGh0dHBzOi8vbWF0cGxvdGxpYi5vcmcvc2/+5QAAAAlwSFlzAAAPYQAAD2EBqD+naQAAkOZJREFUeJzs3XdYVvX/x/HnPbnZggooorh3ucocOXKWZZrlKLPM9NfQHE1bVlZmpVlZ2fha2TTb290UK0ea5V6YCrjY417n98edGIEKCt6Ar8d1ccl9zuc+533wiLz4jGMyDMNARERERETkNJj9XYCIiIiIiFR8ChYiIiIiInLaFCxEREREROS0KViIiIiIiMhpU7AQEREREZHTpmAhIiIiIiKnTcFCREREREROm4KFiIiIiIicNgULERERERE5bQoWIiJS7r3xxhuYTCZ27dqVv61bt25069bNbzX9V1E1Ssl89913mEwmvvvuO3+XIiKnQMFCRCqF4cOH43A42LJlS6F9TzzxBCaTiS+//LLA9ry8PJ5//nk6d+5MREQEdrudmjVr0r9/f9577z08Hk9+2127dmEymQp8hIWF0apVK2bPnl2grb+8+OKLvPHGG2Vy7Pj4+ALXHhUVxYUXXsgnn3xSJucrK9nZ2Tz00ENnzQ+ugwcPxmQycffdd5/yMVasWMFDDz1Eampq6RUmIpWSgoWIVAozZ84kKCiIm266qcD2nTt38sgjjzBo0CAuvfTS/O0HDhygU6dO3HbbbYSEhHD//ffz8ssvM27cOLKysrj66qt5/PHHC51n2LBhvPXWW7z11ltMmzaN2NhYxo0bxz333FPm13gyZRksAFq1apV/7XfccQf79u3jiiuuYM6cOWV2zhNZtGgRixYtKtF7srOzefjhh8+KYJGens4XX3xBfHw87733HoZhnNJxVqxYwcMPP6xgISInZfV3ASIipSEqKorp06czZswY3nzzTa677joAbrnlFmw2G88++2yB9tdeey1r167lo48+4oorriiwb/LkyaxatYrNmzcXOk+bNm0YPnx4/utbbrmF9u3b8+677/LUU0+VwZWVH7GxsQWufcSIETRo0IBnnnmmUKA7yu124/V6sdvtpV5PWRyzMvnoo4/weDzMnTuXiy66iB9++IGuXbv6uywRqcTUYyEilcaNN95Ip06duOOOOzh06BDvv/8+3377LY8++iixsbH57RISEli4cCFjxowpFCqOateuHddcc81Jz2kymYiOjsZqLfx7mhdffJHmzZsTEBBAzZo1ufXWW4v8re+CBQto27YtgYGBVKtWjeHDh7N3794CbZKSkhg5ciS1atUiICCAGjVqcPnll+eP54+Pj+fPP//k+++/zx+uVNbzD