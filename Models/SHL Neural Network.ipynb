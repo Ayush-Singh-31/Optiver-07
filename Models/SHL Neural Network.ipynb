{
 "cells": [
  {
   "cell_type": "code",
   "execution_count": 1,
   "id": "4e760629",
   "metadata": {},
   "outputs": [],
   "source": [
    "import numpy as np\n",
    "import matplotlib.pyplot as plt\n",
    "import pandas as pd\n",
    "from sklearn.preprocessing import StandardScaler\n",
    "from sklearn.model_selection import train_test_split\n",
    "from sklearn.neural_network import MLPRegressor\n",
    "from sklearn.metrics import mean_squared_error, r2_score"
   ]
  },
  {
   "cell_type": "code",
   "execution_count": 2,
   "id": "1375c3ec",
   "metadata": {},
   "outputs": [],
   "source": [
    "df = pd.read_csv(\"/Users/hanzichun/desktop/Optiver-07/Data/S27FE-10K.csv\")\n",
    "scaler = StandardScaler() \n",
    "df = pd.DataFrame(scaler.fit_transform(df), columns=df.columns)"
   ]
  },
  {
   "cell_type": "code",
   "execution_count": 3,
   "id": "9ede0a66",
   "metadata": {},
   "outputs": [],
   "source": [
    "X = df.drop(['realized_volatility'], axis=1)\n",
    "y = df['realized_volatility']\n",
    "\n",
    "# Train/test split\n",
    "X_train_scaled, X_test_scaled, y_train, y_test = train_test_split(\n",
    "    X, y,\n",
    "    test_size=0.2,\n",
    "    random_state=42\n",
    ")"
   ]
  },
  {
   "cell_type": "code",
   "execution_count": 4,
   "id": "6d56993d",
   "metadata": {},
   "outputs": [
    {
     "name": "stdout",
     "output_type": "stream",
     "text": [
      "\n",
      "Single Hidden Layer MLP Results:\n",
      "  MSE: 0.0043\n",
      "  R^2: 0.9957\n"
     ]
    }
   ],
   "source": [
    "single_layer_mlp = MLPRegressor(hidden_layer_sizes=(64,),\n",
    "                                activation='relu',\n",
    "                                solver='adam',\n",
    "                                max_iter=500,\n",
    "                                random_state=42)\n",
    "\n",
    "single_layer_mlp.fit(X_train_scaled, y_train)\n",
    "y_pred_single = single_layer_mlp.predict(X_test_scaled)\n",
    "\n",
    "mse_single = mean_squared_error(y_test, y_pred_single)\n",
    "r2_single = r2_score(y_test, y_pred_single)\n",
    "\n",
    "print(\"\\nSingle Hidden Layer MLP Results:\")\n",
    "print(f\"  MSE: {mse_single:.4f}\")\n",
    "print(f\"  R^2: {r2_single:.4f}\")"
   ]
  }
 ],
 "metadata": {
  "kernelspec": {
   "display_name": "volt",
   "language": "python",
   "name": "python3"
  },
  "language_info": {
   "codemirror_mode": {
    "name": "ipython",
    "version": 3
   },
   "file_extension": ".py",
   "mimetype": "text/x-python",
   "name": "python",
   "nbconvert_exporter": "python",
   "pygments_lexer": "ipython3",
   "version": "3.12.2"
  }
 },
 "nbformat": 4,
 "nbformat_minor": 5
}
