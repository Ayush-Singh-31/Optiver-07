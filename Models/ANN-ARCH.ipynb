{
 "cells": [
  {
   "cell_type": "code",
   "execution_count": 26,
   "id": "62bfe8ca",
   "metadata": {},
   "outputs": [],
   "source": [
    "import math, warnings\n",
    "import numpy as np\n",
    "import pandas as pd\n",
    "from sklearn.preprocessing import StandardScaler\n",
    "from sklearn.model_selection import TimeSeriesSplit\n",
    "import torch\n",
    "import torch.nn as nn\n",
    "from torch.utils.data import TensorDataset, DataLoader\n",
    "import matplotlib.pyplot as plt\n",
    "import scipy.stats as st"
   ]
  },
  {
   "cell_type": "code",
   "execution_count": 27,
   "id": "0871d040",
   "metadata": {},
   "outputs": [],
   "source": [
    "warnings.filterwarnings(\"ignore\", category=RuntimeWarning)"
   ]
  },
  {
   "cell_type": "code",
   "execution_count": 28,
   "id": "aa90c674",
   "metadata": {},
   "outputs": [],
   "source": [
    "df = pd.read_csv(\"/Users/ayush/Documents/University/Year 03/Sem 01/DATA3888/Optiver-07/Data/individual_book_train/stock_0.csv\")"
   ]
  },
  {
   "cell_type": "code",
   "execution_count": 29,
   "id": "10c61bf6",
   "metadata": {},
   "outputs": [],
   "source": [
    "def make_features(df: pd.DataFrame) -> pd.DataFrame:\n",
    "    \"\"\"Create liquidity, micro‑structure and realised‑volatility features.\"\"\"\n",
    "    # --- Level‑1 mid‑price & spread\n",
    "    df[\"mid_price\"] = (df[\"bid_price1\"] + df[\"ask_price1\"]) / 2\n",
    "    df[\"spread\"]    = df[\"ask_price1\"] - df[\"bid_price1\"]\n",
    "\n",
    "    # --- Imbalance, book pressure and micro‑price\n",
    "    with np.errstate(divide=\"ignore\", invalid=\"ignore\"):\n",
    "        num  = df[\"bid_size1\"] - df[\"ask_size1\"]\n",
    "        den  = df[\"bid_size1\"] + df[\"ask_size1\"]\n",
    "        df[\"imbalance\"] = np.where(den > 0, num / den, 0.0)\n",
    "\n",
    "        num2 = (df[\"bid_size1\"] + df[\"bid_size2\"]) - (df[\"ask_size1\"] + df[\"ask_size2\"])\n",
    "        den2 = df[[\"bid_size1\", \"bid_size2\", \"ask_size1\", \"ask_size2\"]].sum(axis=1)\n",
    "        df[\"book_pressure\"] = np.where(den2 > 0, num2 / den2, 0.0)\n",
    "\n",
    "        num3 = (df[\"ask_price1\"] * df[\"bid_size1\"] +\n",
    "                df[\"bid_price1\"] * df[\"ask_size1\"])\n",
    "        df[\"microprice\"] = np.where(den > 0, num3 / den, df[\"mid_price\"])\n",
    "\n",
    "    # --- Normalised spread & level‑2 imbalance\n",
    "    df[\"normalized_spread\"] = df[\"spread\"] / df[\"mid_price\"].replace(0, np.nan)\n",
    "    df[\"OBI_L2\"] = np.where(\n",
    "        den2 > 0,\n",
    "        (df[\"bid_size1\"] + df[\"bid_size2\"]) / den2,\n",
    "        0.5                                   # neutral book ‑ avoids NaNs\n",
    "    )\n",
    "\n",
    "    # --- Liquidity‑distribution entropy\n",
    "    sizes  = df[[\"bid_size1\",\"bid_size2\",\"ask_size1\",\"ask_size2\"]].astype(float).values\n",
    "    total  = sizes.sum(axis=1, keepdims=True)\n",
    "    p      = np.divide(sizes, total, where=total != 0)\n",
    "    ent    = -np.nansum(np.where(p > 0, p * np.log(p), 0.0), axis=1)\n",
    "    df[\"LOB_entropy\"]            = ent\n",
    "    df[\"LOB_entropy_normalized\"] = ent / np.log(4)\n",
    "\n",
    "    # --- Log‑returns & 30‑tick realised‑volatility/bipower‑variance\n",
    "    df[\"log_return\"] = (\n",
    "        df.groupby(\"time_id\")[\"mid_price\"]\n",
    "          .transform(lambda x: np.log(x / x.shift(1)))\n",
    "    )\n",
    "\n",
    "    df[\"realized_volatility\"] = (\n",
    "        df.groupby(\"time_id\")[\"log_return\"]\n",
    "          .transform(\n",
    "              lambda x: np.sqrt(\n",
    "                  (x.shift(1)**2).rolling(window=30, min_periods=30).sum()\n",
    "              )\n",
    "          )\n",
    "    )\n",
    "\n",
    "    df[\"bipower_var\"] = (\n",
    "        df.groupby(\"time_id\")[\"log_return\"]\n",
    "          .transform(\n",
    "              lambda x: (\n",
    "                  x.abs().shift(1)\n",
    "                    .rolling(2, min_periods=2)\n",
    "                    .apply(lambda r: r[0] * r[1], raw=True)\n",
    "                    .rolling(30, min_periods=30)\n",
    "                    .mean()\n",
    "              )\n",
    "          )\n",
    "    )\n",
    "\n",
    "    df.replace([np.inf, -np.inf], np.nan, inplace=True)\n",
    "    df.dropna(inplace=True)\n",
    "\n",
    "    return df"
   ]
  },
  {
   "cell_type": "code",
   "execution_count": 30,
   "id": "7fc29b2c",
   "metadata": {},
   "outputs": [],
   "source": [
    "df = make_features(df)"
   ]
  },
  {
   "cell_type": "code",
   "execution_count": 65,
   "id": "8676bf4d",
   "metadata": {},
   "outputs": [],
   "source": [
    "df[\"rv_30_future\"] = (\n",
    "    df.groupby(\"time_id\")[\"realized_volatility\"].shift(-30)\n",
    ")\n",
    "df.dropna(subset=[\"rv_30_future\"], inplace=True)"
   ]
  },
  {
   "cell_type": "code",
   "execution_count": 66,
   "id": "f7db7acb",
   "metadata": {},
   "outputs": [],
   "source": [
    "df = df.sort_values([\"time_id\", \"seconds_in_bucket\"])"
   ]
  },
  {
   "cell_type": "code",
   "execution_count": 67,
   "id": "de601eb5",
   "metadata": {},
   "outputs": [],
   "source": [
    "feats = [\n",
    "    c for c in df.columns\n",
    "    if c not in {\"stock_id\", \"time_id\", \"seconds_in_bucket\", \"rv_30_future\"}\n",
    "]\n",
    "df_block = (\n",
    "    df.groupby(\"time_id\")\n",
    "      .agg({**{c: \"mean\" for c in feats}, \"rv_30_future\": \"mean\"})\n",
    "      .reset_index()\n",
    ")"
   ]
  },
  {
   "cell_type": "code",
   "execution_count": 68,
   "id": "937045e8",
   "metadata": {},
   "outputs": [],
   "source": [
    "X = df_block[feats].values.astype(np.float32)\n",
    "y = df_block[\"rv_30_future\"].values.astype(np.float32)\n",
    "time_ids = df_block[\"time_id\"].values"
   ]
  },
  {
   "cell_type": "code",
   "execution_count": 69,
   "id": "8b262df2",
   "metadata": {},
   "outputs": [],
   "source": [
    "blocks = np.unique(time_ids)\n",
    "block_idx = {b: i for i, b in enumerate(blocks)}\n",
    "block_indices = np.array([block_idx[t] for t in time_ids])"
   ]
  },
  {
   "cell_type": "code",
   "execution_count": 70,
   "id": "f99b6499",
   "metadata": {},
   "outputs": [],
   "source": [
    "n_test_blocks = max(int(0.1 * len(blocks)), 1)\n",
    "block_cv = TimeSeriesSplit(n_splits=5, test_size=n_test_blocks, gap=1)"
   ]
  },
  {
   "cell_type": "code",
   "execution_count": 71,
   "id": "b1b52172",
   "metadata": {},
   "outputs": [],
   "source": [
    "device = torch.device(\"cuda\" if torch.cuda.is_available() else \"cpu\")\n",
    "best_rmse = float(\"inf\")\n",
    "best_state = None\n",
    "best_scaler = None"
   ]
  },
  {
   "cell_type": "code",
   "execution_count": 72,
   "id": "9828537c",
   "metadata": {},
   "outputs": [],
   "source": [
    "class ANN_ARCH(nn.Module):\n",
    "    def __init__(self, n_in: int):\n",
    "        super().__init__()\n",
    "        self.net = nn.Sequential(\n",
    "            nn.Linear(n_in, 128),\n",
    "            nn.ReLU(),\n",
    "            nn.Linear(128, 64),\n",
    "            nn.ReLU(),\n",
    "            nn.Linear(64, 1),    # ← directly outputs log σ\n",
    "        )\n",
    "\n",
    "    def forward(self, x):\n",
    "        return self.net(x)"
   ]
  },
  {
   "cell_type": "code",
   "execution_count": 73,
   "id": "a2b133d7",
   "metadata": {},
   "outputs": [],
   "source": [
    "X_tensor = torch.from_numpy(X)\n",
    "y_tensor = torch.from_numpy(np.log(y))  # train in log-space"
   ]
  },
  {
   "cell_type": "code",
   "execution_count": 74,
   "id": "09791243",
   "metadata": {},
   "outputs": [
    {
     "name": "stdout",
     "output_type": "stream",
     "text": [
      "Fold 1: val RMSE (log-σ) = 1.4866\n",
      "Fold 2: val RMSE (log-σ) = 1.3154\n",
      "Fold 3: val RMSE (log-σ) = 1.3583\n",
      "Fold 4: val RMSE (log-σ) = 1.3935\n",
      "Fold 5: val RMSE (log-σ) = 1.1861\n"
     ]
    }
   ],
   "source": [
    "for fold, (train_block_idxs, val_block_idxs) in enumerate(block_cv.split(blocks), 1):\n",
    "    # **Compare to block-indices**, not to time_id values:**\n",
    "    train_mask = np.isin(block_indices, train_block_idxs)\n",
    "    val_mask   = np.isin(block_indices, val_block_idxs)\n",
    "\n",
    "    train_idx = np.where(train_mask)[0]\n",
    "    val_idx   = np.where(val_mask)[0]\n",
    "\n",
    "    # sanity check\n",
    "    if len(val_idx) == 0:\n",
    "        raise RuntimeError(f\"Fold {fold} yielded 0 validation rows—check your block split.\")\n",
    "\n",
    "    # Fit scaler only on train fold\n",
    "    scaler = StandardScaler().fit(X[train_idx])\n",
    "    X_train = scaler.transform(X[train_idx])\n",
    "    X_val   = scaler.transform(X[val_idx])\n",
    "\n",
    "    # Wrap once as tensors\n",
    "    X_train_t = torch.from_numpy(X_train).to(device)\n",
    "    y_train_t = y_tensor[train_idx].to(device)\n",
    "    X_val_t   = torch.from_numpy(X_val).to(device)\n",
    "    y_val_t   = y_tensor[val_idx].to(device)\n",
    "\n",
    "    train_ds = TensorDataset(X_train_t, y_train_t)\n",
    "    val_ds   = TensorDataset(X_val_t,   y_val_t)\n",
    "    train_loader = DataLoader(train_ds, batch_size=1024, shuffle=True)\n",
    "    val_loader   = DataLoader(val_ds,   batch_size=1024, shuffle=False)\n",
    "\n",
    "    model = ANN_ARCH(n_in=X.shape[1]).to(device)\n",
    "    opt = torch.optim.Adam(model.parameters(), lr=1e-3)\n",
    "    loss_fn = nn.MSELoss()\n",
    "\n",
    "    # Train on log σ directly\n",
    "    model.train()\n",
    "    for epoch in range(50):\n",
    "        for xb, yb in train_loader:\n",
    "            opt.zero_grad()\n",
    "            preds = model(xb).squeeze()\n",
    "            loss = loss_fn(preds, yb)\n",
    "            loss.backward()\n",
    "            opt.step()\n",
    "\n",
    "    # Evaluate\n",
    "    model.eval()\n",
    "    with torch.no_grad():\n",
    "        preds = torch.cat([model(xb).cpu() for xb, _ in val_loader]).squeeze()\n",
    "    rmse = torch.sqrt(((preds - y_val_t.cpu()) ** 2).mean())\n",
    "\n",
    "    print(f\"Fold {fold}: val RMSE (log-σ) = {rmse:.4f}\")\n",
    "\n",
    "    if rmse < best_rmse:\n",
    "        best_rmse = rmse\n",
    "        best_state = model.state_dict()\n",
    "        best_scaler = scaler"
   ]
  },
  {
   "cell_type": "code",
   "execution_count": 75,
   "id": "1a85b9cd",
   "metadata": {},
   "outputs": [],
   "source": [
    "scaler_full = StandardScaler().fit(X)\n",
    "X_full = scaler_full.transform(X)\n",
    "X_full_t = torch.from_numpy(X_full).to(device)\n",
    "y_full_t = y_tensor.to(device)\n",
    "\n",
    "full_ds = TensorDataset(X_full_t, y_full_t)\n",
    "full_loader = DataLoader(full_ds, batch_size=1024, shuffle=True)\n",
    "\n",
    "final_model = ANN_ARCH(n_in=X.shape[1]).to(device)\n",
    "final_model.load_state_dict(best_state)  # optionally warm-start\n",
    "opt = torch.optim.Adam(final_model.parameters(), lr=1e-3)"
   ]
  },
  {
   "cell_type": "code",
   "execution_count": 76,
   "id": "d30e4af4",
   "metadata": {},
   "outputs": [
    {
     "name": "stdout",
     "output_type": "stream",
     "text": [
      "Best validation RMSE (log-σ) across folds = 1.1861\n"
     ]
    }
   ],
   "source": [
    "final_model.train()\n",
    "for epoch in range(50):\n",
    "    for xb, yb in full_loader:\n",
    "        opt.zero_grad()\n",
    "        preds = final_model(xb).squeeze()\n",
    "        loss = loss_fn(preds, yb)\n",
    "        loss.backward()\n",
    "        opt.step()\n",
    "\n",
    "print(f\"Best validation RMSE (log-σ) across folds = {best_rmse:.4f}\")"
   ]
  },
  {
   "cell_type": "code",
   "execution_count": 77,
   "id": "77aacb70",
   "metadata": {},
   "outputs": [
    {
     "name": "stdout",
     "output_type": "stream",
     "text": [
      "Forecast σ (30-tick ahead) for last time_id = 0.000508792\n"
     ]
    }
   ],
   "source": [
    "final_model.eval()\n",
    "with torch.no_grad():\n",
    "    x_last = torch.from_numpy(\n",
    "        scaler_full.transform(X[-1:].astype(np.float32))\n",
    "    ).to(device)\n",
    "    log_sigma = final_model(x_last).item()\n",
    "    sigma = np.exp(log_sigma)  # convert back to σ\n",
    "\n",
    "print(f\"Forecast σ (30-tick ahead) for last time_id = {sigma:.9f}\")"
   ]
  },
  {
   "cell_type": "code",
   "execution_count": 78,
   "id": "09e0336b",
   "metadata": {},
   "outputs": [],
   "source": [
    "test_blocks = max(int(0.05 * len(X)), 1)\n",
    "X_test  = scaler.transform(X[-test_blocks:])\n",
    "y_test  = y[-test_blocks:]            \n",
    "\n",
    "\n",
    "with torch.no_grad():\n",
    "    X_tensor = torch.tensor(X_test).to(device)\n",
    "    log_pred = model(X_tensor).cpu().numpy().ravel()\n",
    "y_pred_sigma = np.exp(log_pred)        "
   ]
  },
  {
   "cell_type": "code",
   "execution_count": 79,
   "id": "dd02547b",
   "metadata": {},
   "outputs": [
    {
     "data": {
      "image/png": "[encoded data removed]",
      "text/plain": [
       "<Figure size 640x480 with 1 Axes>"
      ]
     },
     "metadata": {},
     "output_type": "display_data"
    }
   ],
   "source": [
    "plt.figure()\n",
    "plt.scatter(\n",
    "    np.sqrt(y_test),\n",
    "    np.sqrt(y_pred_sigma),\n",
    "    s=12,\n",
    "    alpha=0.6,\n",
    ")\n",
    "\n",
    "lims = [0, np.max(np.sqrt(y_test))]\n",
    "plt.plot(lims, lims, linestyle=\"--\")\n",
    "plt.title(\"30-tick √σ̂ vs √σ (last 5 %)\")\n",
    "plt.xlabel(\"√True σ\")\n",
    "plt.ylabel(\"√Predicted σ\")\n",
    "plt.grid()\n",
    "plt.show()\n"
   ]
  },
  {
   "cell_type": "code",
   "execution_count": 80,
   "id": "648fb51c",
   "metadata": {},
   "outputs": [
    {
     "data": {
      "image/png": "[encoded data removed]",
      "text/plain": [
       "<Figure size 640x480 with 1 Axes>"
      ]
     },
     "metadata": {},
     "output_type": "display_data"
    }
   ],
   "source": [
    "resid = np.log(y_pred_sigma) - np.log(y_test)\n",
    "resid = resid[np.isfinite(resid)]\n",
    "\n",
    "plt.figure()\n",
    "st.probplot(resid, dist=\"norm\", plot=plt)\n",
    "plt.title(\"Quantile-quantile plot of log-residuals\")\n",
    "plt.xlabel(\"Theoretical quantiles\")\n",
    "plt.ylabel(\"Sample quantiles\")\n",
    "plt.grid(True)\n",
    "plt.show()"
   ]
  }
 ],
 "metadata": {
  "kernelspec": {
   "display_name": "volt",
   "language": "python",
   "name": "python3"
  },
  "language_info": {
   "codemirror_mode": {
    "name": "ipython",
    "version": 3
   },
   "file_extension": ".py",
   "mimetype": "text/x-python",
   "name": "python",
   "nbconvert_exporter": "python",
   "pygments_lexer": "ipython3",
   "version": "3.12.1"
  }
 },
 "nbformat": 4,
 "nbformat_minor": 5
}
