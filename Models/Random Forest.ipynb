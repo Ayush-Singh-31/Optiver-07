{
 "cells": [
  {
   "cell_type": "code",
   "execution_count": 1,
   "id": "cad66b08",
   "metadata": {},
   "outputs": [],
   "source": [
    "#TOBIT\n",
    "import numpy as np\n",
    "import pandas as pd\n",
    "import matplotlib.pyplot as plt\n",
    "from sklearn.ensemble import RandomForestRegressor\n",
    "from sklearn.model_selection import train_test_split\n",
    "from sklearn.preprocessing import StandardScaler\n",
    "from sklearn.metrics import mean_squared_error, r2_score"
   ]
  },
  {
   "cell_type": "code",
   "execution_count": 2,
   "id": "51bce218",
   "metadata": {},
   "outputs": [],
   "source": [
    "df = pd.read_csv(\"/Users/tobitlouis/Downloads/S27FE-10K.csv\")\n"
   ]
  },
  {
   "cell_type": "code",
   "execution_count": 8,
   "id": "2b55b7a4",
   "metadata": {},
   "outputs": [
    {
     "name": "stdout",
     "output_type": "stream",
     "text": [
      "Random Forest Regression Results:\n",
      "  MSE: 0.0000\n",
      "  R^2: 1.0000\n"
     ]
    }
   ],
   "source": [
    "# Split features and target BEFORE scaling\n",
    "X = df.drop('realized_volatility', axis=1)\n",
    "y = df['realized_volatility']\n",
    "\n",
    "# Scale only features\n",
    "scaler = StandardScaler()\n",
    "X_scaled = pd.DataFrame(scaler.fit_transform(X), columns=X.columns)\n",
    "\n",
    "# Train/test split\n",
    "X_train, X_test, y_train, y_test = train_test_split(\n",
    "    X_scaled, y,\n",
    "    test_size=0.2,\n",
    "    random_state=42\n",
    ")\n",
    "\n",
    "# Initialize and fit Random Forest\n",
    "rf = RandomForestRegressor(\n",
    "    n_estimators=100,\n",
    "    max_depth=None,\n",
    "    random_state=42,\n",
    "    n_jobs=-1\n",
    ")\n",
    "rf.fit(X_train, y_train)\n",
    "\n",
    "# Predict\n",
    "y_pred_rf = rf.predict(X_test)\n",
    "\n",
    "# Evaluate\n",
    "mse_rf = mean_squared_error(y_test, y_pred_rf)\n",
    "r2_rf = r2_score(y_test, y_pred_rf)\n",
    "\n",
    "print(\"Random Forest Regression Results:\")\n",
    "print(f\"  MSE: {mse_rf:.4f}\")\n",
    "print(f\"  R^2: {r2_rf:.4f}\")"
   ]
  },
  {
   "cell_type": "code",
   "execution_count": 6,
   "id": "e6b2c5c5",
   "metadata": {},
   "outputs": [
    {
     "name": "stdout",
     "output_type": "stream",
     "text": [
      "['Unnamed: 0', 'time_id', 'seconds_in_bucket', 'bid_price1', 'ask_price1', 'bid_price2', 'ask_price2', 'bid_size1', 'ask_size1', 'bid_size2', 'ask_size2', 'stock_id', 'midpoint1', 'midpoint2', 'bid_ask_spread1', 'bid_ask_spread2', 'log_return', 'integrated_variance', 'integrated_volatility', 'normalized_spread1', 'normalized_spread2', 'order_book_imbalance1', 'order_book_imbalance2', 'OBI_L2', 'future_midpoint', 'adverse_cost_buy', 'adverse_cost_sell', 'LOB_entropy', 'LOB_entropy_normalized', 'microprice', 'lob_slope', 'lob_slope_top2', 'trade_sign', 'jump_in_quotes', 'bipower_var', 'rolling_integrated_variance', 'rolling_integrated_vol', 'acf_lag1', 'acf_lag2', 'acf_lag3', 'acf_lag4', 'acf_lag5', 'pacf_lag1', 'pacf_lag2', 'pacf_lag3', 'pacf_lag4', 'pacf_lag5', 'rsi_14', 'bb_mid', 'bb_upper', 'bb_lower']\n"
     ]
    }
   ],
   "source": [
    "print(X.columns.tolist())\n"
   ]
  }
 ],
 "metadata": {
  "kernelspec": {
   "display_name": "Python 3",
   "language": "python",
   "name": "python3"
  },
  "language_info": {
   "codemirror_mode": {
    "name": "ipython",
    "version": 3
   },
   "file_extension": ".py",
   "mimetype": "text/x-python",
   "name": "python",
   "nbconvert_exporter": "python",
   "pygments_lexer": "ipython3",
   "version": "3.11.2"
  }
 },
 "nbformat": 4,
 "nbformat_minor": 5
}
