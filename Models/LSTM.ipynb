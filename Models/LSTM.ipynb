{
 "cells": [
  {
   "cell_type": "code",
   "execution_count": 148,
   "id": "ddd95543",
   "metadata": {},
   "outputs": [],
   "source": [
    "import numpy as np\n",
    "import pandas as pd\n",
    "import matplotlib.pyplot as plt\n",
    "from sklearn.preprocessing import MinMaxScaler\n",
    "from sklearn.metrics import r2_score\n",
    "import tensorflow as tf\n",
    "from tensorflow import keras\n",
    "from tensorflow.keras import layers\n",
    "import random\n",
    "from tensorflow.keras.models import Sequential\n",
    "from tensorflow.keras.layers import LSTM, Dense, Dropout\n",
    "from tensorflow.keras.callbacks import EarlyStopping"
   ]
  },
  {
   "cell_type": "code",
   "execution_count": 149,
   "id": "b1a3bac8",
   "metadata": {},
   "outputs": [],
   "source": [
    "random.seed(3888)"
   ]
  },
  {
   "cell_type": "code",
   "execution_count": null,
   "id": "d4310601",
   "metadata": {},
   "outputs": [],
   "source": [
    "df = pd.read_csv(\"/Users/ayush/Documents/University/Year 03/Sem 01/DATA3888/Optiver-07/Data/individual_book_train/stock_96.csv\")"
   ]
  },
  {
   "cell_type": "code",
   "execution_count": 151,
   "id": "6e69ab2e",
   "metadata": {},
   "outputs": [],
   "source": [
    "def make_features(df: pd.DataFrame) -> pd.DataFrame:\n",
    "\n",
    "    df = df.copy()\n",
    "    # 1. mid_price & spread\n",
    "    df['mid_price'] = (df['bid_price1'] + df['ask_price1']) / 2\n",
    "    df['spread']    = df['ask_price1'] - df['bid_price1']\n",
    "    \n",
    "    # 2. imbalance & book_pressure & microprice\n",
    "    with np.errstate(divide='ignore', invalid='ignore'):\n",
    "        num  = df['bid_size1'] - df['ask_size1']\n",
    "        den  = df['bid_size1'] + df['ask_size1']\n",
    "        df['imbalance'] = np.where(den > 0, num / den, np.nan)\n",
    "\n",
    "        num2 = (df['bid_size1'] + df['bid_size2']) - (df['ask_size1'] + df['ask_size2'])\n",
    "        den2 = df[['bid_size1','bid_size2','ask_size1','ask_size2']].sum(axis=1)\n",
    "        df['book_pressure'] = np.where(den2 > 0, num2 / den2, np.nan)\n",
    "\n",
    "        num3 = (df['ask_price1'] * df['bid_size1'] +\n",
    "                df['bid_price1'] * df['ask_size1'])\n",
    "        df['microprice'] = np.where(den > 0, num3 / den, np.nan)\n",
    "\n",
    "    # 3. normalized_spread & L2 OBI\n",
    "    df['normalized_spread'] = df['spread'] / df['mid_price'].replace(0, np.nan)\n",
    "    df['OBI_L2'] = np.where(den2 > 0, (df['bid_size1'] + df['bid_size2']) / den2, np.nan)\n",
    "\n",
    "    # 4. LOB entropy\n",
    "    sizes = df[['bid_size1','bid_size2','ask_size1','ask_size2']].astype(float).values\n",
    "    total = sizes.sum(axis=1, keepdims=True)\n",
    "    p = np.divide(sizes, total, where=total != 0)\n",
    "    entropy = -np.nansum(np.where(p > 0, p * np.log(p), 0), axis=1)\n",
    "    df['LOB_entropy'] = entropy\n",
    "    df['LOB_entropy_normalized'] = entropy / np.log(4)\n",
    "\n",
    "    # 5. log returns\n",
    "    df['log_return'] = (\n",
    "        df.groupby('time_id')['mid_price']\n",
    "          .transform(lambda x: np.log(x / x.shift(1)))\n",
    "    )\n",
    "\n",
    "    # 6. Realized volatility (safe: no leakage)\n",
    "\n",
    "    df['realized_volatility'] = (\n",
    "        df.groupby('time_id')['log_return']\n",
    "        .transform(lambda x: np.sqrt(\n",
    "            ((x.shift(1) ** 2)\n",
    "                .rolling(30, min_periods=1)\n",
    "                .sum()\n",
    "            ).clip(lower=0)\n",
    "        ))\n",
    "    )\n",
    "\n",
    "    # TARGET\n",
    "    df['rv_future'] = (\n",
    "        df.groupby('time_id')['realized_volatility'].shift(-30)   \n",
    "    )\n",
    "\n",
    "    # 7. Bipower variance (safe: no leakage)\n",
    "    df['bipower_var'] = (\n",
    "        df.groupby('time_id')['log_return']\n",
    "          .transform(lambda x: x.abs().shift(1)\n",
    "                       .rolling(2, min_periods=1)\n",
    "                       .apply(lambda r: r[0] * r[1], raw=True)\n",
    "                       .rolling(30, min_periods=1)\n",
    "                       .mean())\n",
    "    )\n",
    "\n",
    "    # 8. WAP and its log return\n",
    "    df['wap'] = (\n",
    "        (df['bid_price1'] * df['ask_size1'] + df['ask_price1'] * df['bid_size1']) /\n",
    "        (df['bid_size1'] + df['ask_size1']).replace(0, np.nan)\n",
    "    )\n",
    "    df['log_wap_return'] = (\n",
    "        df.groupby('time_id')['wap']\n",
    "          .transform(lambda x: np.log(x / x.shift(1)))\n",
    "    )\n",
    "\n",
    "    # 9. Lag features (safe)\n",
    "    for col in ['imbalance', 'book_pressure', 'log_return']:\n",
    "        df[f'{col}_lag1'] = df.groupby('time_id')[col].shift(1)\n",
    "        df[f'{col}_lag2'] = df.groupby('time_id')[col].shift(2)\n",
    "\n",
    "    # 10. Rolling stats (safe)\n",
    "    df['rolling_vol_30'] = (\n",
    "        df.groupby('time_id')['log_return']\n",
    "          .transform(lambda x: x.shift(1).rolling(30, min_periods=1).std())\n",
    "    )\n",
    "    df['rolling_imbalance_mean_30'] = (\n",
    "        df.groupby('time_id')['imbalance']\n",
    "          .transform(lambda x: x.shift(1).rolling(30, min_periods=1).mean())\n",
    "    )\n",
    "\n",
    "    df = df.dropna()   \n",
    "    df = df.replace([np.inf, -np.inf], np.nan)\n",
    "    return df"
   ]
  },
  {
   "cell_type": "code",
   "execution_count": 152,
   "id": "3f66d842",
   "metadata": {},
   "outputs": [],
   "source": [
    "df = make_features(df)"
   ]
  },
  {
   "cell_type": "code",
   "execution_count": 153,
   "id": "827d8bc7",
   "metadata": {},
   "outputs": [],
   "source": [
    "def add_time_features(df_enriched: pd.DataFrame, period: int = 600):\n",
    "\n",
    "    theta = 2 * np.pi * df_enriched['seconds_in_bucket'] / period\n",
    "    df_enriched['sec_sin'] = np.sin(theta)\n",
    "    df_enriched['sec_cos'] = np.cos(theta)\n",
    "\n",
    "    return df_enriched.drop(columns=[\"seconds_in_bucket\"])\n",
    "\n",
    "df = add_time_features(df)"
   ]
  },
  {
   "cell_type": "code",
   "execution_count": 154,
   "id": "d2fe2395",
   "metadata": {},
   "outputs": [],
   "source": [
    "for c in ['bid_size1','ask_size1','bid_size2','ask_size2']:\n",
    "    df[c + '_log'] = np.log1p(df[c])\n",
    "    df.drop(columns=c, inplace=True)"
   ]
  },
  {
   "cell_type": "code",
   "execution_count": 155,
   "id": "0aef8bcd",
   "metadata": {},
   "outputs": [],
   "source": [
    "feature_cols = ['bid_price1', 'ask_price1', 'bid_price2', 'ask_price2',\n",
    "       'stock_id', 'mid_price', 'spread', 'imbalance', 'book_pressure',\n",
    "       'microprice', 'normalized_spread', 'OBI_L2', 'LOB_entropy',\n",
    "       'LOB_entropy_normalized', 'log_return', 'realized_volatility', 'bipower_var', 'wap', 'log_wap_return', 'imbalance_lag1',\n",
    "       'imbalance_lag2', 'book_pressure_lag1', 'book_pressure_lag2',\n",
    "       'log_return_lag1', 'log_return_lag2', 'rolling_vol_30',\n",
    "       'rolling_imbalance_mean_30', 'sec_sin', 'sec_cos', 'bid_size1_log',\n",
    "       'ask_size1_log', 'bid_size2_log', 'ask_size2_log']\n",
    "target_col = \"rv_future\""
   ]
  },
  {
   "cell_type": "code",
   "execution_count": 156,
   "id": "fa1a5300",
   "metadata": {},
   "outputs": [],
   "source": [
    "df['rv_future_log'] = np.log1p(df['rv_future'])\n",
    "feature_cols_mod = [c for c in feature_cols if c!='rv_future'] \n",
    "target_col_mod     = 'rv_future_log'"
   ]
  },
  {
   "cell_type": "code",
   "execution_count": 157,
   "id": "ac754730",
   "metadata": {},
   "outputs": [],
   "source": [
    "unique_sessions = df[\"time_id\"].sort_values().unique()\n",
    "split_idx       = int(len(unique_sessions) * 0.8)          \n",
    "train_sessions  = unique_sessions[:split_idx]\n",
    "test_sessions   = unique_sessions[split_idx:]"
   ]
  },
  {
   "cell_type": "code",
   "execution_count": 158,
   "id": "7a0490b4",
   "metadata": {},
   "outputs": [],
   "source": [
    "train_df = df[df[\"time_id\"].isin(train_sessions)].copy()\n",
    "test_df  = df[df[\"time_id\"].isin(test_sessions)].copy()"
   ]
  },
  {
   "cell_type": "code",
   "execution_count": 159,
   "id": "6c9a1888",
   "metadata": {},
   "outputs": [],
   "source": [
    "x_scaler = MinMaxScaler().fit(train_df[feature_cols_mod])\n",
    "y_scaler = MinMaxScaler(feature_range=(0,1)).fit(train_df[[target_col_mod]])\n",
    "\n",
    "train_df[feature_cols_mod] = x_scaler.transform(train_df[feature_cols_mod])\n",
    "test_df[feature_cols_mod]  = x_scaler.transform(test_df[feature_cols_mod])\n",
    "train_df[target_col_mod]   = y_scaler.transform(train_df[[target_col_mod]])\n",
    "test_df[target_col_mod]    = y_scaler.transform(test_df[[target_col_mod]])"
   ]
  },
  {
   "cell_type": "code",
   "execution_count": 160,
   "id": "d83592d8",
   "metadata": {},
   "outputs": [],
   "source": [
    "SEQ_LEN = 30   \n",
    "\n",
    "def build_sequences(df_part: pd.DataFrame, feature_cols, target_col, seq_len):\n",
    "    \"\"\"Return X, y arrays where each sample is wholly inside one session.\"\"\"\n",
    "    X, y = [], []\n",
    "    for _, session in df_part.groupby(\"time_id\"):\n",
    "        data   = session[feature_cols].values\n",
    "        target = session[target_col].values\n",
    "        for i in range(len(session) - seq_len):\n",
    "            X.append(data[i : i + seq_len])\n",
    "            y.append(target[i + seq_len])\n",
    "    return np.asarray(X), np.asarray(y)\n",
    "\n",
    "X_train, y_train = build_sequences(train_df, feature_cols, target_col, SEQ_LEN)\n",
    "X_test,  y_test  = build_sequences(test_df,  feature_cols, target_col, SEQ_LEN)"
   ]
  },
  {
   "cell_type": "code",
   "execution_count": 161,
   "id": "1069d338",
   "metadata": {},
   "outputs": [],
   "source": [
    "val_split_idx = int(len(train_sessions) * 0.9)\n",
    "val_sessions  = train_sessions[val_split_idx:]\n",
    "train_sessions= train_sessions[:val_split_idx]\n",
    "\n",
    "val_df = train_df[train_df[\"time_id\"].isin(val_sessions)]\n",
    "train_df = train_df[train_df[\"time_id\"].isin(train_sessions)]\n",
    "\n",
    "X_train, y_train = build_sequences(train_df, feature_cols_mod, 'rv_future_log', SEQ_LEN)\n",
    "X_val,   y_val   = build_sequences(val_df,   feature_cols_mod, 'rv_future_log', SEQ_LEN)\n",
    "X_test,  y_test  = build_sequences(test_df,  feature_cols_mod, 'rv_future_log', SEQ_LEN)"
   ]
  },
  {
   "cell_type": "code",
   "execution_count": 162,
   "id": "1a21984b",
   "metadata": {},
   "outputs": [
    {
     "name": "stderr",
     "output_type": "stream",
     "text": [
      "/Users/ayush/Documents/University/Year 03/Sem 01/DATA3888/Optiver-07/volt/lib/python3.12/site-packages/keras/src/layers/rnn/rnn.py:200: UserWarning: Do not pass an `input_shape`/`input_dim` argument to a layer. When using Sequential models, prefer using an `Input(shape)` object as the first layer in the model instead.\n",
      "  super().__init__(**kwargs)\n"
     ]
    },
    {
     "data": {
      "text/html": [
       "<pre style=\"white-space:pre;overflow-x:auto;line-height:normal;font-family:Menlo,'DejaVu Sans Mono',consolas,'Courier New',monospace\"><span style=\"font-weight: bold\">Model: \"sequential_7\"</span>\n",
       "</pre>\n"
      ],
      "text/plain": [
       "\u001b[1mModel: \"sequential_7\"\u001b[0m\n"
      ]
     },
     "metadata": {},
     "output_type": "display_data"
    },
    {
     "data": {
      "text/html": [
       "<pre style=\"white-space:pre;overflow-x:auto;line-height:normal;font-family:Menlo,'DejaVu Sans Mono',consolas,'Courier New',monospace\">┏━━━━━━━━━━━━━━━━━━━━━━━━━━━━━━━━━┳━━━━━━━━━━━━━━━━━━━━━━━━┳━━━━━━━━━━━━━━━┓\n",
       "┃<span style=\"font-weight: bold\"> Layer (type)                    </span>┃<span style=\"font-weight: bold\"> Output Shape           </span>┃<span style=\"font-weight: bold\">       Param # </span>┃\n",
       "┡━━━━━━━━━━━━━━━━━━━━━━━━━━━━━━━━━╇━━━━━━━━━━━━━━━━━━━━━━━━╇━━━━━━━━━━━━━━━┩\n",
       "│ lstm_14 (<span style=\"color: #0087ff; text-decoration-color: #0087ff\">LSTM</span>)                  │ (<span style=\"color: #00d7ff; text-decoration-color: #00d7ff\">None</span>, <span style=\"color: #00af00; text-decoration-color: #00af00\">30</span>, <span style=\"color: #00af00; text-decoration-color: #00af00\">64</span>)         │        <span style=\"color: #00af00; text-decoration-color: #00af00\">25,088</span> │\n",
       "├─────────────────────────────────┼────────────────────────┼───────────────┤\n",
       "│ dropout_14 (<span style=\"color: #0087ff; text-decoration-color: #0087ff\">Dropout</span>)            │ (<span style=\"color: #00d7ff; text-decoration-color: #00d7ff\">None</span>, <span style=\"color: #00af00; text-decoration-color: #00af00\">30</span>, <span style=\"color: #00af00; text-decoration-color: #00af00\">64</span>)         │             <span style=\"color: #00af00; text-decoration-color: #00af00\">0</span> │\n",
       "├─────────────────────────────────┼────────────────────────┼───────────────┤\n",
       "│ lstm_15 (<span style=\"color: #0087ff; text-decoration-color: #0087ff\">LSTM</span>)                  │ (<span style=\"color: #00d7ff; text-decoration-color: #00d7ff\">None</span>, <span style=\"color: #00af00; text-decoration-color: #00af00\">32</span>)             │        <span style=\"color: #00af00; text-decoration-color: #00af00\">12,416</span> │\n",
       "├─────────────────────────────────┼────────────────────────┼───────────────┤\n",
       "│ dropout_15 (<span style=\"color: #0087ff; text-decoration-color: #0087ff\">Dropout</span>)            │ (<span style=\"color: #00d7ff; text-decoration-color: #00d7ff\">None</span>, <span style=\"color: #00af00; text-decoration-color: #00af00\">32</span>)             │             <span style=\"color: #00af00; text-decoration-color: #00af00\">0</span> │\n",
       "├─────────────────────────────────┼────────────────────────┼───────────────┤\n",
       "│ dense_14 (<span style=\"color: #0087ff; text-decoration-color: #0087ff\">Dense</span>)                │ (<span style=\"color: #00d7ff; text-decoration-color: #00d7ff\">None</span>, <span style=\"color: #00af00; text-decoration-color: #00af00\">16</span>)             │           <span style=\"color: #00af00; text-decoration-color: #00af00\">528</span> │\n",
       "├─────────────────────────────────┼────────────────────────┼───────────────┤\n",
       "│ dense_15 (<span style=\"color: #0087ff; text-decoration-color: #0087ff\">Dense</span>)                │ (<span style=\"color: #00d7ff; text-decoration-color: #00d7ff\">None</span>, <span style=\"color: #00af00; text-decoration-color: #00af00\">1</span>)              │            <span style=\"color: #00af00; text-decoration-color: #00af00\">17</span> │\n",
       "└─────────────────────────────────┴────────────────────────┴───────────────┘\n",
       "</pre>\n"
      ],
      "text/plain": [
       "┏━━━━━━━━━━━━━━━━━━━━━━━━━━━━━━━━━┳━━━━━━━━━━━━━━━━━━━━━━━━┳━━━━━━━━━━━━━━━┓\n",
       "┃\u001b[1m \u001b[0m\u001b[1mLayer (type)                   \u001b[0m\u001b[1m \u001b[0m┃\u001b[1m \u001b[0m\u001b[1mOutput Shape          \u001b[0m\u001b[1m \u001b[0m┃\u001b[1m \u001b[0m\u001b[1m      Param #\u001b[0m\u001b[1m \u001b[0m┃\n",
       "┡━━━━━━━━━━━━━━━━━━━━━━━━━━━━━━━━━╇━━━━━━━━━━━━━━━━━━━━━━━━╇━━━━━━━━━━━━━━━┩\n",
       "│ lstm_14 (\u001b[38;5;33mLSTM\u001b[0m)                  │ (\u001b[38;5;45mNone\u001b[0m, \u001b[38;5;34m30\u001b[0m, \u001b[38;5;34m64\u001b[0m)         │        \u001b[38;5;34m25,088\u001b[0m │\n",
       "├─────────────────────────────────┼────────────────────────┼───────────────┤\n",
       "│ dropout_14 (\u001b[38;5;33mDropout\u001b[0m)            │ (\u001b[38;5;45mNone\u001b[0m, \u001b[38;5;34m30\u001b[0m, \u001b[38;5;34m64\u001b[0m)         │             \u001b[38;5;34m0\u001b[0m │\n",
       "├─────────────────────────────────┼────────────────────────┼───────────────┤\n",
       "│ lstm_15 (\u001b[38;5;33mLSTM\u001b[0m)                  │ (\u001b[38;5;45mNone\u001b[0m, \u001b[38;5;34m32\u001b[0m)             │        \u001b[38;5;34m12,416\u001b[0m │\n",
       "├─────────────────────────────────┼────────────────────────┼───────────────┤\n",
       "│ dropout_15 (\u001b[38;5;33mDropout\u001b[0m)            │ (\u001b[38;5;45mNone\u001b[0m, \u001b[38;5;34m32\u001b[0m)             │             \u001b[38;5;34m0\u001b[0m │\n",
       "├─────────────────────────────────┼────────────────────────┼───────────────┤\n",
       "│ dense_14 (\u001b[38;5;33mDense\u001b[0m)                │ (\u001b[38;5;45mNone\u001b[0m, \u001b[38;5;34m16\u001b[0m)             │           \u001b[38;5;34m528\u001b[0m │\n",
       "├─────────────────────────────────┼────────────────────────┼───────────────┤\n",
       "│ dense_15 (\u001b[38;5;33mDense\u001b[0m)                │ (\u001b[38;5;45mNone\u001b[0m, \u001b[38;5;34m1\u001b[0m)              │            \u001b[38;5;34m17\u001b[0m │\n",
       "└─────────────────────────────────┴────────────────────────┴───────────────┘\n"
      ]
     },
     "metadata": {},
     "output_type": "display_data"
    },
    {
     "data": {
      "text/html": [
       "<pre style=\"white-space:pre;overflow-x:auto;line-height:normal;font-family:Menlo,'DejaVu Sans Mono',consolas,'Courier New',monospace\"><span style=\"font-weight: bold\"> Total params: </span><span style=\"color: #00af00; text-decoration-color: #00af00\">38,049</span> (148.63 KB)\n",
       "</pre>\n"
      ],
      "text/plain": [
       "\u001b[1m Total params: \u001b[0m\u001b[38;5;34m38,049\u001b[0m (148.63 KB)\n"
      ]
     },
     "metadata": {},
     "output_type": "display_data"
    },
    {
     "data": {
      "text/html": [
       "<pre style=\"white-space:pre;overflow-x:auto;line-height:normal;font-family:Menlo,'DejaVu Sans Mono',consolas,'Courier New',monospace\"><span style=\"font-weight: bold\"> Trainable params: </span><span style=\"color: #00af00; text-decoration-color: #00af00\">38,049</span> (148.63 KB)\n",
       "</pre>\n"
      ],
      "text/plain": [
       "\u001b[1m Trainable params: \u001b[0m\u001b[38;5;34m38,049\u001b[0m (148.63 KB)\n"
      ]
     },
     "metadata": {},
     "output_type": "display_data"
    },
    {
     "data": {
      "text/html": [
       "<pre style=\"white-space:pre;overflow-x:auto;line-height:normal;font-family:Menlo,'DejaVu Sans Mono',consolas,'Courier New',monospace\"><span style=\"font-weight: bold\"> Non-trainable params: </span><span style=\"color: #00af00; text-decoration-color: #00af00\">0</span> (0.00 B)\n",
       "</pre>\n"
      ],
      "text/plain": [
       "\u001b[1m Non-trainable params: \u001b[0m\u001b[38;5;34m0\u001b[0m (0.00 B)\n"
      ]
     },
     "metadata": {},
     "output_type": "display_data"
    }
   ],
   "source": [
    "def build_lstm_model(seq_len, num_features):\n",
    "    model = Sequential()\n",
    "    model.add(LSTM(64, return_sequences=True, input_shape=(seq_len, num_features)))\n",
    "    model.add(Dropout(0.2))\n",
    "    model.add(LSTM(32))\n",
    "    model.add(Dropout(0.2))\n",
    "    model.add(Dense(16, activation='relu'))\n",
    "    model.add(Dense(1))  \n",
    "    return model\n",
    "\n",
    "NUM_FEATURES = X_train.shape[2]\n",
    "model = build_lstm_model(SEQ_LEN, NUM_FEATURES)\n",
    "\n",
    "callbacks = [\n",
    "    EarlyStopping(monitor='val_loss', patience=5, restore_best_weights=True)\n",
    "]\n",
    "\n",
    "model.compile(\n",
    "    optimizer=tf.keras.optimizers.Adam(learning_rate=1e-4),\n",
    "    loss='mse',\n",
    "    metrics=['mae', 'mse']\n",
    ")\n",
    "model.summary()"
   ]
  },
  {
   "cell_type": "code",
   "execution_count": null,
   "id": "ff8ff214",
   "metadata": {},
   "outputs": [
    {
     "name": "stdout",
     "output_type": "stream",
     "text": [
      "Epoch 1/12\n",
      "\u001b[1m5894/5894\u001b[0m \u001b[32m━━━━━━━━━━━━━━━━━━━━\u001b[0m\u001b[37m\u001b[0m \u001b[1m111s\u001b[0m 19ms/step - loss: 0.0026 - mae: 0.0314 - mse: 0.0026 - val_loss: 7.0265e-04 - val_mae: 0.0182 - val_mse: 7.0265e-04\n",
      "Epoch 2/12\n",
      "\u001b[1m5894/5894\u001b[0m \u001b[32m━━━━━━━━━━━━━━━━━━━━\u001b[0m\u001b[37m\u001b[0m \u001b[1m106s\u001b[0m 18ms/step - loss: 8.5058e-04 - mae: 0.0195 - mse: 8.5058e-04 - val_loss: 6.8770e-04 - val_mae: 0.0177 - val_mse: 6.8770e-04\n",
      "Epoch 3/12\n",
      "\u001b[1m3654/5894\u001b[0m \u001b[32m━━━━━━━━━━━━\u001b[0m\u001b[37m━━━━━━━━\u001b[0m \u001b[1m38s\u001b[0m 17ms/step - loss: 8.0724e-04 - mae: 0.0190 - mse: 8.0724e-04"
     ]
    }
   ],
   "source": [
    "history = model.fit(\n",
    "    X_train, y_train,\n",
    "    validation_data=(X_val, y_val),\n",
    "    epochs=12, # 50\n",
    "    batch_size=128,\n",
    "    callbacks=callbacks,\n",
    "    verbose=1\n",
    ")"
   ]
  },
  {
   "cell_type": "code",
   "execution_count": null,
   "id": "d2a4dcb1",
   "metadata": {},
   "outputs": [
    {
     "name": "stdout",
     "output_type": "stream",
     "text": [
      "\u001b[1m9513/9513\u001b[0m \u001b[32m━━━━━━━━━━━━━━━━━━━━\u001b[0m\u001b[37m\u001b[0m \u001b[1m19s\u001b[0m 2ms/step\n"
     ]
    }
   ],
   "source": [
    "pred_scaled = model.predict(X_test, verbose=1).flatten()\n",
    "actual_scaled = y_test.flatten()\n",
    "predictions = y_scaler.inverse_transform(pred_scaled.reshape(-1, 1)).flatten()\n",
    "actuals     = y_scaler.inverse_transform(actual_scaled.reshape(-1, 1)).flatten()"
   ]
  },
  {
   "cell_type": "code",
   "execution_count": null,
   "id": "42fda120",
   "metadata": {},
   "outputs": [
    {
     "name": "stdout",
     "output_type": "stream",
     "text": [
      "Test RMSE (volatility): 0.000382030\n",
      "R² score (σ prediction): 0.518480\n",
      "QLIKE: 0.42405622063915804\n"
     ]
    }
   ],
   "source": [
    "def qlike_safe(actual, forecast, eps=1e-8):\n",
    "    a = np.clip(actual,   eps, None)\n",
    "    f = np.clip(forecast, eps, None)\n",
    "    r = a / f\n",
    "    return np.mean(r - np.log(r) - 1.0)\n",
    "\n",
    "ql = qlike_safe(actuals, predictions)\n",
    "mse   = np.mean((predictions - actuals) ** 2)\n",
    "rmse  = np.sqrt(mse)\n",
    "r2 = r2_score(actuals, predictions)\n",
    "\n",
    "print(f\"Test RMSE (volatility): {rmse:.9f}\")\n",
    "print(f\"R² score (σ prediction): {r2:.6f}\")\n",
    "print(\"QLIKE:\", ql)"
   ]
  },
  {
   "cell_type": "code",
   "execution_count": null,
   "id": "0e1303e7",
   "metadata": {},
   "outputs": [
    {
     "data": {
      "image/png": "[encoded data removed]",
      "text/plain": [
       "<Figure size 640x480 with 1 Axes>"
      ]
     },
     "metadata": {},
     "output_type": "display_data"
    }
   ],
   "source": [
    "plt.figure()\n",
    "plt.scatter(actuals, predictions, alpha=0.3, s=8)\n",
    "lim = [min(actuals.min(), predictions.min()),\n",
    "       max(actuals.max(), predictions.max())]\n",
    "plt.plot(lim, lim)                     \n",
    "plt.title(f\"All test samples   $R^2$ = {r2_score(actuals, predictions):.3f}\")\n",
    "plt.xlabel(\"Actual volatility\")\n",
    "plt.ylabel(\"Predicted volatility\")\n",
    "plt.gca().set_aspect(\"equal\", adjustable=\"box\")\n",
    "plt.show()"
   ]
  },
  {
   "cell_type": "code",
   "execution_count": null,
   "id": "6a54791c",
   "metadata": {},
   "outputs": [
    {
     "data": {
      "image/png": "[encoded data removed]",
      "text/plain": [
       "<Figure size 640x480 with 1 Axes>"
      ]
     },
     "metadata": {},
     "output_type": "display_data"
    }
   ],
   "source": [
    "plt.figure()\n",
    "plt.plot(history.history['loss'], label='Train Loss')\n",
    "plt.plot(history.history['val_loss'], label='Val Loss')\n",
    "plt.title('LSTM Loss vs. Epoch')\n",
    "plt.xlabel('Epoch')\n",
    "plt.ylabel('Loss')\n",
    "plt.legend()\n",
    "plt.show()"
   ]
  },
  {
   "cell_type": "markdown",
   "id": "49b4cd9d",
   "metadata": {},
   "source": [
    "---"
   ]
  },
  {
   "cell_type": "code",
   "execution_count": null,
   "id": "d7dc1796",
   "metadata": {},
   "outputs": [
    {
     "name": "stdout",
     "output_type": "stream",
     "text": [
      "Model findings saved to 86.csv\n"
     ]
    }
   ],
   "source": [
    "model_name_value = \"LSTM\" \n",
    "pred_related_stock_ids = []\n",
    "pred_related_time_ids = []\n",
    "original_test_df_for_ids = df[df[\"time_id\"].isin(test_sessions)].copy()\n",
    "\n",
    "for current_time_id_value in test_sessions:\n",
    "    session_df_from_original = original_test_df_for_ids[original_test_df_for_ids[\"time_id\"] == current_time_id_value]\n",
    "    num_y_samples_in_session = len(session_df_from_original) - SEQ_LEN\n",
    "    if num_y_samples_in_session > 0:\n",
    "        stock_ids_for_session_targets = session_df_from_original['stock_id'].iloc[SEQ_LEN:].values.tolist()\n",
    "        \n",
    "        pred_related_stock_ids.extend(stock_ids_for_session_targets)\n",
    "        pred_related_time_ids.extend([current_time_id_value] * num_y_samples_in_session)\n",
    "\n",
    "if len(pred_related_stock_ids) != len(predictions):\n",
    "    print(f\"Warning: Length mismatch between reconstructed stock_ids ({len(pred_related_stock_ids)}) and predictions ({len(predictions)}).\")\n",
    "\n",
    "if len(pred_related_time_ids) != len(predictions):\n",
    "    print(f\"Warning: Length mismatch between reconstructed time_ids ({len(pred_related_time_ids)}) and predictions ({len(predictions)}).\")\n",
    "\n",
    "results_df = pd.DataFrame({\n",
    "    'stock_id': pred_related_stock_ids,\n",
    "    'time_id': pred_related_time_ids,\n",
    "    'model_name': model_name_value,\n",
    "    'mse': mse,  \n",
    "    'qlike': ql, \n",
    "    'r^2': r2,  \n",
    "    'pred_vol': predictions,\n",
    "    'true_vol': actuals\n",
    "})\n",
    "\n",
    "output_csv_filename = f\"{pred_related_stock_ids[0]}.csv\"\n",
    "results_df.to_csv(output_csv_filename, index=False)\n",
    "\n",
    "print(f\"Model findings saved to {output_csv_filename}\")"
   ]
  }
 ],
 "metadata": {
  "kernelspec": {
   "display_name": "volt",
   "language": "python",
   "name": "python3"
  },
  "language_info": {
   "codemirror_mode": {
    "name": "ipython",
    "version": 3
   },
   "file_extension": ".py",
   "mimetype": "text/x-python",
   "name": "python",
   "nbconvert_exporter": "python",
   "pygments_lexer": "ipython3",
   "version": "3.12.1"
  }
 },
 "nbformat": 4,
 "nbformat_minor": 5
}
