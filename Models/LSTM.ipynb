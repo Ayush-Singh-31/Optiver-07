{
 "cells": [
  {
   "cell_type": "code",
   "execution_count": 1,
   "id": "ddd95543",
   "metadata": {},
   "outputs": [],
   "source": [
    "import numpy as np\n",
    "import pandas as pd\n",
    "import matplotlib.pyplot as plt\n",
    "from sklearn.model_selection import train_test_split\n",
    "from sklearn.preprocessing import StandardScaler, MinMaxScaler\n",
    "from sklearn.metrics import mean_squared_error, r2_score, mean_absolute_error\n",
    "import tensorflow as tf\n",
    "from tensorflow import keras\n",
    "from tensorflow.keras import layers\n",
    "import random"
   ]
  },
  {
   "cell_type": "code",
   "execution_count": 2,
   "id": "b1a3bac8",
   "metadata": {},
   "outputs": [],
   "source": [
    "random.seed(3888)"
   ]
  },
  {
   "cell_type": "code",
   "execution_count": 3,
   "id": "d4310601",
   "metadata": {},
   "outputs": [],
   "source": [
    "df = pd.read_csv(\"/Users/ayush/Documents/University/Year 03/Sem 01/DATA3888/Optiver-07/Data/individual_book_train/stock_0.csv\")"
   ]
  },
  {
   "cell_type": "code",
   "execution_count": 4,
   "id": "6e69ab2e",
   "metadata": {},
   "outputs": [],
   "source": [
    "def make_features(df: pd.DataFrame) -> pd.DataFrame:\n",
    "\n",
    "    df = df.copy()\n",
    "    # 1. mid_price & spread\n",
    "    df['mid_price'] = (df['bid_price1'] + df['ask_price1']) / 2\n",
    "    df['spread']    = df['ask_price1'] - df['bid_price1']\n",
    "    \n",
    "    # 2. imbalance & book_pressure & microprice\n",
    "    with np.errstate(divide='ignore', invalid='ignore'):\n",
    "        num  = df['bid_size1'] - df['ask_size1']\n",
    "        den  = df['bid_size1'] + df['ask_size1']\n",
    "        df['imbalance'] = np.where(den > 0, num / den, np.nan)\n",
    "\n",
    "        num2 = (df['bid_size1'] + df['bid_size2']) - (df['ask_size1'] + df['ask_size2'])\n",
    "        den2 = df[['bid_size1','bid_size2','ask_size1','ask_size2']].sum(axis=1)\n",
    "        df['book_pressure'] = np.where(den2 > 0, num2 / den2, np.nan)\n",
    "\n",
    "        num3 = (df['ask_price1'] * df['bid_size1'] +\n",
    "                df['bid_price1'] * df['ask_size1'])\n",
    "        df['microprice'] = np.where(den > 0, num3 / den, np.nan)\n",
    "\n",
    "    # 3. normalized_spread & L2 OBI\n",
    "    df['normalized_spread'] = df['spread'] / df['mid_price'].replace(0, np.nan)\n",
    "    df['OBI_L2'] = np.where(den2 > 0, (df['bid_size1'] + df['bid_size2']) / den2, np.nan)\n",
    "\n",
    "    # 4. LOB entropy\n",
    "    sizes = df[['bid_size1','bid_size2','ask_size1','ask_size2']].astype(float).values\n",
    "    total = sizes.sum(axis=1, keepdims=True)\n",
    "    p = np.divide(sizes, total, where=total != 0)\n",
    "    entropy = -np.nansum(np.where(p > 0, p * np.log(p), 0), axis=1)\n",
    "    df['LOB_entropy'] = entropy\n",
    "    df['LOB_entropy_normalized'] = entropy / np.log(4)\n",
    "\n",
    "    # 5. log returns\n",
    "    df['log_return'] = (\n",
    "        df.groupby('time_id')['mid_price']\n",
    "          .transform(lambda x: np.log(x / x.shift(1)))\n",
    "    )\n",
    "\n",
    "    # 6. Realized volatility (safe: no leakage)\n",
    "\n",
    "    df['realized_volatility'] = (\n",
    "        df.groupby('time_id')['log_return']\n",
    "        .transform(lambda x: np.sqrt(\n",
    "            ((x.shift(1) ** 2)\n",
    "                .rolling(30, min_periods=1)\n",
    "                .sum()\n",
    "            ).clip(lower=0)\n",
    "        ))\n",
    "    )\n",
    "\n",
    "    # TARGET\n",
    "    df['rv_future'] = (\n",
    "        df.groupby('time_id')['realized_volatility'].shift(-30)   \n",
    "    )\n",
    "\n",
    "    # 7. Bipower variance (safe: no leakage)\n",
    "    df['bipower_var'] = (\n",
    "        df.groupby('time_id')['log_return']\n",
    "          .transform(lambda x: x.abs().shift(1)\n",
    "                       .rolling(2, min_periods=1)\n",
    "                       .apply(lambda r: r[0] * r[1], raw=True)\n",
    "                       .rolling(30, min_periods=1)\n",
    "                       .mean())\n",
    "    )\n",
    "\n",
    "    # 8. WAP and its log return\n",
    "    df['wap'] = (\n",
    "        (df['bid_price1'] * df['ask_size1'] + df['ask_price1'] * df['bid_size1']) /\n",
    "        (df['bid_size1'] + df['ask_size1']).replace(0, np.nan)\n",
    "    )\n",
    "    df['log_wap_return'] = (\n",
    "        df.groupby('time_id')['wap']\n",
    "          .transform(lambda x: np.log(x / x.shift(1)))\n",
    "    )\n",
    "\n",
    "    # 9. Lag features (safe)\n",
    "    for col in ['imbalance', 'book_pressure', 'log_return']:\n",
    "        df[f'{col}_lag1'] = df.groupby('time_id')[col].shift(1)\n",
    "        df[f'{col}_lag2'] = df.groupby('time_id')[col].shift(2)\n",
    "\n",
    "    # 10. Rolling stats (safe)\n",
    "    df['rolling_vol_30'] = (\n",
    "        df.groupby('time_id')['log_return']\n",
    "          .transform(lambda x: x.shift(1).rolling(30, min_periods=1).std())\n",
    "    )\n",
    "    df['rolling_imbalance_mean_30'] = (\n",
    "        df.groupby('time_id')['imbalance']\n",
    "          .transform(lambda x: x.shift(1).rolling(30, min_periods=1).mean())\n",
    "    )\n",
    "\n",
    "    df = df.dropna()   \n",
    "    df = df.replace([np.inf, -np.inf], np.nan)\n",
    "    return df"
   ]
  },
  {
   "cell_type": "code",
   "execution_count": 5,
   "id": "3f66d842",
   "metadata": {},
   "outputs": [],
   "source": [
    "df = make_features(df)"
   ]
  },
  {
   "cell_type": "code",
   "execution_count": 6,
   "id": "827d8bc7",
   "metadata": {},
   "outputs": [],
   "source": [
    "def add_time_features(df_enriched: pd.DataFrame, period: int = 600):\n",
    "\n",
    "    theta = 2 * np.pi * df_enriched['seconds_in_bucket'] / period\n",
    "    df_enriched['sec_sin'] = np.sin(theta)\n",
    "    df_enriched['sec_cos'] = np.cos(theta)\n",
    "\n",
    "    return df_enriched.drop(columns=[\"seconds_in_bucket\"])\n",
    "\n",
    "df = add_time_features(df)"
   ]
  },
  {
   "cell_type": "code",
   "execution_count": 7,
   "id": "d2fe2395",
   "metadata": {},
   "outputs": [],
   "source": [
    "for c in ['bid_size1','ask_size1','bid_size2','ask_size2']:\n",
    "    df[c + '_log'] = np.log1p(df[c])\n",
    "    df.drop(columns=c, inplace=True)"
   ]
  },
  {
   "cell_type": "code",
   "execution_count": 8,
   "id": "0aef8bcd",
   "metadata": {},
   "outputs": [],
   "source": [
    "feature_cols = ['bid_price1', 'ask_price1', 'bid_price2', 'ask_price2',\n",
    "       'stock_id', 'mid_price', 'spread', 'imbalance', 'book_pressure',\n",
    "       'microprice', 'normalized_spread', 'OBI_L2', 'LOB_entropy',\n",
    "       'LOB_entropy_normalized', 'log_return', 'realized_volatility', 'bipower_var', 'wap', 'log_wap_return', 'imbalance_lag1',\n",
    "       'imbalance_lag2', 'book_pressure_lag1', 'book_pressure_lag2',\n",
    "       'log_return_lag1', 'log_return_lag2', 'rolling_vol_30',\n",
    "       'rolling_imbalance_mean_30', 'sec_sin', 'sec_cos', 'bid_size1_log',\n",
    "       'ask_size1_log', 'bid_size2_log', 'ask_size2_log']\n",
    "target_col = \"rv_future\""
   ]
  },
  {
   "cell_type": "code",
   "execution_count": 9,
   "id": "fa1a5300",
   "metadata": {},
   "outputs": [],
   "source": [
    "df['rv_future_log'] = np.log1p(df['rv_future'])\n",
    "feature_cols_mod = [c for c in feature_cols if c!='rv_future'] \n",
    "target_col_mod     = 'rv_future_log'"
   ]
  },
  {
   "cell_type": "code",
   "execution_count": 10,
   "id": "ac754730",
   "metadata": {},
   "outputs": [],
   "source": [
    "unique_sessions = df[\"time_id\"].sort_values().unique()\n",
    "split_idx       = int(len(unique_sessions) * 0.8)          \n",
    "train_sessions  = unique_sessions[:split_idx]\n",
    "test_sessions   = unique_sessions[split_idx:]"
   ]
  },
  {
   "cell_type": "code",
   "execution_count": 11,
   "id": "7a0490b4",
   "metadata": {},
   "outputs": [],
   "source": [
    "train_df = df[df[\"time_id\"].isin(train_sessions)].copy()\n",
    "test_df  = df[df[\"time_id\"].isin(test_sessions)].copy()"
   ]
  },
  {
   "cell_type": "code",
   "execution_count": 12,
   "id": "6c9a1888",
   "metadata": {},
   "outputs": [],
   "source": [
    "x_scaler = MinMaxScaler().fit(train_df[feature_cols_mod])\n",
    "y_scaler = MinMaxScaler(feature_range=(0,1)).fit(train_df[[target_col_mod]])\n",
    "\n",
    "train_df[feature_cols_mod] = x_scaler.transform(train_df[feature_cols_mod])\n",
    "test_df[feature_cols_mod]  = x_scaler.transform(test_df[feature_cols_mod])\n",
    "train_df[target_col_mod]   = y_scaler.transform(train_df[[target_col_mod]])\n",
    "test_df[target_col_mod]    = y_scaler.transform(test_df[[target_col_mod]])"
   ]
  },
  {
   "cell_type": "code",
   "execution_count": 13,
   "id": "d83592d8",
   "metadata": {},
   "outputs": [],
   "source": [
    "SEQ_LEN = 30   \n",
    "\n",
    "def build_sequences(df_part: pd.DataFrame, feature_cols, target_col, seq_len):\n",
    "    \"\"\"Return X, y arrays where each sample is wholly inside one session.\"\"\"\n",
    "    X, y = [], []\n",
    "    for _, session in df_part.groupby(\"time_id\"):\n",
    "        data   = session[feature_cols].values\n",
    "        target = session[target_col].values\n",
    "        for i in range(len(session) - seq_len):\n",
    "            X.append(data[i : i + seq_len])\n",
    "            y.append(target[i + seq_len])\n",
    "    return np.asarray(X), np.asarray(y)\n",
    "\n",
    "X_train, y_train = build_sequences(train_df, feature_cols, target_col, SEQ_LEN)\n",
    "X_test,  y_test  = build_sequences(test_df,  feature_cols, target_col, SEQ_LEN)"
   ]
  },
  {
   "cell_type": "code",
   "execution_count": 14,
   "id": "1069d338",
   "metadata": {},
   "outputs": [],
   "source": [
    "val_split_idx = int(len(train_sessions) * 0.9)\n",
    "val_sessions  = train_sessions[val_split_idx:]\n",
    "train_sessions= train_sessions[:val_split_idx]\n",
    "\n",
    "val_df = train_df[train_df[\"time_id\"].isin(val_sessions)]\n",
    "train_df = train_df[train_df[\"time_id\"].isin(train_sessions)]\n",
    "\n",
    "X_train, y_train = build_sequences(train_df, feature_cols_mod, 'rv_future_log', SEQ_LEN)\n",
    "X_val,   y_val   = build_sequences(val_df,   feature_cols_mod, 'rv_future_log', SEQ_LEN)\n",
    "X_test,  y_test  = build_sequences(test_df,  feature_cols_mod, 'rv_future_log', SEQ_LEN)"
   ]
  },
  {
   "cell_type": "code",
   "execution_count": 15,
   "id": "a49cf2c8",
   "metadata": {},
   "outputs": [
    {
     "data": {
      "text/html": [
       "<pre style=\"white-space:pre;overflow-x:auto;line-height:normal;font-family:Menlo,'DejaVu Sans Mono',consolas,'Courier New',monospace\"><span style=\"font-weight: bold\">Model: \"lstm_vol_model\"</span>\n",
       "</pre>\n"
      ],
      "text/plain": [
       "\u001b[1mModel: \"lstm_vol_model\"\u001b[0m\n"
      ]
     },
     "metadata": {},
     "output_type": "display_data"
    },
    {
     "data": {
      "text/html": [
       "<pre style=\"white-space:pre;overflow-x:auto;line-height:normal;font-family:Menlo,'DejaVu Sans Mono',consolas,'Courier New',monospace\">┏━━━━━━━━━━━━━━━━━━━━━━━━━━━━━━━━━┳━━━━━━━━━━━━━━━━━━━━━━━━┳━━━━━━━━━━━━━━━┓\n",
       "┃<span style=\"font-weight: bold\"> Layer (type)                    </span>┃<span style=\"font-weight: bold\"> Output Shape           </span>┃<span style=\"font-weight: bold\">       Param # </span>┃\n",
       "┡━━━━━━━━━━━━━━━━━━━━━━━━━━━━━━━━━╇━━━━━━━━━━━━━━━━━━━━━━━━╇━━━━━━━━━━━━━━━┩\n",
       "│ sequence_input (<span style=\"color: #0087ff; text-decoration-color: #0087ff\">InputLayer</span>)     │ (<span style=\"color: #00d7ff; text-decoration-color: #00d7ff\">None</span>, <span style=\"color: #00af00; text-decoration-color: #00af00\">30</span>, <span style=\"color: #00af00; text-decoration-color: #00af00\">33</span>)         │             <span style=\"color: #00af00; text-decoration-color: #00af00\">0</span> │\n",
       "├─────────────────────────────────┼────────────────────────┼───────────────┤\n",
       "│ lstm (<span style=\"color: #0087ff; text-decoration-color: #0087ff\">LSTM</span>)                     │ (<span style=\"color: #00d7ff; text-decoration-color: #00d7ff\">None</span>, <span style=\"color: #00af00; text-decoration-color: #00af00\">30</span>, <span style=\"color: #00af00; text-decoration-color: #00af00\">64</span>)         │        <span style=\"color: #00af00; text-decoration-color: #00af00\">25,088</span> │\n",
       "├─────────────────────────────────┼────────────────────────┼───────────────┤\n",
       "│ lstm_1 (<span style=\"color: #0087ff; text-decoration-color: #0087ff\">LSTM</span>)                   │ (<span style=\"color: #00d7ff; text-decoration-color: #00d7ff\">None</span>, <span style=\"color: #00af00; text-decoration-color: #00af00\">32</span>)             │        <span style=\"color: #00af00; text-decoration-color: #00af00\">12,416</span> │\n",
       "├─────────────────────────────────┼────────────────────────┼───────────────┤\n",
       "│ dense (<span style=\"color: #0087ff; text-decoration-color: #0087ff\">Dense</span>)                   │ (<span style=\"color: #00d7ff; text-decoration-color: #00d7ff\">None</span>, <span style=\"color: #00af00; text-decoration-color: #00af00\">16</span>)             │           <span style=\"color: #00af00; text-decoration-color: #00af00\">528</span> │\n",
       "├─────────────────────────────────┼────────────────────────┼───────────────┤\n",
       "│ dense_1 (<span style=\"color: #0087ff; text-decoration-color: #0087ff\">Dense</span>)                 │ (<span style=\"color: #00d7ff; text-decoration-color: #00d7ff\">None</span>, <span style=\"color: #00af00; text-decoration-color: #00af00\">1</span>)              │            <span style=\"color: #00af00; text-decoration-color: #00af00\">17</span> │\n",
       "└─────────────────────────────────┴────────────────────────┴───────────────┘\n",
       "</pre>\n"
      ],
      "text/plain": [
       "┏━━━━━━━━━━━━━━━━━━━━━━━━━━━━━━━━━┳━━━━━━━━━━━━━━━━━━━━━━━━┳━━━━━━━━━━━━━━━┓\n",
       "┃\u001b[1m \u001b[0m\u001b[1mLayer (type)                   \u001b[0m\u001b[1m \u001b[0m┃\u001b[1m \u001b[0m\u001b[1mOutput Shape          \u001b[0m\u001b[1m \u001b[0m┃\u001b[1m \u001b[0m\u001b[1m      Param #\u001b[0m\u001b[1m \u001b[0m┃\n",
       "┡━━━━━━━━━━━━━━━━━━━━━━━━━━━━━━━━━╇━━━━━━━━━━━━━━━━━━━━━━━━╇━━━━━━━━━━━━━━━┩\n",
       "│ sequence_input (\u001b[38;5;33mInputLayer\u001b[0m)     │ (\u001b[38;5;45mNone\u001b[0m, \u001b[38;5;34m30\u001b[0m, \u001b[38;5;34m33\u001b[0m)         │             \u001b[38;5;34m0\u001b[0m │\n",
       "├─────────────────────────────────┼────────────────────────┼───────────────┤\n",
       "│ lstm (\u001b[38;5;33mLSTM\u001b[0m)                     │ (\u001b[38;5;45mNone\u001b[0m, \u001b[38;5;34m30\u001b[0m, \u001b[38;5;34m64\u001b[0m)         │        \u001b[38;5;34m25,088\u001b[0m │\n",
       "├─────────────────────────────────┼────────────────────────┼───────────────┤\n",
       "│ lstm_1 (\u001b[38;5;33mLSTM\u001b[0m)                   │ (\u001b[38;5;45mNone\u001b[0m, \u001b[38;5;34m32\u001b[0m)             │        \u001b[38;5;34m12,416\u001b[0m │\n",
       "├─────────────────────────────────┼────────────────────────┼───────────────┤\n",
       "│ dense (\u001b[38;5;33mDense\u001b[0m)                   │ (\u001b[38;5;45mNone\u001b[0m, \u001b[38;5;34m16\u001b[0m)             │           \u001b[38;5;34m528\u001b[0m │\n",
       "├─────────────────────────────────┼────────────────────────┼───────────────┤\n",
       "│ dense_1 (\u001b[38;5;33mDense\u001b[0m)                 │ (\u001b[38;5;45mNone\u001b[0m, \u001b[38;5;34m1\u001b[0m)              │            \u001b[38;5;34m17\u001b[0m │\n",
       "└─────────────────────────────────┴────────────────────────┴───────────────┘\n"
      ]
     },
     "metadata": {},
     "output_type": "display_data"
    },
    {
     "data": {
      "text/html": [
       "<pre style=\"white-space:pre;overflow-x:auto;line-height:normal;font-family:Menlo,'DejaVu Sans Mono',consolas,'Courier New',monospace\"><span style=\"font-weight: bold\"> Total params: </span><span style=\"color: #00af00; text-decoration-color: #00af00\">38,049</span> (148.63 KB)\n",
       "</pre>\n"
      ],
      "text/plain": [
       "\u001b[1m Total params: \u001b[0m\u001b[38;5;34m38,049\u001b[0m (148.63 KB)\n"
      ]
     },
     "metadata": {},
     "output_type": "display_data"
    },
    {
     "data": {
      "text/html": [
       "<pre style=\"white-space:pre;overflow-x:auto;line-height:normal;font-family:Menlo,'DejaVu Sans Mono',consolas,'Courier New',monospace\"><span style=\"font-weight: bold\"> Trainable params: </span><span style=\"color: #00af00; text-decoration-color: #00af00\">38,049</span> (148.63 KB)\n",
       "</pre>\n"
      ],
      "text/plain": [
       "\u001b[1m Trainable params: \u001b[0m\u001b[38;5;34m38,049\u001b[0m (148.63 KB)\n"
      ]
     },
     "metadata": {},
     "output_type": "display_data"
    },
    {
     "data": {
      "text/html": [
       "<pre style=\"white-space:pre;overflow-x:auto;line-height:normal;font-family:Menlo,'DejaVu Sans Mono',consolas,'Courier New',monospace\"><span style=\"font-weight: bold\"> Non-trainable params: </span><span style=\"color: #00af00; text-decoration-color: #00af00\">0</span> (0.00 B)\n",
       "</pre>\n"
      ],
      "text/plain": [
       "\u001b[1m Non-trainable params: \u001b[0m\u001b[38;5;34m0\u001b[0m (0.00 B)\n"
      ]
     },
     "metadata": {},
     "output_type": "display_data"
    }
   ],
   "source": [
    "n_features = X_train.shape[2]\n",
    "inputs = keras.Input(shape=(SEQ_LEN, n_features), name=\"sequence_input\")\n",
    "\n",
    "x = layers.LSTM(64, return_sequences=True)(inputs)\n",
    "x = layers.LSTM(32)(x)\n",
    "x = layers.Dense(16, activation='relu')(x)\n",
    "outputs = layers.Dense(1, activation='linear')(x)\n",
    "\n",
    "model = keras.Model(inputs, outputs, name=\"lstm_vol_model\")\n",
    "model.compile(optimizer='adam', loss='mse')\n",
    "model.summary()"
   ]
  },
  {
   "cell_type": "code",
   "execution_count": 16,
   "id": "317af834",
   "metadata": {},
   "outputs": [
    {
     "name": "stdout",
     "output_type": "stream",
     "text": [
      "Epoch 1/10\n",
      "\u001b[1m1911/1911\u001b[0m \u001b[32m━━━━━━━━━━━━━━━━━━━━\u001b[0m\u001b[37m\u001b[0m \u001b[1m60s\u001b[0m 31ms/step - loss: 0.0018 - val_loss: 0.0011\n",
      "Epoch 2/10\n",
      "\u001b[1m1911/1911\u001b[0m \u001b[32m━━━━━━━━━━━━━━━━━━━━\u001b[0m\u001b[37m\u001b[0m \u001b[1m59s\u001b[0m 31ms/step - loss: 0.0013 - val_loss: 0.0012\n",
      "Epoch 3/10\n",
      "\u001b[1m1911/1911\u001b[0m \u001b[32m━━━━━━━━━━━━━━━━━━━━\u001b[0m\u001b[37m\u001b[0m \u001b[1m62s\u001b[0m 32ms/step - loss: 0.0012 - val_loss: 0.0011\n",
      "Epoch 4/10\n",
      "\u001b[1m1911/1911\u001b[0m \u001b[32m━━━━━━━━━━━━━━━━━━━━\u001b[0m\u001b[37m\u001b[0m \u001b[1m64s\u001b[0m 33ms/step - loss: 0.0012 - val_loss: 0.0011\n",
      "Epoch 5/10\n",
      "\u001b[1m1911/1911\u001b[0m \u001b[32m━━━━━━━━━━━━━━━━━━━━\u001b[0m\u001b[37m\u001b[0m \u001b[1m66s\u001b[0m 35ms/step - loss: 0.0012 - val_loss: 0.0012\n",
      "Epoch 6/10\n",
      "\u001b[1m1911/1911\u001b[0m \u001b[32m━━━━━━━━━━━━━━━━━━━━\u001b[0m\u001b[37m\u001b[0m \u001b[1m65s\u001b[0m 34ms/step - loss: 0.0012 - val_loss: 0.0011\n",
      "Epoch 7/10\n",
      "\u001b[1m1911/1911\u001b[0m \u001b[32m━━━━━━━━━━━━━━━━━━━━\u001b[0m\u001b[37m\u001b[0m \u001b[1m59s\u001b[0m 31ms/step - loss: 0.0012 - val_loss: 0.0012\n",
      "Epoch 8/10\n",
      "\u001b[1m1911/1911\u001b[0m \u001b[32m━━━━━━━━━━━━━━━━━━━━\u001b[0m\u001b[37m\u001b[0m \u001b[1m59s\u001b[0m 31ms/step - loss: 0.0011 - val_loss: 0.0013\n",
      "Epoch 9/10\n",
      "\u001b[1m1911/1911\u001b[0m \u001b[32m━━━━━━━━━━━━━━━━━━━━\u001b[0m\u001b[37m\u001b[0m \u001b[1m62s\u001b[0m 32ms/step - loss: 0.0012 - val_loss: 0.0012\n",
      "Epoch 10/10\n",
      "\u001b[1m1911/1911\u001b[0m \u001b[32m━━━━━━━━━━━━━━━━━━━━\u001b[0m\u001b[37m\u001b[0m \u001b[1m65s\u001b[0m 34ms/step - loss: 0.0011 - val_loss: 0.0013\n"
     ]
    }
   ],
   "source": [
    "history = model.fit(\n",
    "    X_train, y_train,\n",
    "    validation_data=(X_test, y_test),\n",
    "    epochs=10,\n",
    "    batch_size=256,\n",
    "    verbose=1\n",
    ")"
   ]
  },
  {
   "cell_type": "code",
   "execution_count": 17,
   "id": "d2a4dcb1",
   "metadata": {},
   "outputs": [
    {
     "name": "stdout",
     "output_type": "stream",
     "text": [
      "\u001b[1m4168/4168\u001b[0m \u001b[32m━━━━━━━━━━━━━━━━━━━━\u001b[0m\u001b[37m\u001b[0m \u001b[1m9s\u001b[0m 2ms/step\n"
     ]
    }
   ],
   "source": [
    "pred_scaled = model.predict(X_test, verbose=1).flatten()\n",
    "actual_scaled = y_test.flatten()\n",
    "predictions = y_scaler.inverse_transform(pred_scaled.reshape(-1, 1)).flatten()\n",
    "actuals     = y_scaler.inverse_transform(actual_scaled.reshape(-1, 1)).flatten()"
   ]
  },
  {
   "cell_type": "code",
   "execution_count": null,
   "id": "42fda120",
   "metadata": {},
   "outputs": [
    {
     "name": "stdout",
     "output_type": "stream",
     "text": [
      "Test RMSE (volatility): 0.000530069\n",
      "R² score (σ prediction) = 0.346768\n",
      "QLIKE: 0.13773181003375068\n"
     ]
    }
   ],
   "source": [
    "def qlike_safe(actual, forecast, eps=1e-8):\n",
    "    a = np.clip(actual,   eps, None)\n",
    "    f = np.clip(forecast, eps, None)\n",
    "    r = a / f\n",
    "    return np.mean(r - np.log(r) - 1.0)\n",
    "\n",
    "ql = qlike_safe(actuals, predictions)\n",
    "mse   = np.mean((predictions - actuals) ** 2)\n",
    "rmse  = np.sqrt(mse)\n",
    "r2 = r2_score(actuals, predictions)\n",
    "\n",
    "print(f\"Test RMSE (volatility): {rmse:.9f}\")\n",
    "print(f\"R² score (σ prediction): {r2:.6f}\")\n",
    "print(\"QLIKE:\", ql)"
   ]
  },
  {
   "cell_type": "code",
   "execution_count": 21,
   "id": "0e1303e7",
   "metadata": {},
   "outputs": [
    {
     "data": {
      "image/png": "[encoded data removed]",
      "text/plain": [
       "<Figure size 640x480 with 1 Axes>"
      ]
     },
     "metadata": {},
     "output_type": "display_data"
    }
   ],
   "source": [
    "plt.figure()\n",
    "plt.scatter(actuals, predictions, alpha=0.3, s=8)\n",
    "lim = [min(actuals.min(), predictions.min()),\n",
    "       max(actuals.max(), predictions.max())]\n",
    "plt.plot(lim, lim)                     \n",
    "plt.title(f\"All test samples   $R^2$ = {r2_score(actuals, predictions):.3f}\")\n",
    "plt.xlabel(\"Actual volatility\")\n",
    "plt.ylabel(\"Predicted volatility\")\n",
    "plt.gca().set_aspect(\"equal\", adjustable=\"box\")\n",
    "plt.show()"
   ]
  },
  {
   "cell_type": "code",
   "execution_count": null,
   "id": "6a54791c",
   "metadata": {},
   "outputs": [
    {
     "data": {
      "image/png": "[encoded data removed]",
      "text/plain": [
       "<Figure size 640x480 with 1 Axes>"
      ]
     },
     "metadata": {},
     "output_type": "display_data"
    }
   ],
   "source": [
    "plt.figure()\n",
    "plt.plot(history.history['loss'], label='Train Loss')\n",
    "plt.plot(history.history['val_loss'], label='Val Loss')\n",
    "plt.title('LSTM Loss vs. Epoch')\n",
    "plt.xlabel('Epoch')\n",
    "plt.ylabel('Loss')\n",
    "plt.legend()\n",
    "plt.show()"
   ]
  }
 ],
 "metadata": {
  "kernelspec": {
   "display_name": "volt",
   "language": "python",
   "name": "python3"
  },
  "language_info": {
   "codemirror_mode": {
    "name": "ipython",
    "version": 3
   },
   "file_extension": ".py",
   "mimetype": "text/x-python",
   "name": "python",
   "nbconvert_exporter": "python",
   "pygments_lexer": "ipython3",
   "version": "3.12.1"
  }
 },
 "nbformat": 4,
 "nbformat_minor": 5
}
