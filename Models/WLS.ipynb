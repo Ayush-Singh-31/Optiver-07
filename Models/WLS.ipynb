{
 "cells": [
  {
   "cell_type": "code",
   "execution_count": 52,
   "id": "fae76981",
   "metadata": {},
   "outputs": [],
   "source": [
    "import pandas as pd\n",
    "import numpy as np\n",
    "import statsmodels.api as sm\n",
    "from sklearn.metrics import r2_score"
   ]
  },
  {
   "cell_type": "code",
   "execution_count": 53,
   "id": "f931529e",
   "metadata": {},
   "outputs": [],
   "source": [
    "df = pd.read_parquet(\"/Users/ayush/Documents/University/Year 03/Sem 01/DATA3888/Optiver-07/Data/FE30Stocks.parquet\")"
   ]
  },
  {
   "cell_type": "code",
   "execution_count": 54,
   "id": "4d7bb714",
   "metadata": {},
   "outputs": [
    {
     "name": "stdout",
     "output_type": "stream",
     "text": [
      "Initial shape: (44391124, 26)\n"
     ]
    }
   ],
   "source": [
    "print(\"Initial shape:\", df.shape)\n",
    "assert df.isnull().sum().sum() == 0, \"DataFrame contains NaNs. Clean before proceeding.\""
   ]
  },
  {
   "cell_type": "code",
   "execution_count": 55,
   "id": "86d2799d",
   "metadata": {},
   "outputs": [],
   "source": [
    "exclude_cols = [\"rv_future\", \"time_id\", \"seconds_in_bucket\", \"stock_id\"]\n",
    "X_cols = [col for col in df.columns if col not in exclude_cols]\n",
    "X = df[X_cols].values.astype(np.float32)\n",
    "y = df[\"rv_future\"].values.astype(np.float32)"
   ]
  },
  {
   "cell_type": "code",
   "execution_count": 56,
   "id": "ec800a1c",
   "metadata": {},
   "outputs": [],
   "source": [
    "rolling_vol = df[\"rolling_vol_30\"].values.astype(np.float32)\n",
    "weights = 1.0 / (rolling_vol ** 2 + 1e-6)"
   ]
  },
  {
   "cell_type": "code",
   "execution_count": 57,
   "id": "d3eb1fd3",
   "metadata": {},
   "outputs": [],
   "source": [
    "X = sm.add_constant(X)"
   ]
  },
  {
   "cell_type": "code",
   "execution_count": 58,
   "id": "d1f8f7c5",
   "metadata": {},
   "outputs": [
    {
     "name": "stdout",
     "output_type": "stream",
     "text": [
      "β̂ shape : (23,)\n",
      "β̂ head  : [ 1.02730659e-03 -5.71128329e-04  5.54984730e-01 -5.02026722e-07\n",
      "  3.88579609e-07]\n"
     ]
    }
   ],
   "source": [
    "model = sm.WLS(y, X, weights=weights)\n",
    "results = model.fit()\n",
    "print(\"β̂ shape :\", results.params.shape)\n",
    "print(\"β̂ head  :\", results.params[:5])"
   ]
  },
  {
   "cell_type": "code",
   "execution_count": null,
   "id": "30aa2e6a",
   "metadata": {},
   "outputs": [
    {
     "name": "stdout",
     "output_type": "stream",
     "text": [
      "QLIKE    : 0.2808245775355561\n",
      "R²       : 0.11170312960389006\n"
     ]
    }
   ],
   "source": [
    "epsilon = 1e-6\n",
    "y_pred = np.clip(y_pred, epsilon, None)\n",
    "y_true = np.clip(y, epsilon, None)\n",
    "ratio = y_true / y_pred\n",
    "qlike = np.mean(ratio - np.log(ratio) - 1.0)\n",
    "print(\"QLIKE    :\", qlike)\n",
    "r2 = r2_score(y, y_pred)\n",
    "print(\"R²       :\", r2)"
   ]
  }
 ],
 "metadata": {
  "kernelspec": {
   "display_name": "volt",
   "language": "python",
   "name": "python3"
  },
  "language_info": {
   "codemirror_mode": {
    "name": "ipython",
    "version": 3
   },
   "file_extension": ".py",
   "mimetype": "text/x-python",
   "name": "python",
   "nbconvert_exporter": "python",
   "pygments_lexer": "ipython3",
   "version": "3.12.1"
  }
 },
 "nbformat": 4,
 "nbformat_minor": 5
}
