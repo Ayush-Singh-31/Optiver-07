{
 "cells": [
  {
   "cell_type": "code",
   "execution_count": 1,
   "id": "652783d5",
   "metadata": {},
   "outputs": [],
   "source": [
    "import numpy as np\n",
    "import pandas as pd\n",
    "from sklearn.metrics import r2_score\n",
    "import statsmodels.api as sm"
   ]
  },
  {
   "cell_type": "code",
   "execution_count": 2,
   "id": "438ef391",
   "metadata": {},
   "outputs": [],
   "source": [
    "def qlike_loss(actual, pred, eps=1e-12):\n",
    "    pred = np.maximum(pred, eps)         \n",
    "    actual = np.maximum(actual, eps)\n",
    "    ratio = actual / pred\n",
    "    return np.mean(ratio - np.log(ratio) - 1.0)"
   ]
  },
  {
   "cell_type": "code",
   "execution_count": 3,
   "id": "0e6d6e08",
   "metadata": {},
   "outputs": [],
   "source": [
    "feature_cols = ['stock_id','mid_price', 'spread', 'imbalance',\n",
    "       'book_pressure', 'LOB_entropy', 'log_return', 'bipower_var',\n",
    "       'log_wap_return', 'imbalance_lag1', 'imbalance_lag2',\n",
    "       'book_pressure_lag1', 'book_pressure_lag2', 'log_return_lag1',\n",
    "       'log_return_lag2', 'rolling_vol_30', 'rolling_imbalance_mean_30',\n",
    "       'sec_sin', 'sec_cos', 'bid_size1_log', 'ask_size1_log', 'bid_size2_log',\n",
    "       'ask_size2_log']\n",
    "target_col   = 'rv_future'"
   ]
  },
  {
   "cell_type": "code",
   "execution_count": 4,
   "id": "2f335e8b",
   "metadata": {},
   "outputs": [],
   "source": [
    "df = pd.read_parquet(\"/Users/ayush/Documents/University/Year 03/Sem 01/DATA3888/Optiver-07/Data/FE30Stocks.parquet\")"
   ]
  },
  {
   "cell_type": "code",
   "execution_count": 5,
   "id": "c1b59551",
   "metadata": {},
   "outputs": [],
   "source": [
    "X = df[feature_cols].astype('float32')  \n",
    "y = df[target_col].astype('float32')\n",
    "\n",
    "w = 1.0 / (y.rolling(2000, min_periods=1).var().fillna(y.var()))"
   ]
  },
  {
   "cell_type": "code",
   "execution_count": 6,
   "id": "e5d4d62b",
   "metadata": {},
   "outputs": [],
   "source": [
    "split_idx    = int(len(df) * 0.8)       # 80 % for training\n",
    "X_train, X_test = X.iloc[:split_idx],  X.iloc[split_idx:]\n",
    "y_train, y_test = y.iloc[:split_idx],  y.iloc[split_idx:]\n",
    "w_train, w_test = w.iloc[:split_idx],  w.iloc[split_idx:]"
   ]
  },
  {
   "cell_type": "code",
   "execution_count": 7,
   "id": "bec52266",
   "metadata": {},
   "outputs": [],
   "source": [
    "X_train_c = sm.add_constant(X_train, has_constant='add')\n",
    "X_test_c  = sm.add_constant(X_test,  has_constant='add')"
   ]
  },
  {
   "cell_type": "code",
   "execution_count": 8,
   "id": "38ac6aa8",
   "metadata": {},
   "outputs": [
    {
     "name": "stdout",
     "output_type": "stream",
     "text": [
      "                            WLS Regression Results                            \n",
      "==============================================================================\n",
      "Dep. Variable:              rv_future   R-squared:                       0.168\n",
      "Model:                            WLS   Adj. R-squared:                  0.168\n",
      "Method:                 Least Squares   F-statistic:                 3.108e+05\n",
      "Date:                Sat, 17 May 2025   Prob (F-statistic):               0.00\n",
      "Time:                        22:36:08   Log-Likelihood:             1.9092e+08\n",
      "No. Observations:            35512899   AIC:                        -3.818e+08\n",
      "Df Residuals:                35512875   BIC:                        -3.818e+08\n",
      "Df Model:                          23                                         \n",
      "Covariance Type:            nonrobust                                         \n",
      "=============================================================================================\n",
      "                                coef    std err          t      P>|t|      [0.025      0.975]\n",
      "---------------------------------------------------------------------------------------------\n",
      "const                         0.0032   4.22e-05     75.571      0.000       0.003       0.003\n",
      "stock_id                     1.8e-06   5.11e-09    352.503      0.000    1.79e-06    1.81e-06\n",
      "mid_price                    -0.0028   4.22e-05    -66.714      0.000      -0.003      -0.003\n",
      "spread                        0.5773      0.000   1646.562      0.000       0.577       0.578\n",
      "imbalance                 -1.243e-05   9.88e-07    -12.582      0.000   -1.44e-05   -1.05e-05\n",
      "book_pressure             -5.111e-06   8.82e-07     -5.795      0.000   -6.84e-06   -3.38e-06\n",
      "LOB_entropy                7.226e-05   7.41e-07     97.544      0.000    7.08e-05    7.37e-05\n",
      "log_return                   -0.0226      0.001    -17.625      0.000      -0.025      -0.020\n",
      "bipower_var                3233.4542      4.716    685.698      0.000    3224.212    3242.697\n",
      "log_wap_return                0.0112      0.001      9.618      0.000       0.009       0.014\n",
      "imbalance_lag1              2.33e-06   5.06e-07      4.604      0.000    1.34e-06    3.32e-06\n",
      "imbalance_lag2             2.824e-06   4.01e-07      7.047      0.000    2.04e-06    3.61e-06\n",
      "book_pressure_lag1        -1.326e-05    6.5e-07    -20.405      0.000   -1.45e-05    -1.2e-05\n",
      "book_pressure_lag2         2.793e-06    5.9e-07      4.732      0.000    1.64e-06    3.95e-06\n",
      "log_return_lag1              -0.0071      0.001    -13.194      0.000      -0.008      -0.006\n",
      "log_return_lag2              -0.0030      0.001     -5.697      0.000      -0.004      -0.002\n",
      "rolling_vol_30                0.1876      0.001    219.097      0.000       0.186       0.189\n",
      "rolling_imbalance_mean_30  1.444e-05   5.89e-07     24.536      0.000    1.33e-05    1.56e-05\n",
      "sec_sin                   -3.651e-05   1.97e-07   -185.126      0.000   -3.69e-05   -3.61e-05\n",
      "sec_cos                       0.0002   1.99e-07   1093.146      0.000       0.000       0.000\n",
      "bid_size1_log             -3.315e-06   2.79e-07    -11.874      0.000   -3.86e-06   -2.77e-06\n",
      "ask_size1_log             -1.129e-05   2.82e-07    -40.057      0.000   -1.18e-05   -1.07e-05\n",
      "bid_size2_log              3.519e-06   1.67e-07     21.123      0.000    3.19e-06    3.85e-06\n",
      "ask_size2_log              2.093e-06   1.69e-07     12.403      0.000    1.76e-06    2.42e-06\n",
      "==============================================================================\n",
      "Omnibus:                 37349991.662   Durbin-Watson:                   0.158\n",
      "Prob(Omnibus):                  0.000   Jarque-Bera (JB):       6529081410.364\n",
      "Skew:                           4.967   Prob(JB):                         0.00\n",
      "Kurtosis:                      68.679   Cond. No.                     2.12e+09\n",
      "==============================================================================\n",
      "\n",
      "Notes:\n",
      "[1] Standard Errors assume that the covariance matrix of the errors is correctly specified.\n",
      "[2] The condition number is large, 2.12e+09. This might indicate that there are\n",
      "strong multicollinearity or other numerical problems.\n"
     ]
    }
   ],
   "source": [
    "model     = sm.WLS(y_train, X_train_c, weights=w_train)\n",
    "results   = model.fit()\n",
    "print(results.summary())  "
   ]
  },
  {
   "cell_type": "code",
   "execution_count": 9,
   "id": "0d514eb8",
   "metadata": {},
   "outputs": [],
   "source": [
    "y_pred = results.predict(X_test_c)"
   ]
  },
  {
   "cell_type": "code",
   "execution_count": 10,
   "id": "6f70b6f8",
   "metadata": {},
   "outputs": [
    {
     "name": "stdout",
     "output_type": "stream",
     "text": [
      "Out-of-sample R²   : 0.1759\n",
      "Out-of-sample QLIKE: 0.220704\n"
     ]
    }
   ],
   "source": [
    "r2     = r2_score(y_test, y_pred)      \n",
    "qlike  = qlike_loss(y_test.values, y_pred)\n",
    "\n",
    "print(f\"Out-of-sample R²   : {r2:0.4f}\")\n",
    "print(f\"Out-of-sample QLIKE: {qlike:0.6f}\")"
   ]
  }
 ],
 "metadata": {
  "kernelspec": {
   "display_name": "volt",
   "language": "python",
   "name": "python3"
  },
  "language_info": {
   "codemirror_mode": {
    "name": "ipython",
    "version": 3
   },
   "file_extension": ".py",
   "mimetype": "text/x-python",
   "name": "python",
   "nbconvert_exporter": "python",
   "pygments_lexer": "ipython3",
   "version": "3.12.1"
  }
 },
 "nbformat": 4,
 "nbformat_minor": 5
}
