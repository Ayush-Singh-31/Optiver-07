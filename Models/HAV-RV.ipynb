{
 "cells": [
  {
   "cell_type": "code",
   "execution_count": 21,
   "id": "7e397ed4",
   "metadata": {},
   "outputs": [],
   "source": [
    "import numpy as np\n",
    "import pandas as pd\n",
    "import statsmodels.api as sm\n",
    "from sklearn.metrics import r2_score"
   ]
  },
  {
   "cell_type": "code",
   "execution_count": 22,
   "id": "6656b81e",
   "metadata": {},
   "outputs": [],
   "source": [
    "EPS = 1e-10     "
   ]
  },
  {
   "cell_type": "code",
   "execution_count": 23,
   "id": "3056a973",
   "metadata": {},
   "outputs": [],
   "source": [
    "def qlike(actual, pred, eps=EPS):\n",
    "    actual = np.maximum(actual, eps)\n",
    "    pred   = np.maximum(pred, eps)\n",
    "    ratio  = actual / pred\n",
    "    return np.mean(ratio - np.log(ratio) - 1.0)"
   ]
  },
  {
   "cell_type": "code",
   "execution_count": 24,
   "id": "618e3c26",
   "metadata": {},
   "outputs": [],
   "source": [
    "def make_har_features(df, rv_col=\"rv\", d=1, w=5, m=22):\n",
    "    out = df.copy()\n",
    "    out[\"rv_d\"] = out[rv_col].shift(d)\n",
    "    out[\"rv_w\"] = out[rv_col].rolling(w).mean().shift(1)\n",
    "    out[\"rv_m\"] = out[rv_col].rolling(m).mean().shift(1)\n",
    "    return out.dropna()"
   ]
  },
  {
   "cell_type": "code",
   "execution_count": 25,
   "id": "bdfd226a",
   "metadata": {},
   "outputs": [],
   "source": [
    "def fit_har_rv(df, rv_col=\"rv\", test_size=0.2, weighted=False):\n",
    "    df_feat = make_har_features(df, rv_col)\n",
    "\n",
    "    df_feat = df_feat.sort_values([\"stock_id\", \"time_id\"]).reset_index(drop=True)\n",
    "\n",
    "    y = df_feat[rv_col]\n",
    "    X = sm.add_constant(df_feat[[\"rv_d\", \"rv_w\", \"rv_m\"]])\n",
    "\n",
    "    if \"stock_id\" in df_feat.columns:\n",
    "        test_idx = []\n",
    "        for stock_id, group in df_feat.groupby(\"stock_id\"):\n",
    "            n = len(group)\n",
    "            cutoff = int(n * (1.0 - test_size))\n",
    "            test_idx.extend(group.index[cutoff:])\n",
    "        test_idx = sorted(test_idx)\n",
    "        train_idx = sorted(set(df_feat.index) - set(test_idx))\n",
    "    else:\n",
    "        split = int(len(df_feat) * (1.0 - test_size))\n",
    "        train_idx = range(split)\n",
    "        test_idx = range(split, len(df_feat))\n",
    "\n",
    "    X_train, X_test = X.loc[train_idx], X.loc[test_idx]\n",
    "    y_train, y_test = y.loc[train_idx], y.loc[test_idx]\n",
    "\n",
    "    if weighted:\n",
    "        w = 1.0 / np.square(np.clip(y_train, EPS, None))\n",
    "        mask = np.isfinite(w)\n",
    "        X_train, y_train, w = X_train[mask], y_train[mask], w[mask]\n",
    "        model = sm.WLS(y_train, X_train, weights=w).fit()\n",
    "    else:\n",
    "        model = sm.OLS(y_train, X_train).fit()\n",
    "\n",
    "    y_pred_log = model.predict(X_test)\n",
    "    metrics = {\n",
    "        \"R2\"   : r2_score(np.exp(y_test).clip(EPS), np.exp(y_pred_log).clip(EPS)),\n",
    "        \"QLIKE\": qlike(np.exp(y_test).clip(EPS), np.exp(y_pred_log).clip(EPS)),\n",
    "        \"coef\" : model.params,\n",
    "    }\n",
    "    return model, metrics, y_test, y_pred_log"
   ]
  },
  {
   "cell_type": "code",
   "execution_count": 26,
   "id": "faa6085e",
   "metadata": {},
   "outputs": [],
   "source": [
    "df = pd.read_parquet(\"/Users/ayush/Documents/University/Year 03/Sem 01/DATA3888/Optiver-07/Data/FE30Stocks.parquet\")"
   ]
  },
  {
   "cell_type": "code",
   "execution_count": 27,
   "id": "5c8b7467",
   "metadata": {},
   "outputs": [],
   "source": [
    "df = df.rename(columns={\"rv_future\": \"rv\"})\n",
    "df[\"log_rv\"] = np.log(df[\"rv\"].clip(lower=EPS))"
   ]
  },
  {
   "cell_type": "code",
   "execution_count": null,
   "id": "893cf1cd",
   "metadata": {},
   "outputs": [],
   "source": [
    "model, metrics, y_test_log, y_pred_log = fit_har_rv(\n",
    "    df,\n",
    "    rv_col=\"log_rv\",\n",
    "    test_size=0.2,\n",
    "    weighted=False # OLS\n",
    ")"
   ]
  },
  {
   "cell_type": "code",
   "execution_count": 29,
   "id": "8f1290e9",
   "metadata": {},
   "outputs": [
    {
     "name": "stdout",
     "output_type": "stream",
     "text": [
      "β̂ (const, daily, weekly, monthly):\n",
      "const    0.000050\n",
      "rv_d     0.795511\n",
      "rv_w     0.213496\n",
      "rv_m    -0.055662\n",
      "dtype: float64\n"
     ]
    }
   ],
   "source": [
    "print(f\"β̂ (const, daily, weekly, monthly):\\n{metrics['coef']}\")"
   ]
  },
  {
   "cell_type": "code",
   "execution_count": 34,
   "id": "9e8e09ea",
   "metadata": {},
   "outputs": [
    {
     "name": "stdout",
     "output_type": "stream",
     "text": [
      "Out-of-sample R²   : 0.9070958975241714\n",
      "Out-of-sample QLIKE: 1183.3793396368822\n"
     ]
    }
   ],
   "source": [
    "print(\"Out-of-sample R²   :\", metrics[\"R2\"])\n",
    "print(\"Out-of-sample QLIKE:\", metrics[\"QLIKE\"])"
   ]
  }
 ],
 "metadata": {
  "kernelspec": {
   "display_name": "volt",
   "language": "python",
   "name": "python3"
  },
  "language_info": {
   "codemirror_mode": {
    "name": "ipython",
    "version": 3
   },
   "file_extension": ".py",
   "mimetype": "text/x-python",
   "name": "python",
   "nbconvert_exporter": "python",
   "pygments_lexer": "ipython3",
   "version": "3.12.1"
  }
 },
 "nbformat": 4,
 "nbformat_minor": 5
}
