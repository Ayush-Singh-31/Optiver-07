{
 "cells": [
  {
   "cell_type": "code",
   "execution_count": null,
   "id": "a6f6b431",
   "metadata": {},
   "outputs": [],
   "source": [
    "import numpy as np\n",
    "import pandas as pd\n",
    "import torch\n",
    "import torch.nn as nn\n",
    "from sklearn.preprocessing import StandardScaler\n",
    "from sklearn.model_selection import train_test_split\n",
    "from sklearn.metrics import r2_score, mean_squared_error\n",
    "from torch.utils.data import DataLoader, TensorDataset\n",
    "import matplotlib.pyplot as plt\n",
    "from sklearn.model_selection import KFold\n",
    "# -------------------\n",
    "# Load and preprocess data\n",
    "# -------------------"
   ]
  },
  {
   "cell_type": "code",
   "execution_count": null,
   "id": "5b9642b3",
   "metadata": {},
   "outputs": [],
   "source": [
    "# RUN PREPROCESSING AND THEN CAN RUN EITHER CROSS VALIDATION OR REGULAR TRAINING"
   ]
  },
  {
   "cell_type": "code",
   "execution_count": null,
   "id": "c75bd316",
   "metadata": {},
   "outputs": [],
   "source": [
    "# PRE-PROCESSING \n",
    "df = pd.read_csv(\"/Users/tobitlouis/Downloads/S27FE-10K.csv\")\n",
    "\n",
    "X = df.drop('realized_volatility', axis=1).values\n",
    "y = df['realized_volatility'].values\n",
    "\n",
    "# Log transform target\n",
    "y = np.log1p(y)\n",
    "\n",
    "# Scale features\n",
    "scaler = StandardScaler()\n",
    "X_scaled = scaler.fit_transform(X)\n",
    "\n",
    "# Create overlapping windows\n",
    "def create_windows(X, y, window_size):\n",
    "    Xs, ys = [], []\n",
    "    for i in range(len(X) - window_size):\n",
    "        Xs.append(X[i:i+window_size])\n",
    "        ys.append(y[i+window_size])\n",
    "    return np.array(Xs), np.array(ys)\n",
    "\n",
    "window_size = 60\n",
    "X_seq, y_seq = create_windows(X_scaled, y, window_size)"
   ]
  },
  {
   "cell_type": "code",
   "execution_count": 3,
   "id": "74869cb0",
   "metadata": {},
   "outputs": [
    {
     "name": "stdout",
     "output_type": "stream",
     "text": [
      "\n",
      "Fold 1/5\n",
      "  R^2: 0.8604, MSE: 0.00000048\n",
      "\n",
      "Fold 2/5\n",
      "  R^2: 0.7736, MSE: 0.00000086\n",
      "\n",
      "Fold 3/5\n",
      "  R^2: 0.7468, MSE: 0.00000076\n",
      "\n",
      "Fold 4/5\n",
      "  R^2: 0.6921, MSE: 0.00000109\n",
      "\n",
      "Fold 5/5\n",
      "  R^2: 0.6842, MSE: 0.00000105\n",
      "\n",
      "✅ Cross-Validation Summary:\n",
      "  Avg R²:  0.7514 ± 0.0639\n",
      "  Avg MSE: 0.00000085 ± 0.00000022\n"
     ]
    },
    {
     "data": {
      "image/png": "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