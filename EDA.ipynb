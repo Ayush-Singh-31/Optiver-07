{
 "cells": [
  {
   "cell_type": "markdown",
   "id": "9fe1bb80",
   "metadata": {},
   "source": [
    "# **EDA for Stock1**"
   ]
  },
  {
   "cell_type": "code",
   "execution_count": 49,
   "id": "92398554",
   "metadata": {},
   "outputs": [],
   "source": [
    "import numpy as np\n",
    "import pandas as pd\n",
    "import matplotlib.pyplot as plt\n",
    "from scipy import stats\n",
    "import statsmodels.formula.api as smf\n",
    "from sklearn.cluster import KMeans\n",
    "import statsmodels.api as sm\n",
    "from sklearn.model_selection import train_test_split, KFold, TimeSeriesSplit\n",
    "from sklearn.metrics import r2_score\n",
    "import random\n",
    "from sklearn.experimental import enable_hist_gradient_boosting, enable_iterative_imputer  # noqa: F401\n",
    "from sklearn.ensemble import HistGradientBoostingRegressor\n",
    "from sklearn.base import clone\n",
    "from joblib import Parallel, delayed\n",
    "from xgboost import XGBRegressor\n",
    "from sklearn.impute import IterativeImputer\n",
    "from sklearn.linear_model import BayesianRidge\n",
    "import warnings"
   ]
  },
  {
   "cell_type": "code",
   "execution_count": 27,
   "id": "92b0a298",
   "metadata": {},
   "outputs": [
    {
     "data": {
      "text/html": [
       "<div>\n",
       "<style scoped>\n",
       "    .dataframe tbody tr th:only-of-type {\n",
       "        vertical-align: middle;\n",
       "    }\n",
       "\n",
       "    .dataframe tbody tr th {\n",
       "        vertical-align: top;\n",
       "    }\n",
       "\n",
       "    .dataframe thead th {\n",
       "        text-align: right;\n",
       "    }\n",
       "</style>\n",
       "<table border=\"1\" class=\"dataframe\">\n",
       "  <thead>\n",
       "    <tr style=\"text-align: right;\">\n",
       "      <th></th>\n",
       "      <th>time_id</th>\n",
       "      <th>seconds_in_bucket</th>\n",
       "      <th>bid_price1</th>\n",
       "      <th>ask_price1</th>\n",
       "      <th>bid_price2</th>\n",
       "      <th>ask_price2</th>\n",
       "      <th>bid_size1</th>\n",
       "      <th>ask_size1</th>\n",
       "      <th>bid_size2</th>\n",
       "      <th>ask_size2</th>\n",
       "      <th>stock_id</th>\n",
       "    </tr>\n",
       "  </thead>\n",
       "  <tbody>\n",
       "    <tr>\n",
       "      <th>0</th>\n",
       "      <td>5</td>\n",
       "      <td>0</td>\n",
       "      <td>1.000754</td>\n",
       "      <td>1.001542</td>\n",
       "      <td>1.000689</td>\n",
       "      <td>1.001607</td>\n",
       "      <td>1</td>\n",
       "      <td>25</td>\n",
       "      <td>25</td>\n",
       "      <td>100</td>\n",
       "      <td>1</td>\n",
       "    </tr>\n",
       "    <tr>\n",
       "      <th>1</th>\n",
       "      <td>5</td>\n",
       "      <td>1</td>\n",
       "      <td>1.000754</td>\n",
       "      <td>1.001673</td>\n",
       "      <td>1.000689</td>\n",
       "      <td>1.001739</td>\n",
       "      <td>26</td>\n",
       "      <td>60</td>\n",
       "      <td>25</td>\n",
       "      <td>100</td>\n",
       "      <td>1</td>\n",
       "    </tr>\n",
       "    <tr>\n",
       "      <th>2</th>\n",
       "      <td>5</td>\n",
       "      <td>2</td>\n",
       "      <td>1.000754</td>\n",
       "      <td>1.001411</td>\n",
       "      <td>1.000623</td>\n",
       "      <td>1.001476</td>\n",
       "      <td>1</td>\n",
       "      <td>25</td>\n",
       "      <td>25</td>\n",
       "      <td>125</td>\n",
       "      <td>1</td>\n",
       "    </tr>\n",
       "    <tr>\n",
       "      <th>3</th>\n",
       "      <td>5</td>\n",
       "      <td>3</td>\n",
       "      <td>1.000754</td>\n",
       "      <td>1.001542</td>\n",
       "      <td>1.000689</td>\n",
       "      <td>1.001607</td>\n",
       "      <td>125</td>\n",
       "      <td>25</td>\n",
       "      <td>126</td>\n",
       "      <td>36</td>\n",
       "      <td>1</td>\n",
       "    </tr>\n",
       "    <tr>\n",
       "      <th>4</th>\n",
       "      <td>5</td>\n",
       "      <td>4</td>\n",
       "      <td>1.000754</td>\n",
       "      <td>1.001476</td>\n",
       "      <td>1.000623</td>\n",
       "      <td>1.001542</td>\n",
       "      <td>100</td>\n",
       "      <td>100</td>\n",
       "      <td>25</td>\n",
       "      <td>25</td>\n",
       "      <td>1</td>\n",
       "    </tr>\n",
       "  </tbody>\n",
       "</table>\n",
       "</div>"
      ],
      "text/plain": [
       "   time_id  seconds_in_bucket  bid_price1  ask_price1  bid_price2  ask_price2  \\\n",
       "0        5                  0    1.000754    1.001542    1.000689    1.001607   \n",
       "1        5                  1    1.000754    1.001673    1.000689    1.001739   \n",
       "2        5                  2    1.000754    1.001411    1.000623    1.001476   \n",
       "3        5                  3    1.000754    1.001542    1.000689    1.001607   \n",
       "4        5                  4    1.000754    1.001476    1.000623    1.001542   \n",
       "\n",
       "   bid_size1  ask_size1  bid_size2  ask_size2  stock_id  \n",
       "0          1         25         25        100         1  \n",
       "1         26         60         25        100         1  \n",
       "2          1         25         25        125         1  \n",
       "3        125         25        126         36         1  \n",
       "4        100        100         25         25         1  "
      ]
     },
     "execution_count": 27,
     "metadata": {},
     "output_type": "execute_result"
    }
   ],
   "source": [
    "stock1 = pd.read_csv(\"/Users/ayush/Documents/University/Year 03/Sem 01/DATA3888/Optiver-07/Data/individual_book_train/stock_1.csv\")\n",
    "stock1.head()"
   ]
  },
  {
   "cell_type": "code",
   "execution_count": 28,
   "id": "895c476f",
   "metadata": {},
   "outputs": [
    {
     "name": "stdout",
     "output_type": "stream",
     "text": [
      "<class 'pandas.core.frame.DataFrame'>\n",
      "RangeIndex: 1507532 entries, 0 to 1507531\n",
      "Data columns (total 10 columns):\n",
      " #   Column             Non-Null Count    Dtype  \n",
      "---  ------             --------------    -----  \n",
      " 0   time_id            1507532 non-null  int64  \n",
      " 1   seconds_in_bucket  1507532 non-null  int64  \n",
      " 2   bid_price1         1507532 non-null  float64\n",
      " 3   ask_price1         1507532 non-null  float64\n",
      " 4   bid_price2         1507532 non-null  float64\n",
      " 5   ask_price2         1507532 non-null  float64\n",
      " 6   bid_size1          1507532 non-null  int64  \n",
      " 7   ask_size1          1507532 non-null  int64  \n",
      " 8   bid_size2          1507532 non-null  int64  \n",
      " 9   ask_size2          1507532 non-null  int64  \n",
      "dtypes: float64(4), int64(6)\n",
      "memory usage: 115.0 MB\n"
     ]
    }
   ],
   "source": [
    "if (stock1[\"stock_id\"].unique()) == 1:\n",
    "    del stock1[\"stock_id\"]\n",
    "    stock1['time_id'] = pd.factorize(stock1['time_id'])[0] + 1\n",
    "stock1.info()"
   ]
  },
  {
   "cell_type": "markdown",
   "id": "fe138065",
   "metadata": {},
   "source": [
    "## **TimeIDs and Buckets**"
   ]
  },
  {
   "cell_type": "code",
   "execution_count": 108,
   "id": "65b20f05",
   "metadata": {},
   "outputs": [
    {
     "data": {
      "text/plain": [
       "3830"
      ]
     },
     "execution_count": 108,
     "metadata": {},
     "output_type": "execute_result"
    }
   ],
   "source": [
    "len(stock1[\"time_id\"].unique())"
   ]
  },
  {
   "cell_type": "code",
   "execution_count": 37,
   "id": "b3565425",
   "metadata": {},
   "outputs": [
    {
     "name": "stdout",
     "output_type": "stream",
     "text": [
      "Number of Seconds with Data per Time_ID:\n",
      "time_id\n",
      "1       575\n",
      "2       370\n",
      "3       353\n",
      "4       171\n",
      "5       227\n",
      "       ... \n",
      "3826    307\n",
      "3827    494\n",
      "3828    313\n",
      "3829    434\n",
      "3830    305\n",
      "Name: seconds_in_bucket, Length: 3830, dtype: int64\n"
     ]
    }
   ],
   "source": [
    "seconds_per_time_id = stock1.groupby(\"time_id\")[\"seconds_in_bucket\"].nunique()\n",
    "print(\"Number of Seconds with Data per Time_ID:\")\n",
    "print(seconds_per_time_id)"
   ]
  },
  {
   "cell_type": "code",
   "execution_count": 36,
   "id": "593691e0",
   "metadata": {},
   "outputs": [
    {
     "name": "stdout",
     "output_type": "stream",
     "text": [
      "Time IDs with 70% or more missing seconds:\n",
      "time_id\n",
      "3312    468\n",
      "1094    466\n",
      "1687    465\n",
      "3578    462\n",
      "2965    461\n",
      "2556    455\n",
      "1843    454\n",
      "784     451\n",
      "821     450\n",
      "278     446\n",
      "356     446\n",
      "2504    442\n",
      "3530    441\n",
      "1035    439\n",
      "253     438\n",
      "2954    437\n",
      "433     436\n",
      "1465    436\n",
      "1629    436\n",
      "3143    435\n",
      "2849    434\n",
      "3064    433\n",
      "3346    433\n",
      "3605    432\n",
      "2761    431\n",
      "1914    431\n",
      "346     431\n",
      "192     431\n",
      "4       429\n",
      "104     429\n",
      "84      428\n",
      "1836    427\n",
      "2511    427\n",
      "2374    427\n",
      "1202    426\n",
      "2429    426\n",
      "2282    426\n",
      "525     426\n",
      "2933    426\n",
      "651     425\n",
      "3174    425\n",
      "3558    425\n",
      "2394    425\n",
      "910     424\n",
      "1669    424\n",
      "1332    423\n",
      "2357    423\n",
      "965     422\n",
      "2223    421\n",
      "2939    421\n",
      "2631    421\n",
      "1717    421\n",
      "Name: seconds_in_bucket, dtype: int64\n"
     ]
    }
   ],
   "source": [
    "expected_seconds = 600\n",
    "missing_seconds = expected_seconds - seconds_per_time_id\n",
    "high_missing_threshold = 0.7 * expected_seconds \n",
    "high_missing_time_ids = missing_seconds[missing_seconds > high_missing_threshold]\n",
    "\n",
    "print(\"Time IDs with 70% or more missing seconds:\")\n",
    "print(high_missing_time_ids.sort_values(ascending=False))"
   ]
  },
  {
   "cell_type": "code",
   "execution_count": 35,
   "id": "96e0907b",
   "metadata": {},
   "outputs": [
    {
     "data": {
      "text/plain": [
       "(1498949, 10)"
      ]
     },
     "execution_count": 35,
     "metadata": {},
     "output_type": "execute_result"
    }
   ],
   "source": [
    "high_missing_time_ids = missing_seconds[missing_seconds > high_missing_threshold].index\n",
    "filtered_stock1 = stock1[~stock1[\"time_id\"].isin(high_missing_time_ids)]\n",
    "filtered_stock1.shape"
   ]
  },
  {
   "cell_type": "code",
   "execution_count": null,
   "id": "497cb004",
   "metadata": {},
   "outputs": [
    {
     "data": {
      "image/png": "[encoded data removed]",
      "text/plain": [
       "<Figure size 1500x600 with 1 Axes>"
      ]
     },
     "metadata": {},
     "output_type": "display_data"
    }
   ],
   "source": [
    "missing_percentage = (missing_seconds / expected_seconds) * 100\n",
    "plt.figure(figsize=(15, 6))\n",
    "bins = np.arange(0, 100, 1)\n",
    "plt.hist(missing_percentage, bins=bins, edgecolor='black')\n",
    "plt.xlabel(\"Percentage of Missing Seconds per Bucket\")\n",
    "plt.ylabel(\"Number of Time IDs\")\n",
    "plt.title(\"Distribution of Missing Percentage Across Time Buckets\")\n",
    "plt.xticks(np.arange(0, 105, 10))\n",
    "plt.show()"
   ]
  },
  {
   "cell_type": "code",
   "execution_count": 39,
   "id": "fbb42e79",
   "metadata": {},
   "outputs": [
    {
     "data": {
      "image/png": "[encoded data removed]",
      "text/plain": [
       "<Figure size 1500x600 with 1 Axes>"
      ]
     },
     "metadata": {},
     "output_type": "display_data"
    }
   ],
   "source": [
    "expected_seconds = set(range(600)) \n",
    "missing_counts = (\n",
    "    stock1.groupby(\"time_id\")[\"seconds_in_bucket\"]\n",
    "    .apply(lambda x: 600 - len(set(x)))\n",
    "    .reset_index(name=\"missing_seconds\")\n",
    ")\n",
    "\n",
    "plt.figure(figsize=(15, 6))\n",
    "plt.bar(missing_counts[\"time_id\"], missing_counts[\"missing_seconds\"], width=1.0)\n",
    "plt.xlabel(\"time_id\")\n",
    "plt.ylabel(\"Missing Seconds (out of 600)\")\n",
    "plt.title(\"Missing seconds_in_bucket per time_id\")\n",
    "plt.grid(True, axis='y', linestyle='--', alpha=0.5)\n",
    "plt.tight_layout()\n",
    "plt.show()"
   ]
  },
  {
   "cell_type": "code",
   "execution_count": 40,
   "id": "f3db9533",
   "metadata": {},
   "outputs": [
    {
     "data": {
      "image/png": "[encoded data removed]",
      "text/plain": [
       "<Figure size 1500x600 with 1 Axes>"
      ]
     },
     "metadata": {},
     "output_type": "display_data"
    }
   ],
   "source": [
    "plt.figure(figsize=(15, 6))\n",
    "plt.hist(missing_counts[\"missing_seconds\"], bins=30, edgecolor='black')\n",
    "plt.xlabel(\"Missing Seconds\")\n",
    "plt.ylabel(\"Number of Time Buckets\")\n",
    "plt.title(\"Distribution of Missing Seconds Across Time Buckets\")\n",
    "plt.grid(axis='y', linestyle='--', alpha=0.5)\n",
    "plt.tight_layout()\n",
    "plt.show()"
   ]
  },
  {
   "cell_type": "markdown",
   "id": "79eae2d3",
   "metadata": {},
   "source": [
    "## **Patterns in Missing Data**"
   ]
  },
  {
   "cell_type": "code",
   "execution_count": 51,
   "id": "e9073dfc",
   "metadata": {},
   "outputs": [
    {
     "data": {
      "text/html": [
       "<div>\n",
       "<style scoped>\n",
       "    .dataframe tbody tr th:only-of-type {\n",
       "        vertical-align: middle;\n",
       "    }\n",
       "\n",
       "    .dataframe tbody tr th {\n",
       "        vertical-align: top;\n",
       "    }\n",
       "\n",
       "    .dataframe thead th {\n",
       "        text-align: right;\n",
       "    }\n",
       "</style>\n",
       "<table border=\"1\" class=\"dataframe\">\n",
       "  <thead>\n",
       "    <tr style=\"text-align: right;\">\n",
       "      <th></th>\n",
       "      <th>time_id</th>\n",
       "      <th>seconds_in_bucket</th>\n",
       "      <th>bid_price1</th>\n",
       "      <th>ask_price1</th>\n",
       "      <th>bid_price2</th>\n",
       "      <th>ask_price2</th>\n",
       "      <th>bid_size1</th>\n",
       "      <th>ask_size1</th>\n",
       "      <th>bid_size2</th>\n",
       "      <th>ask_size2</th>\n",
       "      <th>missing_indicator</th>\n",
       "    </tr>\n",
       "  </thead>\n",
       "  <tbody>\n",
       "    <tr>\n",
       "      <th>0</th>\n",
       "      <td>1</td>\n",
       "      <td>0</td>\n",
       "      <td>1.000754</td>\n",
       "      <td>1.001542</td>\n",
       "      <td>1.000689</td>\n",
       "      <td>1.001607</td>\n",
       "      <td>1.0</td>\n",
       "      <td>25.0</td>\n",
       "      <td>25.0</td>\n",
       "      <td>100.0</td>\n",
       "      <td>0</td>\n",
       "    </tr>\n",
       "    <tr>\n",
       "      <th>1</th>\n",
       "      <td>1</td>\n",
       "      <td>1</td>\n",
       "      <td>1.000754</td>\n",
       "      <td>1.001673</td>\n",
       "      <td>1.000689</td>\n",
       "      <td>1.001739</td>\n",
       "      <td>26.0</td>\n",
       "      <td>60.0</td>\n",
       "      <td>25.0</td>\n",
       "      <td>100.0</td>\n",
       "      <td>0</td>\n",
       "    </tr>\n",
       "    <tr>\n",
       "      <th>2</th>\n",
       "      <td>1</td>\n",
       "      <td>2</td>\n",
       "      <td>1.000754</td>\n",
       "      <td>1.001411</td>\n",
       "      <td>1.000623</td>\n",
       "      <td>1.001476</td>\n",
       "      <td>1.0</td>\n",
       "      <td>25.0</td>\n",
       "      <td>25.0</td>\n",
       "      <td>125.0</td>\n",
       "      <td>0</td>\n",
       "    </tr>\n",
       "    <tr>\n",
       "      <th>3</th>\n",
       "      <td>1</td>\n",
       "      <td>3</td>\n",
       "      <td>1.000754</td>\n",
       "      <td>1.001542</td>\n",
       "      <td>1.000689</td>\n",
       "      <td>1.001607</td>\n",
       "      <td>125.0</td>\n",
       "      <td>25.0</td>\n",
       "      <td>126.0</td>\n",
       "      <td>36.0</td>\n",
       "      <td>0</td>\n",
       "    </tr>\n",
       "    <tr>\n",
       "      <th>4</th>\n",
       "      <td>1</td>\n",
       "      <td>4</td>\n",
       "      <td>1.000754</td>\n",
       "      <td>1.001476</td>\n",
       "      <td>1.000623</td>\n",
       "      <td>1.001542</td>\n",
       "      <td>100.0</td>\n",
       "      <td>100.0</td>\n",
       "      <td>25.0</td>\n",
       "      <td>25.0</td>\n",
       "      <td>0</td>\n",
       "    </tr>\n",
       "    <tr>\n",
       "      <th>...</th>\n",
       "      <td>...</td>\n",
       "      <td>...</td>\n",
       "      <td>...</td>\n",
       "      <td>...</td>\n",
       "      <td>...</td>\n",
       "      <td>...</td>\n",
       "      <td>...</td>\n",
       "      <td>...</td>\n",
       "      <td>...</td>\n",
       "      <td>...</td>\n",
       "      <td>...</td>\n",
       "    </tr>\n",
       "    <tr>\n",
       "      <th>2297995</th>\n",
       "      <td>3830</td>\n",
       "      <td>595</td>\n",
       "      <td>NaN</td>\n",
       "      <td>NaN</td>\n",
       "      <td>NaN</td>\n",
       "      <td>NaN</td>\n",
       "      <td>NaN</td>\n",
       "      <td>NaN</td>\n",
       "      <td>NaN</td>\n",
       "      <td>NaN</td>\n",
       "      <td>1</td>\n",
       "    </tr>\n",
       "    <tr>\n",
       "      <th>2297996</th>\n",
       "      <td>3830</td>\n",
       "      <td>596</td>\n",
       "      <td>NaN</td>\n",
       "      <td>NaN</td>\n",
       "      <td>NaN</td>\n",
       "      <td>NaN</td>\n",
       "      <td>NaN</td>\n",
       "      <td>NaN</td>\n",
       "      <td>NaN</td>\n",
       "      <td>NaN</td>\n",
       "      <td>1</td>\n",
       "    </tr>\n",
       "    <tr>\n",
       "      <th>2297997</th>\n",
       "      <td>3830</td>\n",
       "      <td>597</td>\n",
       "      <td>NaN</td>\n",
       "      <td>NaN</td>\n",
       "      <td>NaN</td>\n",
       "      <td>NaN</td>\n",
       "      <td>NaN</td>\n",
       "      <td>NaN</td>\n",
       "      <td>NaN</td>\n",
       "      <td>NaN</td>\n",
       "      <td>1</td>\n",
       "    </tr>\n",
       "    <tr>\n",
       "      <th>2297998</th>\n",
       "      <td>3830</td>\n",
       "      <td>598</td>\n",
       "      <td>NaN</td>\n",
       "      <td>NaN</td>\n",
       "      <td>NaN</td>\n",
       "      <td>NaN</td>\n",
       "      <td>NaN</td>\n",
       "      <td>NaN</td>\n",
       "      <td>NaN</td>\n",
       "      <td>NaN</td>\n",
       "      <td>1</td>\n",
       "    </tr>\n",
       "    <tr>\n",
       "      <th>2297999</th>\n",
       "      <td>3830</td>\n",
       "      <td>599</td>\n",
       "      <td>NaN</td>\n",
       "      <td>NaN</td>\n",
       "      <td>NaN</td>\n",
       "      <td>NaN</td>\n",
       "      <td>NaN</td>\n",
       "      <td>NaN</td>\n",
       "      <td>NaN</td>\n",
       "      <td>NaN</td>\n",
       "      <td>1</td>\n",
       "    </tr>\n",
       "  </tbody>\n",
       "</table>\n",
       "<p>2298000 rows × 11 columns</p>\n",
       "</div>"
      ],
      "text/plain": [
       "         time_id  seconds_in_bucket  bid_price1  ask_price1  bid_price2  \\\n",
       "0              1                  0    1.000754    1.001542    1.000689   \n",
       "1              1                  1    1.000754    1.001673    1.000689   \n",
       "2              1                  2    1.000754    1.001411    1.000623   \n",
       "3              1                  3    1.000754    1.001542    1.000689   \n",
       "4              1                  4    1.000754    1.001476    1.000623   \n",
       "...          ...                ...         ...         ...         ...   \n",
       "2297995     3830                595         NaN         NaN         NaN   \n",
       "2297996     3830                596         NaN         NaN         NaN   \n",
       "2297997     3830                597         NaN         NaN         NaN   \n",
       "2297998     3830                598         NaN         NaN         NaN   \n",
       "2297999     3830                599         NaN         NaN         NaN   \n",
       "\n",
       "         ask_price2  bid_size1  ask_size1  bid_size2  ask_size2  \\\n",
       "0          1.001607        1.0       25.0       25.0      100.0   \n",
       "1          1.001739       26.0       60.0       25.0      100.0   \n",
       "2          1.001476        1.0       25.0       25.0      125.0   \n",
       "3          1.001607      125.0       25.0      126.0       36.0   \n",
       "4          1.001542      100.0      100.0       25.0       25.0   \n",
       "...             ...        ...        ...        ...        ...   \n",
       "2297995         NaN        NaN        NaN        NaN        NaN   \n",
       "2297996         NaN        NaN        NaN        NaN        NaN   \n",
       "2297997         NaN        NaN        NaN        NaN        NaN   \n",
       "2297998         NaN        NaN        NaN        NaN        NaN   \n",
       "2297999         NaN        NaN        NaN        NaN        NaN   \n",
       "\n",
       "         missing_indicator  \n",
       "0                        0  \n",
       "1                        0  \n",
       "2                        0  \n",
       "3                        0  \n",
       "4                        0  \n",
       "...                    ...  \n",
       "2297995                  1  \n",
       "2297996                  1  \n",
       "2297997                  1  \n",
       "2297998                  1  \n",
       "2297999                  1  \n",
       "\n",
       "[2298000 rows x 11 columns]"
      ]
     },
     "execution_count": 51,
     "metadata": {},
     "output_type": "execute_result"
    }
   ],
   "source": [
    "df_copy = stock1.copy()\n",
    "\n",
    "all_seconds = np.arange(0, 600)\n",
    "time_ids = df_copy['time_id'].unique()\n",
    "full_index = pd.MultiIndex.from_product([time_ids, all_seconds],names=['time_id', 'seconds_in_bucket'])\n",
    "df_full = pd.DataFrame(index=full_index).reset_index()\n",
    "df_merged = pd.merge(df_full, df_copy, on=['time_id', 'seconds_in_bucket'], how='left')\n",
    "non_key_columns = [col for col in df_copy.columns if col not in ['time_id', 'seconds_in_bucket']]\n",
    "df_merged['missing_indicator'] = df_merged[non_key_columns].isna().all(axis=1).astype(int)\n",
    "df_merged"
   ]
  },
  {
   "cell_type": "code",
   "execution_count": null,
   "id": "f019db8f",
   "metadata": {},
   "outputs": [
    {
     "name": "stdout",
     "output_type": "stream",
     "text": [
      "\n",
      "Little's MCAR Test Results:\n",
      "Chi2 Statistic: 0.000, Degrees of Freedom: 1, p-value: 1.000\n"
     ]
    }
   ],
   "source": [
    "def little_mcar_test(df, cols):\n",
    "\n",
    "    df_subset = df[cols]\n",
    "    complete_data = df_subset.dropna()\n",
    "    overall_mean = complete_data.mean()\n",
    "    cov_matrix = complete_data.cov()\n",
    "\n",
    "    missing_patterns = df_subset.isnull().astype(int).drop_duplicates()\n",
    "    \n",
    "    chi2_stat = 0.0\n",
    "    df_total = 0\n",
    "    \n",
    "    for idx, pattern in missing_patterns.iterrows():\n",
    "        mask = (df_subset.isnull().astype(int) == pattern).all(axis=1)\n",
    "        subset = df_subset[mask]\n",
    "        n = subset.shape[0]\n",
    "        observed_vars = pattern[pattern == 0].index.tolist()\n",
    "        if len(observed_vars) == 0:\n",
    "            continue\n",
    "        \n",
    "        group_mean = subset[observed_vars].mean()\n",
    "        delta = (group_mean - overall_mean[observed_vars]).values.reshape(-1, 1)\n",
    "        cov_sub = cov_matrix.loc[observed_vars, observed_vars].values\n",
    "        inv_cov = np.linalg.pinv(cov_sub)\n",
    "        \n",
    "        t_stat = n * (delta.T @ inv_cov @ delta)\n",
    "        chi2_stat += t_stat[0, 0]\n",
    "        df_total += len(observed_vars)\n",
    "    \n",
    "    p_value = stats.chi2.sf(chi2_stat, df_total)\n",
    "    return chi2_stat, df_total, p_value\n",
    "\n",
    "chi2, dof, pval = little_mcar_test(df_merged, ['missing_indicator'])\n",
    "print(\"\\nLittle's MCAR Test Results:\")\n",
    "print(f\"Chi2 Statistic: {chi2:.3f}, Degrees of Freedom: {dof}, p-value: {pval:.3f}\")"
   ]
  },
  {
   "cell_type": "code",
   "execution_count": 118,
   "id": "a7190e17",
   "metadata": {},
   "outputs": [
    {
     "name": "stdout",
     "output_type": "stream",
     "text": [
      "\n",
      "Logistic Regression Summary for Missing Indicator:\n",
      "                           Logit Regression Results                           \n",
      "==============================================================================\n",
      "Dep. Variable:      missing_indicator   No. Observations:              2298000\n",
      "Model:                          Logit   Df Residuals:                  2297998\n",
      "Method:                           MLE   Df Model:                            1\n",
      "Date:                Tue, 15 Apr 2025   Pseudo R-squ.:               0.0002338\n",
      "Time:                        22:44:08   Log-Likelihood:            -1.4787e+06\n",
      "converged:                       True   LL-Null:                   -1.4791e+06\n",
      "Covariance Type:            nonrobust   LLR p-value:                2.102e-152\n",
      "=====================================================================================\n",
      "                        coef    std err          z      P>|z|      [0.025      0.975]\n",
      "-------------------------------------------------------------------------------------\n",
      "Intercept            -0.7090      0.003   -254.261      0.000      -0.714      -0.704\n",
      "seconds_in_bucket     0.0002   8.02e-06     26.292      0.000       0.000       0.000\n",
      "=====================================================================================\n"
     ]
    }
   ],
   "source": [
    "logit_model = smf.logit('missing_indicator ~ seconds_in_bucket', data=df_merged).fit(disp=False)\n",
    "print(\"\\nLogistic Regression Summary for Missing Indicator:\")\n",
    "print(logit_model.summary())"
   ]
  },
  {
   "cell_type": "code",
   "execution_count": 119,
   "id": "b7051bfb",
   "metadata": {},
   "outputs": [
    {
     "name": "stdout",
     "output_type": "stream",
     "text": [
      "\n",
      "Cluster Summary (Average Missing Rate by Cluster):\n",
      "cluster\n",
      "0     0.085829\n",
      "1     0.559792\n",
      "2     0.526667\n",
      "3     0.666741\n",
      "4     0.406858\n",
      "5     0.588287\n",
      "6     0.523810\n",
      "7     0.612662\n",
      "8     0.538099\n",
      "9     0.326181\n",
      "10    0.462451\n",
      "11    0.546667\n",
      "12    0.511000\n",
      "13    0.548238\n",
      "14    0.538141\n",
      "15    0.508851\n",
      "16    0.483333\n",
      "17    0.486979\n",
      "18    0.578333\n",
      "19    0.521542\n",
      "20    0.639822\n",
      "21    0.590833\n",
      "22    0.416245\n",
      "23    0.209546\n",
      "24    0.473788\n",
      "25    0.497654\n",
      "26    0.527523\n",
      "27    0.476778\n",
      "28    0.594111\n",
      "29    0.524653\n",
      "Name: missing_rate, dtype: float64\n"
     ]
    }
   ],
   "source": [
    "pivot_table = df_merged.pivot(index='time_id', columns='seconds_in_bucket', values='missing_indicator')\n",
    "pivot_table = pivot_table.fillna(0)\n",
    "pivot_table['missing_rate'] = pivot_table.mean(axis=1)\n",
    "seconds_columns = list(all_seconds)  \n",
    "n_clusters = 30\n",
    "kmeans = KMeans(n_clusters=n_clusters, random_state=42)\n",
    "clusters = kmeans.fit_predict(pivot_table[seconds_columns])\n",
    "pivot_table['cluster'] = clusters\n",
    "cluster_summary = pivot_table.groupby('cluster')['missing_rate'].mean()\n",
    "print(\"\\nCluster Summary (Average Missing Rate by Cluster):\")\n",
    "print(cluster_summary)"
   ]
  },
  {
   "cell_type": "code",
   "execution_count": 120,
   "id": "85a57f2e",
   "metadata": {},
   "outputs": [
    {
     "data": {
      "image/png": "[encoded data removed]",
      "text/plain": [
       "<Figure size 1500x600 with 1 Axes>"
      ]
     },
     "metadata": {},
     "output_type": "display_data"
    }
   ],
   "source": [
    "plt.figure(figsize=(15, 6))\n",
    "plt.bar(cluster_summary.index.astype(str), cluster_summary.values)\n",
    "plt.xlabel(\"Cluster\")\n",
    "plt.ylabel(\"Average Missing Rate\")\n",
    "plt.title(\"Average Missing Rate by Cluster\")\n",
    "plt.tight_layout()\n",
    "plt.show()"
   ]
  },
  {
   "cell_type": "code",
   "execution_count": 52,
   "id": "0f349d18",
   "metadata": {},
   "outputs": [],
   "source": [
    "del df_copy, df_merged"
   ]
  },
  {
   "cell_type": "markdown",
   "id": "6883aef3",
   "metadata": {},
   "source": [
    "## **Handling Missing Data**"
   ]
  },
  {
   "cell_type": "markdown",
   "id": "33de0dd0",
   "metadata": {},
   "source": [
    "#### **Adding Missing Rows with NaNs**"
   ]
  },
  {
   "cell_type": "code",
   "execution_count": 53,
   "id": "8281ba64",
   "metadata": {},
   "outputs": [
    {
     "data": {
      "text/html": [
       "<div>\n",
       "<style scoped>\n",
       "    .dataframe tbody tr th:only-of-type {\n",
       "        vertical-align: middle;\n",
       "    }\n",
       "\n",
       "    .dataframe tbody tr th {\n",
       "        vertical-align: top;\n",
       "    }\n",
       "\n",
       "    .dataframe thead th {\n",
       "        text-align: right;\n",
       "    }\n",
       "</style>\n",
       "<table border=\"1\" class=\"dataframe\">\n",
       "  <thead>\n",
       "    <tr style=\"text-align: right;\">\n",
       "      <th></th>\n",
       "      <th>time_id</th>\n",
       "      <th>seconds_in_bucket</th>\n",
       "      <th>bid_price1</th>\n",
       "      <th>ask_price1</th>\n",
       "      <th>bid_price2</th>\n",
       "      <th>ask_price2</th>\n",
       "      <th>bid_size1</th>\n",
       "      <th>ask_size1</th>\n",
       "      <th>bid_size2</th>\n",
       "      <th>ask_size2</th>\n",
       "    </tr>\n",
       "  </thead>\n",
       "  <tbody>\n",
       "    <tr>\n",
       "      <th>0</th>\n",
       "      <td>1</td>\n",
       "      <td>0</td>\n",
       "      <td>1.000754</td>\n",
       "      <td>1.001542</td>\n",
       "      <td>1.000689</td>\n",
       "      <td>1.001607</td>\n",
       "      <td>1.0</td>\n",
       "      <td>25.0</td>\n",
       "      <td>25.0</td>\n",
       "      <td>100.0</td>\n",
       "    </tr>\n",
       "    <tr>\n",
       "      <th>1</th>\n",
       "      <td>1</td>\n",
       "      <td>1</td>\n",
       "      <td>1.000754</td>\n",
       "      <td>1.001673</td>\n",
       "      <td>1.000689</td>\n",
       "      <td>1.001739</td>\n",
       "      <td>26.0</td>\n",
       "      <td>60.0</td>\n",
       "      <td>25.0</td>\n",
       "      <td>100.0</td>\n",
       "    </tr>\n",
       "    <tr>\n",
       "      <th>2</th>\n",
       "      <td>1</td>\n",
       "      <td>2</td>\n",
       "      <td>1.000754</td>\n",
       "      <td>1.001411</td>\n",
       "      <td>1.000623</td>\n",
       "      <td>1.001476</td>\n",
       "      <td>1.0</td>\n",
       "      <td>25.0</td>\n",
       "      <td>25.0</td>\n",
       "      <td>125.0</td>\n",
       "    </tr>\n",
       "    <tr>\n",
       "      <th>3</th>\n",
       "      <td>1</td>\n",
       "      <td>3</td>\n",
       "      <td>1.000754</td>\n",
       "      <td>1.001542</td>\n",
       "      <td>1.000689</td>\n",
       "      <td>1.001607</td>\n",
       "      <td>125.0</td>\n",
       "      <td>25.0</td>\n",
       "      <td>126.0</td>\n",
       "      <td>36.0</td>\n",
       "    </tr>\n",
       "    <tr>\n",
       "      <th>4</th>\n",
       "      <td>1</td>\n",
       "      <td>4</td>\n",
       "      <td>1.000754</td>\n",
       "      <td>1.001476</td>\n",
       "      <td>1.000623</td>\n",
       "      <td>1.001542</td>\n",
       "      <td>100.0</td>\n",
       "      <td>100.0</td>\n",
       "      <td>25.0</td>\n",
       "      <td>25.0</td>\n",
       "    </tr>\n",
       "    <tr>\n",
       "      <th>...</th>\n",
       "      <td>...</td>\n",
       "      <td>...</td>\n",
       "      <td>...</td>\n",
       "      <td>...</td>\n",
       "      <td>...</td>\n",
       "      <td>...</td>\n",
       "      <td>...</td>\n",
       "      <td>...</td>\n",
       "      <td>...</td>\n",
       "      <td>...</td>\n",
       "    </tr>\n",
       "    <tr>\n",
       "      <th>2297995</th>\n",
       "      <td>3830</td>\n",
       "      <td>595</td>\n",
       "      <td>NaN</td>\n",
       "      <td>NaN</td>\n",
       "      <td>NaN</td>\n",
       "      <td>NaN</td>\n",
       "      <td>NaN</td>\n",
       "      <td>NaN</td>\n",
       "      <td>NaN</td>\n",
       "      <td>NaN</td>\n",
       "    </tr>\n",
       "    <tr>\n",
       "      <th>2297996</th>\n",
       "      <td>3830</td>\n",
       "      <td>596</td>\n",
       "      <td>NaN</td>\n",
       "      <td>NaN</td>\n",
       "      <td>NaN</td>\n",
       "      <td>NaN</td>\n",
       "      <td>NaN</td>\n",
       "      <td>NaN</td>\n",
       "      <td>NaN</td>\n",
       "      <td>NaN</td>\n",
       "    </tr>\n",
       "    <tr>\n",
       "      <th>2297997</th>\n",
       "      <td>3830</td>\n",
       "      <td>597</td>\n",
       "      <td>NaN</td>\n",
       "      <td>NaN</td>\n",
       "      <td>NaN</td>\n",
       "      <td>NaN</td>\n",
       "      <td>NaN</td>\n",
       "      <td>NaN</td>\n",
       "      <td>NaN</td>\n",
       "      <td>NaN</td>\n",
       "    </tr>\n",
       "    <tr>\n",
       "      <th>2297998</th>\n",
       "      <td>3830</td>\n",
       "      <td>598</td>\n",
       "      <td>NaN</td>\n",
       "      <td>NaN</td>\n",
       "      <td>NaN</td>\n",
       "      <td>NaN</td>\n",
       "      <td>NaN</td>\n",
       "      <td>NaN</td>\n",
       "      <td>NaN</td>\n",
       "      <td>NaN</td>\n",
       "    </tr>\n",
       "    <tr>\n",
       "      <th>2297999</th>\n",
       "      <td>3830</td>\n",
       "      <td>599</td>\n",
       "      <td>NaN</td>\n",
       "      <td>NaN</td>\n",
       "      <td>NaN</td>\n",
       "      <td>NaN</td>\n",
       "      <td>NaN</td>\n",
       "      <td>NaN</td>\n",
       "      <td>NaN</td>\n",
       "      <td>NaN</td>\n",
       "    </tr>\n",
       "  </tbody>\n",
       "</table>\n",
       "<p>2298000 rows × 10 columns</p>\n",
       "</div>"
      ],
      "text/plain": [
       "         time_id  seconds_in_bucket  bid_price1  ask_price1  bid_price2  \\\n",
       "0              1                  0    1.000754    1.001542    1.000689   \n",
       "1              1                  1    1.000754    1.001673    1.000689   \n",
       "2              1                  2    1.000754    1.001411    1.000623   \n",
       "3              1                  3    1.000754    1.001542    1.000689   \n",
       "4              1                  4    1.000754    1.001476    1.000623   \n",
       "...          ...                ...         ...         ...         ...   \n",
       "2297995     3830                595         NaN         NaN         NaN   \n",
       "2297996     3830                596         NaN         NaN         NaN   \n",
       "2297997     3830                597         NaN         NaN         NaN   \n",
       "2297998     3830                598         NaN         NaN         NaN   \n",
       "2297999     3830                599         NaN         NaN         NaN   \n",
       "\n",
       "         ask_price2  bid_size1  ask_size1  bid_size2  ask_size2  \n",
       "0          1.001607        1.0       25.0       25.0      100.0  \n",
       "1          1.001739       26.0       60.0       25.0      100.0  \n",
       "2          1.001476        1.0       25.0       25.0      125.0  \n",
       "3          1.001607      125.0       25.0      126.0       36.0  \n",
       "4          1.001542      100.0      100.0       25.0       25.0  \n",
       "...             ...        ...        ...        ...        ...  \n",
       "2297995         NaN        NaN        NaN        NaN        NaN  \n",
       "2297996         NaN        NaN        NaN        NaN        NaN  \n",
       "2297997         NaN        NaN        NaN        NaN        NaN  \n",
       "2297998         NaN        NaN        NaN        NaN        NaN  \n",
       "2297999         NaN        NaN        NaN        NaN        NaN  \n",
       "\n",
       "[2298000 rows x 10 columns]"
      ]
     },
     "execution_count": 53,
     "metadata": {},
     "output_type": "execute_result"
    }
   ],
   "source": [
    "warnings.filterwarnings(\"ignore\", category=DeprecationWarning)\n",
    "\n",
    "def reindex_group(group):\n",
    "    group = group.set_index('seconds_in_bucket').sort_index()\n",
    "    complete_index = range(600)\n",
    "    group = group.reindex(complete_index)\n",
    "    group['time_id'] = group['time_id'].ffill().astype(int)\n",
    "    result = group.reset_index().rename(columns={'index': 'seconds_in_bucket'})\n",
    "    result = result[['time_id', 'seconds_in_bucket'] + [col for col in result.columns \n",
    "                                                        if col not in ('time_id', 'seconds_in_bucket')]]\n",
    "    return result\n",
    "\n",
    "df_complete = stock1.groupby('time_id', group_keys=False).apply(reindex_group).reset_index(drop=True)\n",
    "df_complete"
   ]
  },
  {
   "cell_type": "code",
   "execution_count": 7,
   "id": "dba39cd7",
   "metadata": {},
   "outputs": [
    {
     "name": "stdout",
     "output_type": "stream",
     "text": [
      "[600]\n"
     ]
    }
   ],
   "source": [
    "counts = df_complete.groupby('time_id')['seconds_in_bucket'].count()\n",
    "print(counts.unique())"
   ]
  },
  {
   "cell_type": "code",
   "execution_count": 54,
   "id": "c3bfe723",
   "metadata": {},
   "outputs": [
    {
     "data": {
      "image/png": "[encoded data removed]",
      "text/plain": [
       "<Figure size 1000x400 with 1 Axes>"
      ]
     },
     "metadata": {},
     "output_type": "display_data"
    }
   ],
   "source": [
    "bucket_id = stock1['time_id'].unique()[3311]\n",
    "bucket_data = stock1[stock1['time_id'] == bucket_id]\n",
    "\n",
    "plt.figure(figsize=(10, 4))\n",
    "plt.plot(bucket_data['seconds_in_bucket'], bucket_data['ask_price1'], label='bid_price1')\n",
    "plt.xlabel('Seconds in Bucket')\n",
    "plt.ylabel('bid_price1')\n",
    "plt.title(f'Given Time Series for Time Bucket {bucket_id}')\n",
    "plt.legend()\n",
    "plt.show()"
   ]
  },
  {
   "cell_type": "code",
   "execution_count": 55,
   "id": "f400c3f9",
   "metadata": {},
   "outputs": [
    {
     "data": {
      "image/png": "[encoded data removed]",
      "text/plain": [
       "<Figure size 1000x400 with 1 Axes>"
      ]
     },
     "metadata": {},
     "output_type": "display_data"
    }
   ],
   "source": [
    "bucket_id = df_complete['time_id'].unique()[3311]\n",
    "bucket_data = df_complete[df_complete['time_id'] == bucket_id]\n",
    "\n",
    "plt.figure(figsize=(10, 4))\n",
    "plt.plot(bucket_data['seconds_in_bucket'], bucket_data['ask_price1'], label='bid_price1')\n",
    "plt.xlabel('Seconds in Bucket')\n",
    "plt.ylabel('bid_price1')\n",
    "plt.title(f'Real Time Series for Time Bucket {bucket_id}')\n",
    "plt.legend()\n",
    "plt.show()"
   ]
  },
  {
   "cell_type": "markdown",
   "id": "38b07d15",
   "metadata": {},
   "source": [
    "#### **Adding Missing Rows and Imputing NaNs**"
   ]
  },
  {
   "cell_type": "code",
   "execution_count": null,
   "id": "d73ac583",
   "metadata": {},
   "outputs": [
    {
     "data": {
      "text/html": [
       "<div>\n",
       "<style scoped>\n",
       "    .dataframe tbody tr th:only-of-type {\n",
       "        vertical-align: middle;\n",
       "    }\n",
       "\n",
       "    .dataframe tbody tr th {\n",
       "        vertical-align: top;\n",
       "    }\n",
       "\n",
       "    .dataframe thead th {\n",
       "        text-align: right;\n",
       "    }\n",
       "</style>\n",
       "<table border=\"1\" class=\"dataframe\">\n",
       "  <thead>\n",
       "    <tr style=\"text-align: right;\">\n",
       "      <th></th>\n",
       "      <th>time_id</th>\n",
       "      <th>seconds_in_bucket</th>\n",
       "      <th>impute_flag</th>\n",
       "      <th>bid_price1</th>\n",
       "      <th>ask_price1</th>\n",
       "      <th>bid_price2</th>\n",
       "      <th>ask_price2</th>\n",
       "      <th>bid_size1</th>\n",
       "      <th>ask_size1</th>\n",
       "      <th>bid_size2</th>\n",
       "      <th>ask_size2</th>\n",
       "    </tr>\n",
       "  </thead>\n",
       "  <tbody>\n",
       "    <tr>\n",
       "      <th>1986600</th>\n",
       "      <td>3312</td>\n",
       "      <td>0</td>\n",
       "      <td>False</td>\n",
       "      <td>0.999182</td>\n",
       "      <td>0.999471</td>\n",
       "      <td>0.999085</td>\n",
       "      <td>0.999567</td>\n",
       "      <td>128.0</td>\n",
       "      <td>5.0</td>\n",
       "      <td>10.0</td>\n",
       "      <td>224.0</td>\n",
       "    </tr>\n",
       "    <tr>\n",
       "      <th>1986601</th>\n",
       "      <td>3312</td>\n",
       "      <td>1</td>\n",
       "      <td>False</td>\n",
       "      <td>0.999182</td>\n",
       "      <td>0.999471</td>\n",
       "      <td>0.999085</td>\n",
       "      <td>0.999567</td>\n",
       "      <td>128.0</td>\n",
       "      <td>5.0</td>\n",
       "      <td>10.0</td>\n",
       "      <td>224.0</td>\n",
       "    </tr>\n",
       "    <tr>\n",
       "      <th>1986602</th>\n",
       "      <td>3312</td>\n",
       "      <td>2</td>\n",
       "      <td>False</td>\n",
       "      <td>0.999182</td>\n",
       "      <td>0.999471</td>\n",
       "      <td>0.999085</td>\n",
       "      <td>0.999567</td>\n",
       "      <td>128.0</td>\n",
       "      <td>5.0</td>\n",
       "      <td>10.0</td>\n",
       "      <td>224.0</td>\n",
       "    </tr>\n",
       "    <tr>\n",
       "      <th>1986603</th>\n",
       "      <td>3312</td>\n",
       "      <td>3</td>\n",
       "      <td>False</td>\n",
       "      <td>0.999182</td>\n",
       "      <td>0.999471</td>\n",
       "      <td>0.999085</td>\n",
       "      <td>0.999567</td>\n",
       "      <td>128.0</td>\n",
       "      <td>5.0</td>\n",
       "      <td>10.0</td>\n",
       "      <td>224.0</td>\n",
       "    </tr>\n",
       "    <tr>\n",
       "      <th>1986604</th>\n",
       "      <td>3312</td>\n",
       "      <td>4</td>\n",
       "      <td>False</td>\n",
       "      <td>0.999182</td>\n",
       "      <td>0.999471</td>\n",
       "      <td>0.999085</td>\n",
       "      <td>0.999567</td>\n",
       "      <td>128.0</td>\n",
       "      <td>5.0</td>\n",
       "      <td>10.0</td>\n",
       "      <td>224.0</td>\n",
       "    </tr>\n",
       "    <tr>\n",
       "      <th>...</th>\n",
       "      <td>...</td>\n",
       "      <td>...</td>\n",
       "      <td>...</td>\n",
       "      <td>...</td>\n",
       "      <td>...</td>\n",
       "      <td>...</td>\n",
       "      <td>...</td>\n",
       "      <td>...</td>\n",
       "      <td>...</td>\n",
       "      <td>...</td>\n",
       "      <td>...</td>\n",
       "    </tr>\n",
       "    <tr>\n",
       "      <th>1987195</th>\n",
       "      <td>3312</td>\n",
       "      <td>595</td>\n",
       "      <td>False</td>\n",
       "      <td>0.999856</td>\n",
       "      <td>1.000144</td>\n",
       "      <td>0.999759</td>\n",
       "      <td>1.000241</td>\n",
       "      <td>8.0</td>\n",
       "      <td>110.0</td>\n",
       "      <td>900.0</td>\n",
       "      <td>61.0</td>\n",
       "    </tr>\n",
       "    <tr>\n",
       "      <th>1987196</th>\n",
       "      <td>3312</td>\n",
       "      <td>596</td>\n",
       "      <td>False</td>\n",
       "      <td>0.999856</td>\n",
       "      <td>1.000144</td>\n",
       "      <td>0.999759</td>\n",
       "      <td>1.000241</td>\n",
       "      <td>8.0</td>\n",
       "      <td>110.0</td>\n",
       "      <td>900.0</td>\n",
       "      <td>61.0</td>\n",
       "    </tr>\n",
       "    <tr>\n",
       "      <th>1987197</th>\n",
       "      <td>3312</td>\n",
       "      <td>597</td>\n",
       "      <td>False</td>\n",
       "      <td>0.999856</td>\n",
       "      <td>1.000144</td>\n",
       "      <td>0.999759</td>\n",
       "      <td>1.000241</td>\n",
       "      <td>8.0</td>\n",
       "      <td>110.0</td>\n",
       "      <td>900.0</td>\n",
       "      <td>61.0</td>\n",
       "    </tr>\n",
       "    <tr>\n",
       "      <th>1987198</th>\n",
       "      <td>3312</td>\n",
       "      <td>598</td>\n",
       "      <td>False</td>\n",
       "      <td>0.999856</td>\n",
       "      <td>1.000144</td>\n",
       "      <td>0.999759</td>\n",
       "      <td>1.000241</td>\n",
       "      <td>8.0</td>\n",
       "      <td>110.0</td>\n",
       "      <td>900.0</td>\n",
       "      <td>61.0</td>\n",
       "    </tr>\n",
       "    <tr>\n",
       "      <th>1987199</th>\n",
       "      <td>3312</td>\n",
       "      <td>599</td>\n",
       "      <td>False</td>\n",
       "      <td>0.999856</td>\n",
       "      <td>1.000144</td>\n",
       "      <td>0.999759</td>\n",
       "      <td>1.000241</td>\n",
       "      <td>8.0</td>\n",
       "      <td>110.0</td>\n",
       "      <td>900.0</td>\n",
       "      <td>61.0</td>\n",
       "    </tr>\n",
       "  </tbody>\n",
       "</table>\n",
       "<p>600 rows × 11 columns</p>\n",
       "</div>"
      ],
      "text/plain": [
       "         time_id  seconds_in_bucket  impute_flag  bid_price1  ask_price1  \\\n",
       "1986600     3312                  0        False    0.999182    0.999471   \n",
       "1986601     3312                  1        False    0.999182    0.999471   \n",
       "1986602     3312                  2        False    0.999182    0.999471   \n",
       "1986603     3312                  3        False    0.999182    0.999471   \n",
       "1986604     3312                  4        False    0.999182    0.999471   \n",
       "...          ...                ...          ...         ...         ...   \n",
       "1987195     3312                595        False    0.999856    1.000144   \n",
       "1987196     3312                596        False    0.999856    1.000144   \n",
       "1987197     3312                597        False    0.999856    1.000144   \n",
       "1987198     3312                598        False    0.999856    1.000144   \n",
       "1987199     3312                599        False    0.999856    1.000144   \n",
       "\n",
       "         bid_price2  ask_price2  bid_size1  ask_size1  bid_size2  ask_size2  \n",
       "1986600    0.999085    0.999567      128.0        5.0       10.0      224.0  \n",
       "1986601    0.999085    0.999567      128.0        5.0       10.0      224.0  \n",
       "1986602    0.999085    0.999567      128.0        5.0       10.0      224.0  \n",
       "1986603    0.999085    0.999567      128.0        5.0       10.0      224.0  \n",
       "1986604    0.999085    0.999567      128.0        5.0       10.0      224.0  \n",
       "...             ...         ...        ...        ...        ...        ...  \n",
       "1987195    0.999759    1.000241        8.0      110.0      900.0       61.0  \n",
       "1987196    0.999759    1.000241        8.0      110.0      900.0       61.0  \n",
       "1987197    0.999759    1.000241        8.0      110.0      900.0       61.0  \n",
       "1987198    0.999759    1.000241        8.0      110.0      900.0       61.0  \n",
       "1987199    0.999759    1.000241        8.0      110.0      900.0       61.0  \n",
       "\n",
       "[600 rows x 11 columns]"
      ]
     },
     "execution_count": 57,
     "metadata": {},
     "output_type": "execute_result"
    }
   ],
   "source": [
    "def process_group(group):\n",
    "\n",
    "    original_count = len(group)\n",
    "    coverage = original_count / 600.0\n",
    "    \n",
    "    if coverage < 0.3:\n",
    "        return pd.DataFrame()  \n",
    "    \n",
    "    if coverage >= 0.8:\n",
    "        group = group.set_index('seconds_in_bucket').sort_index()\n",
    "        existing_idx = set(group.index)\n",
    "        full_idx = range(600)\n",
    "        \n",
    "        group = group.reindex(full_idx)\n",
    "        group['impute_flag'] = group.index.map(lambda x: x not in existing_idx)\n",
    "\n",
    "        numeric_cols = group.select_dtypes(include=[np.number]).columns\n",
    "        group[numeric_cols] = group[numeric_cols].ffill()\n",
    "        \n",
    "        group['time_id'] = group['time_id'].ffill()\n",
    "        \n",
    "        group = group.reset_index().rename(columns={'index': 'seconds_in_bucket'})\n",
    "        \n",
    "        group['time_id'] = group['time_id'].astype(int)\n",
    "        \n",
    "        col_order = ['time_id', 'seconds_in_bucket', 'impute_flag'] + \\\n",
    "                    [c for c in group.columns if c not in ('time_id','seconds_in_bucket','impute_flag')]\n",
    "        group = group[col_order]\n",
    "        \n",
    "        return group\n",
    "    \n",
    "    return group\n",
    "\n",
    "df_processed = (\n",
    "    df_complete.groupby('time_id', group_keys=False)\n",
    "      .apply(process_group)\n",
    "      .reset_index(drop=True)\n",
    ")\n",
    "\n",
    "df_processed"
   ]
  },
  {
   "cell_type": "code",
   "execution_count": 129,
   "id": "6c1b3d72",
   "metadata": {},
   "outputs": [
    {
     "data": {
      "image/png": "[encoded data removed]",
      "text/plain": [
       "<Figure size 1000x400 with 1 Axes>"
      ]
     },
     "metadata": {},
     "output_type": "display_data"
    }
   ],
   "source": [
    "bucket_id = df_processed['time_id'].unique()[3311]\n",
    "bucket_data = df_processed[df_processed['time_id'] == bucket_id]\n",
    "\n",
    "plt.figure(figsize=(10, 4))\n",
    "plt.plot(bucket_data['seconds_in_bucket'], bucket_data['ask_price1'], label='bid_price1')\n",
    "plt.xlabel('Seconds in Bucket')\n",
    "plt.ylabel('bid_price1')\n",
    "plt.title(f'Real Time Series for Time Bucket {bucket_id}')\n",
    "plt.legend()\n",
    "plt.show()"
   ]
  },
  {
   "cell_type": "markdown",
   "id": "65f25bad",
   "metadata": {},
   "source": [
    "## **Comparing Dataframes**"
   ]
  },
  {
   "cell_type": "code",
   "execution_count": 130,
   "id": "641f6ed9",
   "metadata": {},
   "outputs": [
    {
     "data": {
      "text/plain": [
       "Index(['time_id', 'seconds_in_bucket', 'bid_price1', 'ask_price1',\n",
       "       'bid_price2', 'ask_price2', 'bid_size1', 'ask_size1', 'bid_size2',\n",
       "       'ask_size2'],\n",
       "      dtype='object')"
      ]
     },
     "execution_count": 130,
     "metadata": {},
     "output_type": "execute_result"
    }
   ],
   "source": [
    "stock1.columns # Original Dataset"
   ]
  },
  {
   "cell_type": "code",
   "execution_count": 131,
   "id": "f5f39ae1",
   "metadata": {},
   "outputs": [
    {
     "data": {
      "text/plain": [
       "Index(['time_id', 'seconds_in_bucket', 'impute_flag', 'bid_price1',\n",
       "       'ask_price1', 'bid_price2', 'ask_price2', 'bid_size1', 'ask_size1',\n",
       "       'bid_size2', 'ask_size2'],\n",
       "      dtype='object')"
      ]
     },
     "execution_count": 131,
     "metadata": {},
     "output_type": "execute_result"
    }
   ],
   "source": [
    "df_processed.columns # Re-labled not Imputed"
   ]
  },
  {
   "cell_type": "code",
   "execution_count": 132,
   "id": "f384aefb",
   "metadata": {},
   "outputs": [
    {
     "data": {
      "text/plain": [
       "Index(['time_id', 'seconds_in_bucket', 'bid_price1', 'ask_price1',\n",
       "       'bid_price2', 'ask_price2', 'bid_size1', 'ask_size1', 'bid_size2',\n",
       "       'ask_size2'],\n",
       "      dtype='object')"
      ]
     },
     "execution_count": 132,
     "metadata": {},
     "output_type": "execute_result"
    }
   ],
   "source": [
    "df_complete.columns # Re-labled and Imputed"
   ]
  },
  {
   "cell_type": "code",
   "execution_count": 133,
   "id": "800fc94c",
   "metadata": {},
   "outputs": [
    {
     "data": {
      "text/plain": [
       "Index(['time_id', 'seconds_in_bucket', 'bid_price1', 'ask_price1',\n",
       "       'bid_price2', 'ask_price2', 'bid_size1', 'ask_size1', 'bid_size2',\n",
       "       'ask_size2'],\n",
       "      dtype='object')"
      ]
     },
     "execution_count": 133,
     "metadata": {},
     "output_type": "execute_result"
    }
   ],
   "source": [
    "filtered_stock1.columns # Raw data with dropped time_ids with 70% or more missing"
   ]
  },
  {
   "cell_type": "code",
   "execution_count": 134,
   "id": "c5e8b423",
   "metadata": {},
   "outputs": [
    {
     "name": "stderr",
     "output_type": "stream",
     "text": [
      "/var/folders/0s/bt69j7tj0pd5rl5dzr4n6bth0000gn/T/ipykernel_4823/3729025023.py:1: DeprecationWarning: DataFrameGroupBy.apply operated on the grouping columns. This behavior is deprecated, and in a future version of pandas the grouping columns will be excluded from the operation. Either pass `include_groups=False` to exclude the groupings or explicitly select the grouping columns after groupby to silence this warning.\n",
      "  filtered_stock1_processed = filtered_stock1.groupby('time_id', group_keys=False).apply(reindex_group).reset_index(drop=True)\n"
     ]
    },
    {
     "data": {
      "text/plain": [
       "Index(['time_id', 'seconds_in_bucket', 'bid_price1', 'ask_price1',\n",
       "       'bid_price2', 'ask_price2', 'bid_size1', 'ask_size1', 'bid_size2',\n",
       "       'ask_size2'],\n",
       "      dtype='object')"
      ]
     },
     "execution_count": 134,
     "metadata": {},
     "output_type": "execute_result"
    }
   ],
   "source": [
    "filtered_stock1_processed = filtered_stock1.groupby('time_id', group_keys=False).apply(reindex_group).reset_index(drop=True)\n",
    "filtered_stock1_processed.columns "
   ]
  },
  {
   "cell_type": "code",
   "execution_count": 135,
   "id": "bf1d4067",
   "metadata": {},
   "outputs": [
    {
     "name": "stderr",
     "output_type": "stream",
     "text": [
      "/var/folders/0s/bt69j7tj0pd5rl5dzr4n6bth0000gn/T/ipykernel_4823/1454127512.py:3: DeprecationWarning: DataFrameGroupBy.apply operated on the grouping columns. This behavior is deprecated, and in a future version of pandas the grouping columns will be excluded from the operation. Either pass `include_groups=False` to exclude the groupings or explicitly select the grouping columns after groupby to silence this warning.\n",
      "  .apply(process_group)\n"
     ]
    },
    {
     "data": {
      "text/plain": [
       "Index(['time_id', 'seconds_in_bucket', 'impute_flag', 'bid_price1',\n",
       "       'ask_price1', 'bid_price2', 'ask_price2', 'bid_size1', 'ask_size1',\n",
       "       'bid_size2', 'ask_size2'],\n",
       "      dtype='object')"
      ]
     },
     "execution_count": 135,
     "metadata": {},
     "output_type": "execute_result"
    }
   ],
   "source": [
    "filtered_stock1_complete = (\n",
    "    filtered_stock1.groupby('time_id', group_keys=False)\n",
    "      .apply(process_group)\n",
    "      .reset_index(drop=True)\n",
    ")\n",
    "filtered_stock1_complete.columns"
   ]
  },
  {
   "cell_type": "code",
   "execution_count": 136,
   "id": "8ef77feb",
   "metadata": {},
   "outputs": [],
   "source": [
    "def evaluate_vol_prediction_weighted_lr(df):\n",
    "    df = df.sort_values(by='time_id').reset_index(drop=True)\n",
    "    \n",
    "    numeric_cols = df.select_dtypes(include=[np.number]).columns.tolist()\n",
    "    target_col = 'realized_volatility'\n",
    "    exclude_cols = ['time_id', 'seconds_in_bucket', target_col]\n",
    "    feature_cols = [c for c in numeric_cols if c not in exclude_cols]\n",
    "    \n",
    "    X = df[feature_cols].fillna(0)\n",
    "    y = df[target_col].fillna(0)\n",
    "    weights = df[\"bid_size1\"] + df[\"ask_size1\"]\n",
    "    \n",
    "    train_size = int(len(df) * 0.7)\n",
    "    X_train, X_test = X.iloc[:train_size], X.iloc[train_size:]\n",
    "    y_train, y_test = y.iloc[:train_size], y.iloc[train_size:]\n",
    "    weights_train, weights_test = weights.iloc[:train_size], weights.iloc[train_size:]\n",
    "    \n",
    "    X_train_const = sm.add_constant(X_train)\n",
    "    model = sm.WLS(y_train, X_train_const, weights=weights_train)\n",
    "    results = model.fit()\n",
    "    \n",
    "    X_test_const = sm.add_constant(X_test)\n",
    "    y_pred = results.predict(X_test_const)\n",
    "    r2 = r2_score(y_test, y_pred)\n",
    "    \n",
    "    return r2, results\n"
   ]
  },
  {
   "cell_type": "code",
   "execution_count": 137,
   "id": "d2eb77a9",
   "metadata": {},
   "outputs": [
    {
     "name": "stdout",
     "output_type": "stream",
     "text": [
      "Weighted Linear Regression R^2: 0.09710480939069632\n",
      "Weighted Linear Regression R^2: 0.06583934524209278\n",
      "Weighted Linear Regression R^2: 0.19896439116633702\n",
      "Weighted Linear Regression R^2: 0.09689431699584927\n",
      "Weighted Linear Regression R^2: 0.1965152249660368\n",
      "Weighted Linear Regression R^2: 0.06901550979717741\n"
     ]
    }
   ],
   "source": [
    "random.seed(3888)\n",
    "\n",
    "targets = [stock1, df_processed, df_complete, filtered_stock1, filtered_stock1_processed, filtered_stock1_complete]\n",
    "for i in range(len(targets)):\n",
    "    df = targets[i].copy()  \n",
    "\n",
    "    df.loc[:, \"midpoint\"] = (df[\"ask_price1\"] + df[\"bid_price1\"]) / 2\n",
    "    df.loc[:, \"bid_ask_spread\"] = df[\"ask_price1\"] - df[\"bid_price1\"]\n",
    "    df.loc[:, \"log_return\"] = np.log(df[\"midpoint\"]).diff()\n",
    "    df.loc[:, \"realized_volatility\"] = df[\"log_return\"].rolling(window=30).apply(\n",
    "        lambda x: np.sqrt(np.sum(x**2)), raw=True\n",
    "    )\n",
    "    df.dropna(inplace=True)\n",
    "\n",
    "    r2_weighted_lr, lr_results = evaluate_vol_prediction_weighted_lr(df)\n",
    "    print(\"Weighted Linear Regression R^2:\", r2_weighted_lr)\n"
   ]
  },
  {
   "cell_type": "code",
   "execution_count": 138,
   "id": "247b9143",
   "metadata": {},
   "outputs": [],
   "source": [
    "def evaluate_vol_prediction_hgb_cv(df, n_splits=10, rolling_window=None):\n",
    "\n",
    "    df = df.sort_values(by='time_id').reset_index(drop=True)\n",
    "    \n",
    "    numeric_cols = df.select_dtypes(include=[np.number]).columns.tolist()\n",
    "    target_col = 'realized_volatility'\n",
    "    exclude_cols = ['time_id', 'seconds_in_bucket', target_col]\n",
    "    feature_cols = [c for c in numeric_cols if c not in exclude_cols]\n",
    "\n",
    "    X = df[feature_cols].fillna(0)\n",
    "    y = df[target_col].fillna(0)\n",
    "    sample_weight = df[\"bid_size1\"] + df[\"ask_size1\"]\n",
    "    \n",
    "    base_model = HistGradientBoostingRegressor(\n",
    "        random_state=3888,\n",
    "        early_stopping=True,\n",
    "        max_iter=1000,       \n",
    "        learning_rate=0.001, \n",
    "        max_depth=10        \n",
    "    )\n",
    "    \n",
    "    if rolling_window is not None:\n",
    "        tscv = TimeSeriesSplit(n_splits=n_splits, max_train_size=rolling_window)\n",
    "    else:\n",
    "        tscv = TimeSeriesSplit(n_splits=n_splits)\n",
    "\n",
    "    def fold_score(train_index, val_index):\n",
    "        X_train, X_val = X.iloc[train_index], X.iloc[val_index]\n",
    "        y_train, y_val = y.iloc[train_index], y.iloc[val_index]\n",
    "        weights_train = sample_weight.iloc[train_index]\n",
    "        model_fold = clone(base_model)\n",
    "        model_fold.fit(X_train, y_train, sample_weight=weights_train)\n",
    "        y_pred = model_fold.predict(X_val)\n",
    "        return r2_score(y_val, y_pred)\n",
    "\n",
    "    scores = Parallel(n_jobs=-1)(\n",
    "        delayed(fold_score)(train_index, val_index)\n",
    "        for train_index, val_index in tscv.split(X)\n",
    "    )\n",
    "    \n",
    "    avg_r2 = np.mean(scores)\n",
    "\n",
    "    final_model = clone(base_model)\n",
    "    final_model.fit(X, y, sample_weight=sample_weight)\n",
    "    \n",
    "    return avg_r2, final_model"
   ]
  },
  {
   "cell_type": "code",
   "execution_count": 139,
   "id": "c26e1b28",
   "metadata": {},
   "outputs": [
    {
     "name": "stdout",
     "output_type": "stream",
     "text": [
      "Hist-Gradient-Boosting-Regressor R^2: -0.35561430596253507\n",
      "Hist-Gradient-Boosting-Regressor R^2: -0.1147044971008035\n",
      "Hist-Gradient-Boosting-Regressor R^2: -0.14250742030335364\n",
      "Hist-Gradient-Boosting-Regressor R^2: -0.08146742877336074\n",
      "Hist-Gradient-Boosting-Regressor R^2: -0.15451380355018546\n",
      "Hist-Gradient-Boosting-Regressor R^2: -0.1881802268701342\n"
     ]
    }
   ],
   "source": [
    "random.seed(3888)\n",
    "\n",
    "targets = [stock1, df_processed, df_complete, filtered_stock1, filtered_stock1_processed, filtered_stock1_complete]\n",
    "for i in range(len(targets)):\n",
    "    df = targets[i].copy()  \n",
    "\n",
    "    df.loc[:, \"midpoint\"] = (df[\"ask_price1\"] + df[\"bid_price1\"]) / 2\n",
    "    df.loc[:, \"bid_ask_spread\"] = df[\"ask_price1\"] - df[\"bid_price1\"]\n",
    "    df.loc[:, \"log_return\"] = np.log(df[\"midpoint\"]).diff()\n",
    "    df.loc[:, \"realized_volatility\"] = df[\"log_return\"].rolling(window=30).apply(\n",
    "        lambda x: np.sqrt(np.sum(x**2)), raw=True\n",
    "    )\n",
    "    df.dropna(inplace=True)\n",
    "\n",
    "    r2_hgb, hgb_model = evaluate_vol_prediction_hgb_cv(df, rolling_window = 30)\n",
    "    print(\"Hist-Gradient-Boosting-Regressor R^2:\", r2_hgb)"
   ]
  },
  {
   "cell_type": "code",
   "execution_count": 140,
   "id": "074257c3",
   "metadata": {},
   "outputs": [],
   "source": [
    "def evaluate_vol_prediction_xgb_cv(df, n_splits=5):\n",
    "\n",
    "    df = df.sort_values(by='time_id').reset_index(drop=True)\n",
    "    \n",
    "    numeric_cols = df.select_dtypes(include=[np.number]).columns.tolist()\n",
    "    target_col = 'realized_volatility'\n",
    "    exclude_cols = ['time_id', 'seconds_in_bucket', target_col]\n",
    "    feature_cols = [c for c in numeric_cols if c not in exclude_cols]\n",
    "\n",
    "    X = df[feature_cols].fillna(0)\n",
    "    y = df[target_col].fillna(0)\n",
    "    \n",
    "    epsilon = 1e-6\n",
    "    sample_weight = (df[\"bid_size1\"] + df[\"ask_size1\"]).clip(lower=epsilon)\n",
    "    \n",
    "    base_model = XGBRegressor(\n",
    "        n_estimators=500,\n",
    "        learning_rate=0.01,\n",
    "        max_depth=8,\n",
    "        random_state=3888,\n",
    "        early_stopping_rounds=20,\n",
    "        verbosity=0\n",
    "    )\n",
    "    \n",
    "    tscv = TimeSeriesSplit(n_splits=n_splits)\n",
    "    \n",
    "    def fold_score(train_index, val_index):\n",
    "        X_train, X_val = X.iloc[train_index], X.iloc[val_index]\n",
    "        y_train, y_val = y.iloc[train_index], y.iloc[val_index]\n",
    "        weights_train = sample_weight.iloc[train_index]\n",
    "        \n",
    "        model_fold = clone(base_model)\n",
    "        model_fold.fit(\n",
    "            X_train,\n",
    "            y_train, \n",
    "            sample_weight=weights_train,\n",
    "            eval_set=[(X_val, y_val)],\n",
    "            verbose=False\n",
    "        )\n",
    "        y_pred = model_fold.predict(X_val)\n",
    "        return r2_score(y_val, y_pred)\n",
    "    \n",
    "    scores = Parallel(n_jobs=-1)(\n",
    "        delayed(fold_score)(train_index, val_index)\n",
    "        for train_index, val_index in tscv.split(X)\n",
    "    )\n",
    "    \n",
    "    avg_r2 = np.mean(scores)\n",
    "    \n",
    "    final_model = clone(base_model)\n",
    "    final_model.set_params(early_stopping_rounds=None)  \n",
    "    final_model.fit(X, y, sample_weight=sample_weight)\n",
    "    \n",
    "    return avg_r2, final_model"
   ]
  },
  {
   "cell_type": "code",
   "execution_count": 141,
   "id": "35962b54",
   "metadata": {},
   "outputs": [
    {
     "name": "stdout",
     "output_type": "stream",
     "text": [
      "XGBoost Regressor R^2: 0.11946970790834321\n",
      "XGBoost Regressor R^2: 0.10281385111942332\n",
      "XGBoost Regressor R^2: 0.17526579074648085\n",
      "XGBoost Regressor R^2: 0.11736578497517633\n",
      "XGBoost Regressor R^2: 0.17458450946256013\n",
      "XGBoost Regressor R^2: 0.07457212611815962\n"
     ]
    }
   ],
   "source": [
    "random.seed(3888)\n",
    "\n",
    "targets = [stock1, df_processed, df_complete, filtered_stock1, filtered_stock1_processed, filtered_stock1_complete]\n",
    "for i in range(len(targets)):\n",
    "    df = targets[i].copy()  \n",
    "\n",
    "    df.loc[:, \"midpoint\"] = (df[\"ask_price1\"] + df[\"bid_price1\"]) / 2\n",
    "    df.loc[:, \"bid_ask_spread\"] = df[\"ask_price1\"] - df[\"bid_price1\"]\n",
    "    df.loc[:, \"log_return\"] = np.log(df[\"midpoint\"]).diff()\n",
    "    df.loc[:, \"realized_volatility\"] = df[\"log_return\"].rolling(window=30).apply(\n",
    "        lambda x: np.sqrt(np.sum(x**2)), raw=True\n",
    "    )\n",
    "    df.dropna(inplace=True)\n",
    "\n",
    "    r2_xgb, xgb_model = evaluate_vol_prediction_xgb_cv(df)\n",
    "    print(\"XGBoost Regressor R^2:\", r2_xgb)"
   ]
  },
  {
   "cell_type": "markdown",
   "id": "ea4b111e",
   "metadata": {},
   "source": [
    "## **Advanced Techniques**"
   ]
  },
  {
   "cell_type": "code",
   "execution_count": 142,
   "id": "9aab4a66",
   "metadata": {},
   "outputs": [
    {
     "name": "stderr",
     "output_type": "stream",
     "text": [
      "/var/folders/0s/bt69j7tj0pd5rl5dzr4n6bth0000gn/T/ipykernel_4823/2468549477.py:14: DeprecationWarning: DataFrameGroupBy.apply operated on the grouping columns. This behavior is deprecated, and in a future version of pandas the grouping columns will be excluded from the operation. Either pass `include_groups=False` to exclude the groupings or explicitly select the grouping columns after groupby to silence this warning.\n",
      "  df_linear = stock1.groupby('time_id', group_keys=False).apply(reindex_group_linear).reset_index(drop=True)\n"
     ]
    }
   ],
   "source": [
    "def reindex_group_linear(group):\n",
    "    # Set seconds_in_bucket as the index and create a complete index [0, 599]\n",
    "    group = group.set_index('seconds_in_bucket').sort_index()\n",
    "    complete_index = range(600)\n",
    "    group = group.reindex(complete_index)\n",
    "    # Fill forward the time_id\n",
    "    group['time_id'] = group['time_id'].ffill().astype(int)\n",
    "    # Interpolate numeric columns using linear interpolation (exclude key columns)\n",
    "    numeric_cols = group.select_dtypes(include=[np.number]).columns.drop('time_id')\n",
    "    group[numeric_cols] = group[numeric_cols].interpolate(method='linear')\n",
    "    return group.reset_index().rename(columns={'index': 'seconds_in_bucket'})\n",
    "\n",
    "# Apply by group\n",
    "df_linear = stock1.groupby('time_id', group_keys=False).apply(reindex_group_linear).reset_index(drop=True)"
   ]
  },
  {
   "cell_type": "code",
   "execution_count": 143,
   "id": "74efe90f",
   "metadata": {},
   "outputs": [
    {
     "name": "stderr",
     "output_type": "stream",
     "text": [
      "/var/folders/0s/bt69j7tj0pd5rl5dzr4n6bth0000gn/T/ipykernel_4823/1377138440.py:11: DeprecationWarning: DataFrameGroupBy.apply operated on the grouping columns. This behavior is deprecated, and in a future version of pandas the grouping columns will be excluded from the operation. Either pass `include_groups=False` to exclude the groupings or explicitly select the grouping columns after groupby to silence this warning.\n",
      "  df_polynomial = stock1.groupby('time_id', group_keys=False).apply(reindex_group_polynomial).reset_index(drop=True)\n"
     ]
    }
   ],
   "source": [
    "def reindex_group_polynomial(group, order=2):\n",
    "    group = group.set_index('seconds_in_bucket').sort_index()\n",
    "    complete_index = range(600)\n",
    "    group = group.reindex(complete_index)\n",
    "    group['time_id'] = group['time_id'].ffill().astype(int)\n",
    "    numeric_cols = group.select_dtypes(include=[np.number]).columns.drop('time_id')\n",
    "    # Use polynomial interpolation (specify the polynomial order)\n",
    "    group[numeric_cols] = group[numeric_cols].interpolate(method='polynomial', order=order)\n",
    "    return group.reset_index().rename(columns={'index': 'seconds_in_bucket'})\n",
    "\n",
    "df_polynomial = stock1.groupby('time_id', group_keys=False).apply(reindex_group_polynomial).reset_index(drop=True)"
   ]
  },
  {
   "cell_type": "code",
   "execution_count": 145,
   "id": "f5db6572",
   "metadata": {},
   "outputs": [
    {
     "name": "stderr",
     "output_type": "stream",
     "text": [
      "/var/folders/0s/bt69j7tj0pd5rl5dzr4n6bth0000gn/T/ipykernel_4823/609393790.py:12: DeprecationWarning: DataFrameGroupBy.apply operated on the grouping columns. This behavior is deprecated, and in a future version of pandas the grouping columns will be excluded from the operation. Either pass `include_groups=False` to exclude the groupings or explicitly select the grouping columns after groupby to silence this warning.\n",
      "  df_bayesian = stock1.groupby('time_id', group_keys=False).apply(process_group_bayesian).reset_index(drop=True)\n"
     ]
    }
   ],
   "source": [
    "def process_group_bayesian(group):\n",
    "    group = group.set_index('seconds_in_bucket').sort_index()\n",
    "    complete_index = range(600)\n",
    "    group = group.reindex(complete_index)\n",
    "    group['time_id'] = group['time_id'].ffill().astype(int)\n",
    "    # Exclude key columns from imputation\n",
    "    numeric_cols = group.select_dtypes(include=[np.number]).columns.drop('time_id')\n",
    "    imputer = IterativeImputer(estimator=BayesianRidge(), random_state=42)\n",
    "    group[numeric_cols] = imputer.fit_transform(group[numeric_cols])\n",
    "    return group.reset_index().rename(columns={'index': 'seconds_in_bucket'})\n",
    "\n",
    "df_bayesian = stock1.groupby('time_id', group_keys=False).apply(process_group_bayesian).reset_index(drop=True)"
   ]
  },
  {
   "cell_type": "code",
   "execution_count": null,
   "id": "1db86eef",
   "metadata": {},
   "outputs": [
    {
     "name": "stdout",
     "output_type": "stream",
     "text": [
      "Hist-Gradient-Boosting-Regressor R^2: -0.1214909670731916\n",
      "Hist-Gradient-Boosting-Regressor R^2: -0.33456724299704055\n",
      "Hist-Gradient-Boosting-Regressor R^2: -0.3985318901068383\n",
      "Hist-Gradient-Boosting-Regressor R^2: -0.3985318901068383\n"
     ]
    }
   ],
   "source": [
    "random.seed(3888)\n",
    "\n",
    "targets = [df_linear, df_polynomial, df_bayesian]\n",
    "for i in range(len(targets)):\n",
    "    df = targets[i].copy()  \n",
    "\n",
    "    df.loc[:, \"midpoint\"] = (df[\"ask_price1\"] + df[\"bid_price1\"]) / 2\n",
    "    df.loc[:, \"bid_ask_spread\"] = df[\"ask_price1\"] - df[\"bid_price1\"]\n",
    "    df.loc[:, \"log_return\"] = np.log(df[\"midpoint\"]).diff()\n",
    "    df.loc[:, \"realized_volatility\"] = df[\"log_return\"].rolling(window=30).apply(\n",
    "        lambda x: np.sqrt(np.sum(x**2)), raw=True\n",
    "    )\n",
    "    df.dropna(inplace=True)\n",
    "\n",
    "    r2_hgb, hgb_model = evaluate_vol_prediction_hgb_cv(df, rolling_window = 30)\n",
    "    print(\"Hist-Gradient-Boosting-Regressor R^2:\", r2_hgb)"
   ]
  },
  {
   "cell_type": "code",
   "execution_count": null,
   "id": "fb812568",
   "metadata": {},
   "outputs": [
    {
     "name": "stdout",
     "output_type": "stream",
     "text": [
      "XGBoost Regressor R^2: 0.0909668507862881\n",
      "XGBoost Regressor R^2: 0.14324382905768002\n",
      "XGBoost Regressor R^2: 0.38152862451684\n",
      "XGBoost Regressor R^2: 0.38152862451684\n"
     ]
    }
   ],
   "source": [
    "random.seed(3888)\n",
    "\n",
    "targets = [df_linear, df_polynomial, df_bayesian]\n",
    "for i in range(len(targets)):\n",
    "    df = targets[i].copy()  \n",
    "\n",
    "    df.loc[:, \"midpoint\"] = (df[\"ask_price1\"] + df[\"bid_price1\"]) / 2\n",
    "    df.loc[:, \"bid_ask_spread\"] = df[\"ask_price1\"] - df[\"bid_price1\"]\n",
    "    df.loc[:, \"log_return\"] = np.log(df[\"midpoint\"]).diff()\n",
    "    df.loc[:, \"realized_volatility\"] = df[\"log_return\"].rolling(window=30).apply(\n",
    "        lambda x: np.sqrt(np.sum(x**2)), raw=True\n",
    "    )\n",
    "    df.dropna(inplace=True)\n",
    "\n",
    "    r2_xgb, xgb_model = evaluate_vol_prediction_xgb_cv(df)\n",
    "    print(\"XGBoost Regressor R^2:\", r2_xgb)"
   ]
  },
  {
   "cell_type": "markdown",
   "id": "4b80c83f",
   "metadata": {},
   "source": [
    "## **Manual Feature Engineering**"
   ]
  },
  {
   "cell_type": "code",
   "execution_count": 149,
   "id": "ac948290",
   "metadata": {},
   "outputs": [],
   "source": [
    "stock1[\"midpoint\"] = (stock1[\"ask_price1\"] + stock1[\"bid_price1\"]) / 2\n",
    "stock1[\"bid_ask_spread\"] = stock1[\"ask_price1\"] - stock1[\"bid_price1\"]\n",
    "stock1[\"log_return\"] = np.log(stock1[\"midpoint\"]).diff()\n",
    "stock1[\"realized_volatility\"] = stock1[\"log_return\"].rolling(window=20).apply(\n",
    "    lambda x: np.sqrt(np.sum(x**2)), raw=True\n",
    ")\n",
    "stock1.dropna(inplace=True)"
   ]
  },
  {
   "cell_type": "code",
   "execution_count": 150,
   "id": "f8b2c1b3",
   "metadata": {},
   "outputs": [
    {
     "name": "stdout",
     "output_type": "stream",
     "text": [
      "    time_id  seconds_in_bucket  bid_price1  ask_price1  bid_price2  ask_price2  bid_size1  ask_size1  bid_size2  ask_size2  midpoint  bid_ask_spread  log_return  realized_volatility\n",
      "20        1                 21    1.001017    1.001870    1.000886    1.001936         26         24         25        100  1.001443        0.000853    0.000000             0.000234\n",
      "21        1                 22    1.001017    1.001870    1.000886    1.001936         27         24         25        100  1.001443        0.000853    0.000000             0.000225\n",
      "22        1                 23    1.001214    1.001870    1.001148    1.001936         25         24        125        100  1.001542        0.000656    0.000098             0.000207\n",
      "23        1                 24    1.001214    1.001870    1.001148    1.001936         33         24        125        100  1.001542        0.000656    0.000000             0.000197\n",
      "24        1                 25    1.001214    1.001870    1.001148    1.001936         33         24         25        100  1.001542        0.000656    0.000000             0.000194\n",
      "25        1                 27    1.001214    1.001870    1.001148    1.001936         25         24         25        100  1.001542        0.000656    0.000000             0.000191\n",
      "26        1                 28    1.002067    1.002592    1.002001    1.002723        400         36        125         35  1.002329        0.000525    0.000786             0.000808\n",
      "27        1                 29    1.002132    1.002723    1.002067    1.002788          2         35        100         27  1.002428        0.000591    0.000098             0.000813\n",
      "28        1                 30    1.002263    1.002788    1.002198    1.003116        100          1        225         26  1.002526        0.000525    0.000098             0.000819\n",
      "29        1                 31    1.002263    1.002788    1.002198    1.003116          8          1        125         26  1.002526        0.000525    0.000000             0.000819\n"
     ]
    }
   ],
   "source": [
    "print(stock1.head(n=10).to_string())"
   ]
  }
 ],
 "metadata": {
  "kernelspec": {
   "display_name": "Python 3",
   "language": "python",
   "name": "python3"
  },
  "language_info": {
   "codemirror_mode": {
    "name": "ipython",
    "version": 3
   },
   "file_extension": ".py",
   "mimetype": "text/x-python",
   "name": "python",
   "nbconvert_exporter": "python",
   "pygments_lexer": "ipython3",
   "version": "3.11.2"
  }
 },
 "nbformat": 4,
 "nbformat_minor": 5
}
